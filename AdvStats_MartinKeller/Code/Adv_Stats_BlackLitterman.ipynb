{
 "cells": [
  {
   "cell_type": "markdown",
   "id": "ad218ab5-aabc-45f4-8c2d-adc3ce7501eb",
   "metadata": {},
   "source": [
    "Importing all the libraries"
   ]
  },
  {
   "cell_type": "code",
   "execution_count": 167,
   "id": "913b4aea-87ea-420c-8569-787f45b9e928",
   "metadata": {},
   "outputs": [],
   "source": [
    "import pandas as pd\n",
    "import numpy as np\n",
    "import yfinance as yf \n",
    "import matplotlib.pyplot as plt\n",
    "import statsmodels.api as sm\n",
    "from IPython.display import display, Markdown\n",
    "import seaborn as sns\n",
    "from scipy.optimize import minimize\n",
    "from scipy.stats import gaussian_kde"
   ]
  },
  {
   "cell_type": "markdown",
   "id": "4b7b4b02-55be-450f-8866-267b17016f6f",
   "metadata": {},
   "source": [
    "Importing the class to download crypto data"
   ]
  },
  {
   "cell_type": "code",
   "execution_count": 3,
   "id": "71cad674-8979-4af8-8088-0c64b5dc64eb",
   "metadata": {},
   "outputs": [],
   "source": [
    "from cryptodatadownloader import CryptoDataDownloader"
   ]
  },
  {
   "cell_type": "markdown",
   "id": "dd3fecd7-1114-4839-81e7-6cca8a472574",
   "metadata": {},
   "source": [
    "-----"
   ]
  },
  {
   "cell_type": "markdown",
   "id": "aa002aa6-9eb8-4945-aba1-9f4ef8651009",
   "metadata": {},
   "source": [
    "Downloading Weekly crypto data"
   ]
  },
  {
   "cell_type": "code",
   "execution_count": 5,
   "id": "87996f5a-adef-474d-b21f-3a7aa2d51036",
   "metadata": {},
   "outputs": [
    {
     "name": "stdout",
     "output_type": "stream",
     "text": [
      "Rate limit hit for cardano. Waiting for 3 seconds before retrying...\n",
      "Rate limit hit for cardano. Waiting for 6 seconds before retrying...\n",
      "Rate limit hit for cardano. Waiting for 12 seconds before retrying...\n",
      "Rate limit hit for cardano. Waiting for 24 seconds before retrying...\n",
      "Rate limit hit for tron. Waiting for 3 seconds before retrying...\n",
      "Rate limit hit for tron. Waiting for 6 seconds before retrying...\n",
      "Rate limit hit for tron. Waiting for 12 seconds before retrying...\n",
      "Rate limit hit for tron. Waiting for 24 seconds before retrying...\n"
     ]
    }
   ],
   "source": [
    "tickers = [\"bitcoin\",\"ethereum\",\n",
    "            \"solana\",\"binancecoin\",\"ripple\",\n",
    "            \"cardano\",\"avalanche-2\",\"dogecoin\",\n",
    "            \"polkadot\",\"matic-network\",\"tron\",\n",
    "            \"chainlink\",\"litecoin\",\"cosmos\"] \n",
    "downloader = CryptoDataDownloader(tickers, 'usd')\n",
    "crypto_data = downloader.download_data('W')"
   ]
  },
  {
   "cell_type": "code",
   "execution_count": 6,
   "id": "78a5c45c-829f-449b-b15a-cccf4b65b75a",
   "metadata": {},
   "outputs": [
    {
     "data": {
      "text/plain": [
       "True"
      ]
     },
     "execution_count": 6,
     "metadata": {},
     "output_type": "execute_result"
    }
   ],
   "source": [
    "len(crypto_data) == len(tickers) #verifying that all the assets where downloaded"
   ]
  },
  {
   "cell_type": "code",
   "execution_count": 7,
   "id": "265728fd-2cac-4968-9d9a-b0b74aea3dfc",
   "metadata": {},
   "outputs": [
    {
     "data": {
      "text/html": [
       "<div>\n",
       "<style scoped>\n",
       "    .dataframe tbody tr th:only-of-type {\n",
       "        vertical-align: middle;\n",
       "    }\n",
       "\n",
       "    .dataframe tbody tr th {\n",
       "        vertical-align: top;\n",
       "    }\n",
       "\n",
       "    .dataframe thead th {\n",
       "        text-align: right;\n",
       "    }\n",
       "</style>\n",
       "<table border=\"1\" class=\"dataframe\">\n",
       "  <thead>\n",
       "    <tr style=\"text-align: right;\">\n",
       "      <th></th>\n",
       "      <th>W Average Price</th>\n",
       "      <th>W Average Market Cap</th>\n",
       "    </tr>\n",
       "    <tr>\n",
       "      <th>timestamp</th>\n",
       "      <th></th>\n",
       "      <th></th>\n",
       "    </tr>\n",
       "  </thead>\n",
       "  <tbody>\n",
       "    <tr>\n",
       "      <th>2013-04-28</th>\n",
       "      <td>135.300000</td>\n",
       "      <td>1.500518e+09</td>\n",
       "    </tr>\n",
       "    <tr>\n",
       "      <th>2013-05-05</th>\n",
       "      <td>116.677143</td>\n",
       "      <td>1.295729e+09</td>\n",
       "    </tr>\n",
       "  </tbody>\n",
       "</table>\n",
       "</div>"
      ],
      "text/plain": [
       "            W Average Price  W Average Market Cap\n",
       "timestamp                                        \n",
       "2013-04-28       135.300000          1.500518e+09\n",
       "2013-05-05       116.677143          1.295729e+09"
      ]
     },
     "execution_count": 7,
     "metadata": {},
     "output_type": "execute_result"
    }
   ],
   "source": [
    "crypto_data['bitcoin'].head(2) #example of how the downloaded data looks"
   ]
  },
  {
   "cell_type": "markdown",
   "id": "449da002-7838-4981-a406-efd6b667d456",
   "metadata": {},
   "source": [
    "-----"
   ]
  },
  {
   "cell_type": "markdown",
   "id": "ac6fe179-7aa4-4c2c-9964-1dd955bbaa92",
   "metadata": {},
   "source": [
    "## Preparing the Data"
   ]
  },
  {
   "cell_type": "markdown",
   "id": "ee8b14f7-a3f8-45c2-acef-aa64e3c35577",
   "metadata": {},
   "source": [
    "For this project, 170 weeks of return data will be used, the reason behind this number is that data for some assets is not available because the projects didn't exist yet. <br>\n",
    "The chosen assets have the highest market capitalization in the crypto ecosystem."
   ]
  },
  {
   "cell_type": "markdown",
   "id": "d1946156-cde7-46e2-9167-4c672d9cc796",
   "metadata": {},
   "source": [
    "Returns:"
   ]
  },
  {
   "cell_type": "code",
   "execution_count": 8,
   "id": "be0c4378-e493-48d9-8764-546c544d7bcb",
   "metadata": {},
   "outputs": [
    {
     "data": {
      "text/html": [
       "<div>\n",
       "<style scoped>\n",
       "    .dataframe tbody tr th:only-of-type {\n",
       "        vertical-align: middle;\n",
       "    }\n",
       "\n",
       "    .dataframe tbody tr th {\n",
       "        vertical-align: top;\n",
       "    }\n",
       "\n",
       "    .dataframe thead th {\n",
       "        text-align: right;\n",
       "    }\n",
       "</style>\n",
       "<table border=\"1\" class=\"dataframe\">\n",
       "  <thead>\n",
       "    <tr style=\"text-align: right;\">\n",
       "      <th></th>\n",
       "      <th>bitcoin</th>\n",
       "      <th>ethereum</th>\n",
       "      <th>solana</th>\n",
       "      <th>binancecoin</th>\n",
       "      <th>ripple</th>\n",
       "      <th>cardano</th>\n",
       "      <th>avalanche-2</th>\n",
       "      <th>dogecoin</th>\n",
       "      <th>polkadot</th>\n",
       "      <th>matic-network</th>\n",
       "      <th>tron</th>\n",
       "      <th>chainlink</th>\n",
       "      <th>litecoin</th>\n",
       "      <th>cosmos</th>\n",
       "    </tr>\n",
       "    <tr>\n",
       "      <th>timestamp</th>\n",
       "      <th></th>\n",
       "      <th></th>\n",
       "      <th></th>\n",
       "      <th></th>\n",
       "      <th></th>\n",
       "      <th></th>\n",
       "      <th></th>\n",
       "      <th></th>\n",
       "      <th></th>\n",
       "      <th></th>\n",
       "      <th></th>\n",
       "      <th></th>\n",
       "      <th></th>\n",
       "      <th></th>\n",
       "    </tr>\n",
       "  </thead>\n",
       "  <tbody>\n",
       "    <tr>\n",
       "      <th>2020-10-18</th>\n",
       "      <td>0.052589</td>\n",
       "      <td>0.064649</td>\n",
       "      <td>-0.036076</td>\n",
       "      <td>0.075612</td>\n",
       "      <td>-0.003923</td>\n",
       "      <td>0.095174</td>\n",
       "      <td>0.088985</td>\n",
       "      <td>0.003834</td>\n",
       "      <td>0.014634</td>\n",
       "      <td>-0.012674</td>\n",
       "      <td>0.015365</td>\n",
       "      <td>0.135796</td>\n",
       "      <td>0.047795</td>\n",
       "      <td>0.122406</td>\n",
       "    </tr>\n",
       "    <tr>\n",
       "      <th>2020-10-25</th>\n",
       "      <td>0.087355</td>\n",
       "      <td>0.044497</td>\n",
       "      <td>-0.151631</td>\n",
       "      <td>-0.007025</td>\n",
       "      <td>0.003652</td>\n",
       "      <td>0.001855</td>\n",
       "      <td>-0.026796</td>\n",
       "      <td>-0.003341</td>\n",
       "      <td>0.001252</td>\n",
       "      <td>-0.031438</td>\n",
       "      <td>0.000961</td>\n",
       "      <td>0.040000</td>\n",
       "      <td>0.055564</td>\n",
       "      <td>-0.064307</td>\n",
       "    </tr>\n",
       "  </tbody>\n",
       "</table>\n",
       "</div>"
      ],
      "text/plain": [
       "             bitcoin  ethereum    solana  binancecoin    ripple   cardano  \\\n",
       "timestamp                                                                   \n",
       "2020-10-18  0.052589  0.064649 -0.036076     0.075612 -0.003923  0.095174   \n",
       "2020-10-25  0.087355  0.044497 -0.151631    -0.007025  0.003652  0.001855   \n",
       "\n",
       "            avalanche-2  dogecoin  polkadot  matic-network      tron  \\\n",
       "timestamp                                                              \n",
       "2020-10-18     0.088985  0.003834  0.014634      -0.012674  0.015365   \n",
       "2020-10-25    -0.026796 -0.003341  0.001252      -0.031438  0.000961   \n",
       "\n",
       "            chainlink  litecoin    cosmos  \n",
       "timestamp                                  \n",
       "2020-10-18   0.135796  0.047795  0.122406  \n",
       "2020-10-25   0.040000  0.055564 -0.064307  "
      ]
     },
     "execution_count": 8,
     "metadata": {},
     "output_type": "execute_result"
    }
   ],
   "source": [
    "returns_df = pd.DataFrame()\n",
    "for ticker in tickers:\n",
    "    returns_df[ticker] = crypto_data[ticker].loc[:,'W Average Price'].tail(171).pct_change()[1:]\n",
    "returns_df.head(2)"
   ]
  },
  {
   "cell_type": "code",
   "execution_count": 9,
   "id": "ae226f8b-0f00-4476-8323-a8ff54026f03",
   "metadata": {},
   "outputs": [
    {
     "data": {
      "text/plain": [
       "(170, 14)"
      ]
     },
     "execution_count": 9,
     "metadata": {},
     "output_type": "execute_result"
    }
   ],
   "source": [
    "returns_df.shape"
   ]
  },
  {
   "cell_type": "markdown",
   "id": "94ac42a4-9daa-4df3-9d8c-de57a17c9de6",
   "metadata": {},
   "source": [
    "Covariance Matrix: To annualize the covariance matrix calculated from weekly returns, you multiply it by a scaling factor. Since there are typically 52 weeks in a year, the scaling factor is 52. This assumes that returns are independent and identically distributed over time."
   ]
  },
  {
   "cell_type": "code",
   "execution_count": 16,
   "id": "4e4dfa74-4a44-4410-9e3c-bdc6b4ff7781",
   "metadata": {
    "tags": []
   },
   "outputs": [
    {
     "data": {
      "image/png": "[encoded data removed]",
      "text/plain": [
       "<Figure size 500x500 with 2 Axes>"
      ]
     },
     "metadata": {},
     "output_type": "display_data"
    }
   ],
   "source": [
    "sigma = returns_df.cov()\n",
    "# Visualize the covariance matrix\n",
    "sns.set(style=\"white\")\n",
    "\n",
    "# Set up the matplotlib figure\n",
    "f, ax = plt.subplots(figsize=(5, 5))\n",
    "\n",
    "\n",
    "# Draw the heatmap with the mask and correct aspect ratio\n",
    "sns.heatmap(sigma*52,  vmax=.3, center=0,\n",
    "            square=True, linewidths=.5, cbar_kws={\"shrink\": .5}, annot=False)\n",
    "\n",
    "plt.show()"
   ]
  },
  {
   "cell_type": "markdown",
   "id": "6e5ef94b-1bfc-41d9-8ff3-29aab9b1c2e2",
   "metadata": {},
   "source": [
    "------"
   ]
  },
  {
   "cell_type": "markdown",
   "id": "fcd54e26-efc7-4449-bda0-b65049c4ce7c",
   "metadata": {},
   "source": [
    "Risk Free Rate"
   ]
  },
  {
   "cell_type": "markdown",
   "id": "5c7122d3-b291-4735-acc0-c94091fc969b",
   "metadata": {},
   "source": [
    "For this project, the risk-free rate will be used for computations such as CAPM and Sharpe ratio. It will be assumed 0, for simplicity."
   ]
  },
  {
   "cell_type": "code",
   "execution_count": 17,
   "id": "46fe3795-50cd-4697-9ba8-a8fb25327c15",
   "metadata": {},
   "outputs": [
    {
     "data": {
      "text/plain": [
       "0"
      ]
     },
     "execution_count": 17,
     "metadata": {},
     "output_type": "execute_result"
    }
   ],
   "source": [
    "rf = 0\n",
    "rf"
   ]
  },
  {
   "cell_type": "markdown",
   "id": "b87999f1-dc50-4452-a2ad-4a4700597896",
   "metadata": {},
   "source": [
    "----------"
   ]
  },
  {
   "cell_type": "markdown",
   "id": "476667e4-0685-492d-8080-1ab5961f6eba",
   "metadata": {},
   "source": [
    "## Getting Implied Equilibrium Returns: the Prior"
   ]
  },
  {
   "cell_type": "markdown",
   "id": "9f8389ba-6537-4f0d-8449-7f9da12481fd",
   "metadata": {},
   "source": [
    "The Black-Litterman model starts with what's called \"equilibrium returns.\" \n",
    "These are the returns needed to balance the market. \n",
    "To find these returns, a method called reverse optimization is used. \n",
    "This method takes known information and uses a special formula (1) to figure out the equilibrium returns."
   ]
  },
  {
   "cell_type": "markdown",
   "id": "117a395f-a4d4-43e3-add2-f6fab36cfee4",
   "metadata": {},
   "source": [
    "$$\n",
    "\\Pi = \\lambda \\Sigma \\mathbf{w}_{\\text{mkt}}\\tag{1}\n",
    "$$                \n",
    "where \n",
    "- $\\Pi$ is the Implied Excess Equilibrium Return Vector (N x 1 column vector),\n",
    "- $\\lambda$ is the risk aversion coefficient,\n",
    "- $\\Sigma$ is the covariance matrix of excess returns (N x N matrix), and\n",
    "- $\\mathbf{w}_{\\text{mkt}}$ is the market capitalization weight (N x 1 column vector) of the assets.\n"
   ]
  },
  {
   "cell_type": "markdown",
   "id": "6a3db7cb-6eed-4734-be20-df372f547554",
   "metadata": {},
   "source": [
    "Writings about the Black-Litterman Model frequently mention that the Implied Equilibrium Return Vector (Π) corresponds to the CAPM returns vector. However, it is important to note that this is the case only if the CAPM returns vector is based on implied betas. When you calculate CAPM returns using these implied betas, which are relative to a portfolio weighted by market capitalization, they align with the reverse optimized return vector.\\\n",
    "This is the method that will be used."
   ]
  },
  {
   "cell_type": "markdown",
   "id": "296a1843-3672-4ee3-9ed7-7e1f6e44846f",
   "metadata": {},
   "source": [
    "--------"
   ]
  },
  {
   "cell_type": "markdown",
   "id": "ee1eec4d-ed95-42d9-9115-b28b402bb733",
   "metadata": {},
   "source": [
    "Computing Market Capitalization Weights"
   ]
  },
  {
   "cell_type": "markdown",
   "id": "0346196d-2f80-4971-b82d-12e89684ea15",
   "metadata": {},
   "source": [
    "$$\n",
    "\\mathbf{w}_{\\text{mkt_i}} = \\frac{\\text{Average Market Cap of Asset } i}{\\sum_{j=1}^{n} \\text{Average Market Cap of Asset } j}\n",
    "$$\n"
   ]
  },
  {
   "cell_type": "code",
   "execution_count": 18,
   "id": "e7019929-e139-4365-8a8e-d9c27bcfaadc",
   "metadata": {},
   "outputs": [],
   "source": [
    "total_mktcap = 0\n",
    "for ticker in tickers:\n",
    "    total_mktcap=total_mktcap + np.mean(crypto_data[ticker].loc[:,'W Average Market Cap'].tail(171))\n",
    "\n",
    "\n",
    "w_mktcap = pd.DataFrame()\n",
    "for ticker in tickers:\n",
    "    avg_mktcap = np.mean(crypto_data[ticker]['W Average Market Cap'].tail(171))\n",
    "    w_mktcap.loc[ticker, 'MktCap Weight', ] = avg_mktcap / total_mktcap    "
   ]
  },
  {
   "cell_type": "code",
   "execution_count": 19,
   "id": "d3b3b79d-aedd-4ae0-a493-288ce4f0ee20",
   "metadata": {},
   "outputs": [
    {
     "data": {
      "text/html": [
       "<div>\n",
       "<style scoped>\n",
       "    .dataframe tbody tr th:only-of-type {\n",
       "        vertical-align: middle;\n",
       "    }\n",
       "\n",
       "    .dataframe tbody tr th {\n",
       "        vertical-align: top;\n",
       "    }\n",
       "\n",
       "    .dataframe thead th {\n",
       "        text-align: right;\n",
       "    }\n",
       "</style>\n",
       "<table border=\"1\" class=\"dataframe\">\n",
       "  <thead>\n",
       "    <tr style=\"text-align: right;\">\n",
       "      <th></th>\n",
       "      <th>MktCap Weight</th>\n",
       "    </tr>\n",
       "  </thead>\n",
       "  <tbody>\n",
       "    <tr>\n",
       "      <th>bitcoin</th>\n",
       "      <td>0.594589</td>\n",
       "    </tr>\n",
       "    <tr>\n",
       "      <th>ethereum</th>\n",
       "      <td>0.227982</td>\n",
       "    </tr>\n",
       "    <tr>\n",
       "      <th>solana</th>\n",
       "      <td>0.015973</td>\n",
       "    </tr>\n",
       "    <tr>\n",
       "      <th>binancecoin</th>\n",
       "      <td>0.044789</td>\n",
       "    </tr>\n",
       "    <tr>\n",
       "      <th>ripple</th>\n",
       "      <td>0.027619</td>\n",
       "    </tr>\n",
       "    <tr>\n",
       "      <th>cardano</th>\n",
       "      <td>0.023560</td>\n",
       "    </tr>\n",
       "    <tr>\n",
       "      <th>avalanche-2</th>\n",
       "      <td>0.007068</td>\n",
       "    </tr>\n",
       "    <tr>\n",
       "      <th>dogecoin</th>\n",
       "      <td>0.014431</td>\n",
       "    </tr>\n",
       "    <tr>\n",
       "      <th>polkadot</th>\n",
       "      <td>0.014329</td>\n",
       "    </tr>\n",
       "    <tr>\n",
       "      <th>matic-network</th>\n",
       "      <td>0.006508</td>\n",
       "    </tr>\n",
       "    <tr>\n",
       "      <th>tron</th>\n",
       "      <td>0.005660</td>\n",
       "    </tr>\n",
       "    <tr>\n",
       "      <th>chainlink</th>\n",
       "      <td>0.006324</td>\n",
       "    </tr>\n",
       "    <tr>\n",
       "      <th>litecoin</th>\n",
       "      <td>0.007215</td>\n",
       "    </tr>\n",
       "    <tr>\n",
       "      <th>cosmos</th>\n",
       "      <td>0.003953</td>\n",
       "    </tr>\n",
       "  </tbody>\n",
       "</table>\n",
       "</div>"
      ],
      "text/plain": [
       "               MktCap Weight\n",
       "bitcoin             0.594589\n",
       "ethereum            0.227982\n",
       "solana              0.015973\n",
       "binancecoin         0.044789\n",
       "ripple              0.027619\n",
       "cardano             0.023560\n",
       "avalanche-2         0.007068\n",
       "dogecoin            0.014431\n",
       "polkadot            0.014329\n",
       "matic-network       0.006508\n",
       "tron                0.005660\n",
       "chainlink           0.006324\n",
       "litecoin            0.007215\n",
       "cosmos              0.003953"
      ]
     },
     "execution_count": 19,
     "metadata": {},
     "output_type": "execute_result"
    }
   ],
   "source": [
    "w_mktcap"
   ]
  },
  {
   "cell_type": "markdown",
   "id": "62f85ac9-f2b6-4289-8b66-701723a51306",
   "metadata": {},
   "source": [
    "---------"
   ]
  },
  {
   "cell_type": "markdown",
   "id": "1dd9e004-0eb1-4956-88f8-8e59837ec12e",
   "metadata": {},
   "source": [
    "#### Computing Market Capitalization-Weighted portfolio returns"
   ]
  },
  {
   "cell_type": "code",
   "execution_count": 13,
   "id": "3b1c842f-d424-4115-b6e6-9fa96a752e45",
   "metadata": {},
   "outputs": [
    {
     "data": {
      "text/plain": [
       "(14, 1)"
      ]
     },
     "execution_count": 13,
     "metadata": {},
     "output_type": "execute_result"
    }
   ],
   "source": [
    "w_mktcap.shape"
   ]
  },
  {
   "cell_type": "code",
   "execution_count": 14,
   "id": "15bc73c2-e3da-4da0-8687-5b0e415e6000",
   "metadata": {},
   "outputs": [
    {
     "data": {
      "text/plain": [
       "(170, 14)"
      ]
     },
     "execution_count": 14,
     "metadata": {},
     "output_type": "execute_result"
    }
   ],
   "source": [
    "returns_df.shape"
   ]
  },
  {
   "cell_type": "code",
   "execution_count": 20,
   "id": "eb2bd302-f901-4b30-b411-1300db7df130",
   "metadata": {
    "tags": []
   },
   "outputs": [
    {
     "data": {
      "text/html": [
       "<div>\n",
       "<style scoped>\n",
       "    .dataframe tbody tr th:only-of-type {\n",
       "        vertical-align: middle;\n",
       "    }\n",
       "\n",
       "    .dataframe tbody tr th {\n",
       "        vertical-align: top;\n",
       "    }\n",
       "\n",
       "    .dataframe thead th {\n",
       "        text-align: right;\n",
       "    }\n",
       "</style>\n",
       "<table border=\"1\" class=\"dataframe\">\n",
       "  <thead>\n",
       "    <tr style=\"text-align: right;\">\n",
       "      <th></th>\n",
       "      <th>Return</th>\n",
       "    </tr>\n",
       "    <tr>\n",
       "      <th>timestamp</th>\n",
       "      <th></th>\n",
       "    </tr>\n",
       "  </thead>\n",
       "  <tbody>\n",
       "    <tr>\n",
       "      <th>2020-10-18</th>\n",
       "      <td>0.053538</td>\n",
       "    </tr>\n",
       "    <tr>\n",
       "      <th>2020-10-25</th>\n",
       "      <td>0.059474</td>\n",
       "    </tr>\n",
       "    <tr>\n",
       "      <th>2020-11-01</th>\n",
       "      <td>0.040873</td>\n",
       "    </tr>\n",
       "    <tr>\n",
       "      <th>2020-11-08</th>\n",
       "      <td>0.051841</td>\n",
       "    </tr>\n",
       "    <tr>\n",
       "      <th>2020-11-15</th>\n",
       "      <td>0.093746</td>\n",
       "    </tr>\n",
       "  </tbody>\n",
       "</table>\n",
       "</div>"
      ],
      "text/plain": [
       "              Return\n",
       "timestamp           \n",
       "2020-10-18  0.053538\n",
       "2020-10-25  0.059474\n",
       "2020-11-01  0.040873\n",
       "2020-11-08  0.051841\n",
       "2020-11-15  0.093746"
      ]
     },
     "execution_count": 20,
     "metadata": {},
     "output_type": "execute_result"
    }
   ],
   "source": [
    "mktcap_portfolio = returns_df@w_mktcap\n",
    "mktcap_portfolio.columns = ['Return']\n",
    "mktcap_portfolio.head()"
   ]
  },
  {
   "cell_type": "markdown",
   "id": "225a93ef-406d-429f-a3f3-0f336c38e2bb",
   "metadata": {},
   "source": [
    "Expected Return:"
   ]
  },
  {
   "cell_type": "code",
   "execution_count": 21,
   "id": "7e5a22db-a3f2-4211-892d-727a6d2f5b49",
   "metadata": {},
   "outputs": [
    {
     "name": "stderr",
     "output_type": "stream",
     "text": [
      "C:\\Users\\Martin\\anaconda3\\lib\\site-packages\\numpy\\core\\fromnumeric.py:3472: FutureWarning: In a future version, DataFrame.mean(axis=None) will return a scalar mean over the entire DataFrame. To retain the old behavior, use 'frame.mean(axis=0)' or just 'frame.mean()'\n",
      "  return mean(axis=axis, dtype=dtype, out=out, **kwargs)\n"
     ]
    },
    {
     "data": {
      "text/plain": [
       "Return    0.013995\n",
       "dtype: float64"
      ]
     },
     "execution_count": 21,
     "metadata": {},
     "output_type": "execute_result"
    }
   ],
   "source": [
    "avg_mktcap_portfolio = np.mean(mktcap_portfolio)\n",
    "avg_mktcap_portfolio"
   ]
  },
  {
   "cell_type": "markdown",
   "id": "74b3e0fb-3e97-490c-9d41-4face78029d4",
   "metadata": {},
   "source": [
    "-----------"
   ]
  },
  {
   "cell_type": "markdown",
   "id": "b40b17f7-ba91-4290-b411-d748b5bdf132",
   "metadata": {},
   "source": [
    "#### Computing the Implied Betas"
   ]
  },
  {
   "cell_type": "markdown",
   "id": "e8c047f5-e723-4511-b504-7e946f673b72",
   "metadata": {},
   "source": [
    "The Implied Betas are the Betas of the N assets relative to the market cap- weighted portfolio."
   ]
  },
  {
   "cell_type": "markdown",
   "id": "3167c228-7c8a-4bd8-8a45-52cff19034a0",
   "metadata": {},
   "source": [
    "$$\n",
    "\\beta = \\frac{\\Sigma w_{\\text{mkt}}}{w_{\\text{mkt}}^T \\Sigma w_{\\text{mkt}}} = \\frac{\\Sigma w_{\\text{mkt}}}{\\sigma^2}\n",
    "$$\n",
    "\n",
    "where\n",
    "\n",
    "- $\\beta$ is the vector of implied betas (N,1);\n",
    "- $\\Sigma$ is the covariance matrix of excess returns (N,N);\n",
    "- $w_{\\text{mkt}}$ is the market capitalization weights (N,1); and,\n",
    "- $\\sigma^2 = w_{\\text{mkt}}^T \\Sigma w_{\\text{mkt}} = \\frac{1}{\\beta^T \\Sigma^{-1} \\beta}$ is the variance of the market (or benchmark) excess returns.\n"
   ]
  },
  {
   "cell_type": "code",
   "execution_count": 22,
   "id": "11c5f285-657d-4523-ab24-ade88a71d04d",
   "metadata": {},
   "outputs": [
    {
     "data": {
      "text/plain": [
       "array([[0.92],\n",
       "       [1.1 ],\n",
       "       [1.3 ],\n",
       "       [1.12],\n",
       "       [0.89],\n",
       "       [1.17],\n",
       "       [1.56],\n",
       "       [1.53],\n",
       "       [1.09],\n",
       "       [1.23],\n",
       "       [0.72],\n",
       "       [0.99],\n",
       "       [1.02],\n",
       "       [0.98]])"
      ]
     },
     "execution_count": 22,
     "metadata": {},
     "output_type": "execute_result"
    }
   ],
   "source": [
    "implied_beta = (np.array(sigma)@np.array(w_mktcap))/(np.array(w_mktcap.T)@np.array(sigma)@np.array(w_mktcap))\n",
    "np.round(implied_beta, 2)"
   ]
  },
  {
   "cell_type": "markdown",
   "id": "a6da486e-7c36-4f83-bc64-f4ff17be787a",
   "metadata": {},
   "source": [
    "--------"
   ]
  },
  {
   "cell_type": "markdown",
   "id": "cf7e3806-e02d-49cb-b169-d87e039b9f6c",
   "metadata": {},
   "source": [
    "CAPM relative to the market capitalization-weighted portfolio"
   ]
  },
  {
   "cell_type": "markdown",
   "id": "c49d27cf-a3c7-4c41-a71d-b504df3bd2dd",
   "metadata": {},
   "source": [
    "The Capital Asset Pricing Model (CAPM) is given by the formula:\n",
    "\n",
    "$$\n",
    "E(R_i) = R_f + \\beta_i (E(R_m) - R_f)\n",
    "$$\n",
    "\n",
    "where:\n",
    "- $ E(R_i)$ is the expected return on asset i,\n",
    "- $ R_f$ is the risk-free rate of return,\n",
    "- $ \\beta_i $ is the beta of the asset,\n",
    "- $E(R_m) $ is the expected return of the market.\n"
   ]
  },
  {
   "cell_type": "markdown",
   "id": "3c4342d3-95a1-4133-8cb5-0230c976b59a",
   "metadata": {},
   "source": [
    "The $ \\beta_i $ will correspond in this case to the implied beta of asset i. \\\n",
    "By applying the formula to the data, we get the Implied Return Vector:"
   ]
  },
  {
   "cell_type": "code",
   "execution_count": 23,
   "id": "640cb000-7778-4a8b-a20b-3b90235c80ae",
   "metadata": {},
   "outputs": [
    {
     "name": "stdout",
     "output_type": "stream",
     "text": [
      "bitcoin          1.29\n",
      "ethereum         1.54\n",
      "solana           1.82\n",
      "binancecoin      1.56\n",
      "ripple           1.25\n",
      "cardano          1.64\n",
      "avalanche-2      2.18\n",
      "dogecoin         2.14\n",
      "polkadot         1.53\n",
      "matic-network    1.72\n",
      "tron             1.01\n",
      "chainlink        1.39\n",
      "litecoin         1.42\n",
      "cosmos           1.37\n",
      "Name: Implied Return, dtype: float64\n"
     ]
    }
   ],
   "source": [
    "implied_return = pd.DataFrame(index=tickers, columns=['Implied Return'])\n",
    "\n",
    "for i, ticker in enumerate(tickers):\n",
    "    implied_return.loc[ticker, 'Implied Return'] = float(rf + implied_beta[i] * (float(avg_mktcap_portfolio) - rf))\n",
    "\n",
    "print(implied_return['Implied Return'].apply(lambda x: round(x, 4)*100))"
   ]
  },
  {
   "cell_type": "markdown",
   "id": "43551bbe-713b-4152-a881-622d2328f2e2",
   "metadata": {},
   "source": [
    "-------"
   ]
  },
  {
   "cell_type": "markdown",
   "id": "1b50175b-c47e-4b70-a6c8-18868e58ce8c",
   "metadata": {},
   "source": [
    "Recommended Portfolio Weights"
   ]
  },
  {
   "cell_type": "markdown",
   "id": "f38a5047-9719-433b-b17b-b87494a3a69c",
   "metadata": {},
   "source": [
    "From $\\Pi = \\lambda \\Sigma w_{\\text{mkt}}$, we can substitute $\\Pi$ (Implied Return Vector) for $\\mu$, which represents any vector of excess returns.\n",
    "\n",
    "We get:\n",
    "\n",
    "$$\n",
    "w = (\\lambda \\Sigma)^{-1} \\mu \\quad (2)\n",
    "$$\n",
    "\n",
    "Which is the solution to the unconstrained maximization problem:\n",
    "\n",
    "$$\n",
    "\\max_w w' \\mu - \\frac{\\lambda}{2} w' \\Sigma w\n",
    "$$\n",
    "\n",
    "if $ \\mu = \\Pi, w = w_{\\text{mkt}}$."
   ]
  },
  {
   "cell_type": "markdown",
   "id": "7eaebd5f-d5b5-4796-b70e-40e0928ec62b",
   "metadata": {},
   "source": [
    "The risk-aversion coefficient (λ ) characterizes the expected risk-return tradeoff: \n",
    "$$\n",
    "\\lambda = \\frac{E(r) - r_f}{\\sigma^2}\n",
    "$$\n",
    "\n",
    "where\n",
    "\n",
    "- $E(r)$ is the expected market cap-weighted portfolio return,\n",
    "- $r_f$ is the risk-free rate,\n",
    "- $\\sigma^2 = w_{\\text{mkt}}^T \\Sigma w_{\\text{mkt}}$  is the variance of the market market cap-weighted portfolio excess returns."
   ]
  },
  {
   "cell_type": "markdown",
   "id": "7494846e-3955-453a-9bdd-0f13c6426730",
   "metadata": {},
   "source": [
    "Based on the previous information, we can compute $\\lambda$ and then the recommended weights:"
   ]
  },
  {
   "cell_type": "code",
   "execution_count": 24,
   "id": "b504874a-61c1-4cd9-a1b1-9152a642728b",
   "metadata": {},
   "outputs": [
    {
     "data": {
      "text/plain": [
       "2.1579"
      ]
     },
     "execution_count": 24,
     "metadata": {},
     "output_type": "execute_result"
    }
   ],
   "source": [
    "lam = float( (float(avg_mktcap_portfolio) - rf )/float((np.array(w_mktcap.T)@np.array(sigma)@np.array(w_mktcap))))\n",
    "round(lam,4)"
   ]
  },
  {
   "cell_type": "code",
   "execution_count": 25,
   "id": "2fcc0e39-1577-43e5-93b5-0414eff98703",
   "metadata": {},
   "outputs": [
    {
     "name": "stdout",
     "output_type": "stream",
     "text": [
      "               Weight Based on Implied Equilibrium Return Vector \n",
      "bitcoin                                                   0.5946 \n",
      "ethereum                                                  0.2280 \n",
      "solana                                                    0.0160 \n",
      "binancecoin                                               0.0448 \n",
      "ripple                                                    0.0276 \n",
      "cardano                                                   0.0236 \n",
      "avalanche-2                                               0.0071 \n",
      "dogecoin                                                  0.0144 \n",
      "polkadot                                                  0.0143 \n",
      "matic-network                                             0.0065 \n",
      "tron                                                      0.0057 \n",
      "chainlink                                                 0.0063 \n",
      "litecoin                                                  0.0072 \n",
      "cosmos                                                    0.0040 \n"
     ]
    }
   ],
   "source": [
    "weights_pi = np.linalg.inv(lam*np.array(sigma))@np.array(implied_return)\n",
    "print(pd.DataFrame(np.around(weights_pi.astype(float),4), index=tickers, columns= ['Weight Based on Implied Equilibrium Return Vector ']))"
   ]
  },
  {
   "cell_type": "markdown",
   "id": "27e344f7-a94e-43f4-b826-5f4e6ba3cefd",
   "metadata": {},
   "source": [
    "-------"
   ]
  },
  {
   "cell_type": "markdown",
   "id": "947ca638-a1ce-4251-b883-3075eff1fb6a",
   "metadata": {},
   "source": [
    "### Comparison with other methods: Historical & BITWISE CAPM"
   ]
  },
  {
   "cell_type": "markdown",
   "id": "7f18e3c5-acc4-4a62-a14c-bc1664696f0b",
   "metadata": {},
   "source": [
    "------"
   ]
  },
  {
   "cell_type": "markdown",
   "id": "9ac108be-d789-40db-bf0f-286ea233028a",
   "metadata": {},
   "source": [
    "Historical mu:"
   ]
  },
  {
   "cell_type": "code",
   "execution_count": 26,
   "id": "47511c7e-5495-4088-93b4-b07b9d194df8",
   "metadata": {},
   "outputs": [
    {
     "name": "stdout",
     "output_type": "stream",
     "text": [
      "                     mu\n",
      "bitcoin        0.011433\n",
      "ethereum       0.015719\n",
      "solana         0.034832\n",
      "binancecoin    0.020664\n",
      "ripple         0.013649\n",
      "cardano        0.016812\n",
      "avalanche-2    0.029241\n",
      "dogecoin       0.039573\n",
      "polkadot       0.009766\n",
      "matic-network  0.035183\n",
      "tron           0.011975\n",
      "chainlink      0.007940\n",
      "litecoin       0.007029\n",
      "cosmos         0.010832\n"
     ]
    }
   ],
   "source": [
    "historical_df = pd.DataFrame()\n",
    "for ticker in tickers:\n",
    "    historical_df.loc[ticker, 'mu'] = np.mean(returns_df[ticker])\n",
    "print(historical_df)"
   ]
  },
  {
   "cell_type": "markdown",
   "id": "66e5c47f-2a35-4f4c-85a4-ddea9a43ed7c",
   "metadata": {},
   "source": [
    "Weights using formula (2):"
   ]
  },
  {
   "cell_type": "code",
   "execution_count": 27,
   "id": "63f0237b-c0dd-4fd9-9a68-e9dffd77a364",
   "metadata": {},
   "outputs": [],
   "source": [
    "weights_historical = np.linalg.inv(lam*np.array(sigma))@np.array(historical_df)"
   ]
  },
  {
   "cell_type": "markdown",
   "id": "de39e786-e0df-409d-ad77-a434f33d39fb",
   "metadata": {},
   "source": [
    "------"
   ]
  },
  {
   "cell_type": "markdown",
   "id": "275552b8-dbba-4df3-b658-c77b72d2780e",
   "metadata": {},
   "source": [
    "CAPM relative to BITWISE index"
   ]
  },
  {
   "cell_type": "markdown",
   "id": "e99d79c4-5160-4b19-b2d7-36bdab6ec209",
   "metadata": {},
   "source": [
    "The Bitwise 10 Crypto Index Fund, marked with the ticker “BITW,” offers a secure way to gain diversified exposure to Bitcoin and other leading cryptocurrencies. It aims to track an index consisting of the 10 most highly valued cryptocurrencies, which are selected based on market capitalization.  As of December 27, 2023, the fund's major holdings included Bitcoin, Ethereum, Solana, XRP, Cardano, Avalanche, Polkadot, Polygon, Chainlink, and Litecoin, with Bitcoin making up 66% of the portfolio."
   ]
  },
  {
   "cell_type": "code",
   "execution_count": 29,
   "id": "bdb965fe-cc00-4f24-8cfb-8e204859a126",
   "metadata": {},
   "outputs": [],
   "source": [
    "# Loading the data into a DataFrame\n",
    "bitwise_df = pd.read_csv('MVDA10_history.txt', sep=';', parse_dates=['date'], index_col='date')"
   ]
  },
  {
   "cell_type": "code",
   "execution_count": 30,
   "id": "3595e8c2-9430-444a-b22c-e6af59df404f",
   "metadata": {},
   "outputs": [],
   "source": [
    "weekly_mkt_returns = bitwise_df['MVDA10'].resample('W').ffill().pct_change()[1:]"
   ]
  },
  {
   "cell_type": "code",
   "execution_count": 31,
   "id": "7e483771-017f-448a-8ceb-2a4abdcd0625",
   "metadata": {},
   "outputs": [],
   "source": [
    "beta = pd.DataFrame()\n",
    "for ticker in tickers:\n",
    "    Y = returns_df[ticker] - rf\n",
    "    market_excess = weekly_mkt_returns.tail(170) - rf\n",
    "    # Make sure both Series are aligned by index before regression\n",
    "    aligned_Y, aligned_market_excess = Y.align(market_excess, join='inner')\n",
    "    # Adding a constant for regression\n",
    "    X = sm.add_constant(aligned_market_excess)\n",
    "    # Fit the model\n",
    "    model = sm.OLS(aligned_Y, X).fit()\n",
    "    # Store the beta coefficient\n",
    "    beta.loc[ticker, 'Beta'] = model.params[1]\n",
    "beta=beta['Beta']    "
   ]
  },
  {
   "cell_type": "code",
   "execution_count": 42,
   "id": "01572c6b-70e5-44d8-9580-2c74b1f502f2",
   "metadata": {},
   "outputs": [],
   "source": [
    "capm_returns = pd.DataFrame()\n",
    "for ticker in tickers:\n",
    "    capm_returns.loc[ticker, 'MVDA10 CAPM'] = rf + beta[ticker]*(np.mean(weekly_mkt_returns.tail(170))-rf)"
   ]
  },
  {
   "cell_type": "markdown",
   "id": "09a1530c-a126-449d-aeeb-33eb32b3d0cb",
   "metadata": {},
   "source": [
    "Weights using (2):"
   ]
  },
  {
   "cell_type": "code",
   "execution_count": 33,
   "id": "ad642895-a1d4-45ba-9009-5a3bbab8a879",
   "metadata": {},
   "outputs": [],
   "source": [
    "weights_bitwise = np.linalg.inv(lam*np.array(sigma))@np.array(capm_returns)"
   ]
  },
  {
   "cell_type": "markdown",
   "id": "387f587b-64d7-4d5e-93da-031516798a78",
   "metadata": {},
   "source": [
    "-------"
   ]
  },
  {
   "cell_type": "markdown",
   "id": "77d8ae74-2018-4f89-86ad-a2319556433f",
   "metadata": {},
   "source": [
    "### Comparative table for the returns, in %"
   ]
  },
  {
   "cell_type": "code",
   "execution_count": 34,
   "id": "f45eadd2-6434-4e2d-822b-f870f36dc82b",
   "metadata": {},
   "outputs": [
    {
     "data": {
      "text/plain": [
       "array([[0.01290456914084416],\n",
       "       [0.015367485402670134],\n",
       "       [0.01822111569119699],\n",
       "       [0.015620523661678919],\n",
       "       [0.01252019056256568],\n",
       "       [0.016363077808001645],\n",
       "       [0.021839033154535958],\n",
       "       [0.0214296183582652],\n",
       "       [0.015322830410688501],\n",
       "       [0.017203926744921907],\n",
       "       [0.010053560045592958],\n",
       "       [0.013879747041276487],\n",
       "       [0.014249884157607931],\n",
       "       [0.0136506214584115]], dtype=object)"
      ]
     },
     "execution_count": 34,
     "metadata": {},
     "output_type": "execute_result"
    }
   ],
   "source": [
    "np.array(implied_return)"
   ]
  },
  {
   "cell_type": "code",
   "execution_count": 41,
   "id": "1979d04b-3036-4f46-90d7-ec6aacce6c29",
   "metadata": {},
   "outputs": [
    {
     "name": "stdout",
     "output_type": "stream",
     "text": [
      "              Historical mu MVDA10 CAPM mu Implied Return pi\n",
      "bitcoin               1.14%          0.71%             1.29%\n",
      "ethereum              1.57%          0.91%             1.54%\n",
      "solana                3.48%          0.99%             1.82%\n",
      "binancecoin           2.07%          0.84%             1.56%\n",
      "ripple                1.36%          0.62%             1.25%\n",
      "cardano               1.68%          0.83%             1.64%\n",
      "avalanche-2           2.92%          1.15%             2.18%\n",
      "dogecoin              3.96%          1.12%             2.14%\n",
      "polkadot              0.98%          0.82%             1.53%\n",
      "matic-network         3.52%          0.92%             1.72%\n",
      "tron                  1.20%          0.54%             1.01%\n",
      "chainlink             0.79%          0.81%             1.39%\n",
      "litecoin              0.70%          0.80%             1.42%\n",
      "cosmos                1.08%          0.79%             1.37%\n"
     ]
    }
   ],
   "source": [
    "# Convert to numpy array, multiply by 100, round, and then convert to string and add '%'\n",
    "historical_percent = ['{:.2f}%'.format(x * 100) for x in np.array(historical_df).flatten()]\n",
    "capm_returns_percent = ['{:.2f}%'.format(x * 100) for x in np.array(capm_returns).flatten()]\n",
    "implied_return_percent = ['{:.2f}%'.format(x * 100) for x in np.array(implied_return['Implied Return']).flatten()]\n",
    "\n",
    "# Create the DataFrame with percentages\n",
    "table1 = pd.DataFrame({\n",
    "    'Historical mu': historical_percent,\n",
    "    'MVDA10 CAPM mu': capm_returns_percent,\n",
    "    'Implied Return pi': implied_return_percent,\n",
    "}, index=tickers)\n",
    "\n",
    "# Print the DataFrame\n",
    "print(table1)"
   ]
  },
  {
   "cell_type": "markdown",
   "id": "257fc27e-c3a6-4c3e-9d66-5b3be90bd7ca",
   "metadata": {},
   "source": [
    "-------"
   ]
  },
  {
   "cell_type": "markdown",
   "id": "6e14d8ae-7ce9-4a22-b3df-1f830b695654",
   "metadata": {},
   "source": [
    "### Comparative table for the weights, in %"
   ]
  },
  {
   "cell_type": "code",
   "execution_count": 40,
   "id": "2d9183e4-0616-421e-a23e-4f9d0521b529",
   "metadata": {},
   "outputs": [
    {
     "name": "stdout",
     "output_type": "stream",
     "text": [
      "              Historical w MVDA10 w Implied Returns w Mkt Cap w\n",
      "bitcoin             82.32%   25.18%            59.46%    59.46%\n",
      "ethereum            49.87%   27.12%            22.80%    22.80%\n",
      "solana              43.07%    1.18%             1.60%     1.60%\n",
      "binancecoin         27.94%    5.02%             4.48%     4.48%\n",
      "ripple              -3.37%   -0.87%             2.76%     2.76%\n",
      "cardano            -46.42%   -4.05%             2.36%     2.36%\n",
      "avalanche-2         14.23%    0.41%             0.71%     0.71%\n",
      "dogecoin            18.56%   -0.77%             1.44%     1.44%\n",
      "polkadot           -38.50%   -5.82%             1.43%     1.43%\n",
      "matic-network       32.33%   -0.32%             0.65%     0.65%\n",
      "tron                32.70%   -0.69%             0.57%     0.57%\n",
      "chainlink          -26.62%    3.41%             0.63%     0.63%\n",
      "litecoin           -79.74%    0.91%             0.72%     0.72%\n",
      "cosmos             -25.37%    4.58%             0.40%     0.40%\n"
     ]
    }
   ],
   "source": [
    "# Convert to numpy array, round to four decimal places, multiply by 100 for percentage, and then convert to string and add '%'\n",
    "historical_w_percent = ['{:.2f}%'.format(x * 100) for x in np.array(weights_historical).flatten()]\n",
    "bitw_w_percent = ['{:.2f}%'.format(x * 100) for x in np.array(weights_bitwise).flatten()]\n",
    "implied_returns_w_percent = ['{:.2f}%'.format(x * 100) for x in np.around(weights_pi.astype(float), 4).flatten()]\n",
    "mkt_cap_w_percent = ['{:.2f}%'.format(x * 100) for x in np.array(w_mktcap).flatten()]\n",
    "\n",
    "# Create the DataFrame with percentages\n",
    "table2 = pd.DataFrame({\n",
    "    'Historical w': historical_w_percent,\n",
    "    'MVDA10 w': bitw_w_percent,\n",
    "    'Implied Returns w': implied_returns_w_percent,\n",
    "    'Mkt Cap w' : mkt_cap_w_percent\n",
    "}, index=tickers)\n",
    "\n",
    "# Print the DataFrame\n",
    "print(table2)"
   ]
  },
  {
   "cell_type": "markdown",
   "id": "91281b10-6eea-4a98-ac7e-43ad90bc85a0",
   "metadata": {},
   "source": [
    "--------"
   ]
  },
  {
   "cell_type": "markdown",
   "id": "c6616cb3-6d3f-4de1-9b8c-ee060ce731f6",
   "metadata": {},
   "source": [
    "Some insightful statistics"
   ]
  },
  {
   "cell_type": "code",
   "execution_count": 37,
   "id": "6a71d64d-87cf-47f0-ba8e-bba5efbd8222",
   "metadata": {},
   "outputs": [],
   "source": [
    "historical_weighted_avg= weights_historical.T@historical_df\n",
    "bitwise_weighted_avg=weights_bitwise.T@capm_returns\n",
    "implied_weighted_avg = weights_pi.T@implied_return\n",
    "\n",
    "historical_std = np.std(historical_df)\n",
    "bitwise_std = np.std(capm_returns)\n",
    "implied_std = np.std(implied_return)"
   ]
  },
  {
   "cell_type": "code",
   "execution_count": 43,
   "id": "1a5e0cab-4ab3-48c4-baa8-731ed623f64d",
   "metadata": {},
   "outputs": [
    {
     "name": "stdout",
     "output_type": "stream",
     "text": [
      "                 Historical MVDA10 CAPM Implied Returns\n",
      "Weighted Average      4.23%       0.45%           1.40%\n",
      "Std. Deviation        1.07%       0.16%           0.32%\n"
     ]
    }
   ],
   "source": [
    "# Round to four decimal places, multiply by 100 for percentage, and format as strings with '%'\n",
    "historical_values = ['{:.2f}%'.format(x * 100) for x in [np.array(historical_weighted_avg).flatten()[0], np.array(historical_std).flatten()[0]]]\n",
    "bitwise_values = ['{:.2f}%'.format(x * 100) for x in [np.array(bitwise_weighted_avg).flatten()[0], np.array(bitwise_std).flatten()[0]]]\n",
    "implied_values = ['{:.2f}%'.format(x * 100) for x in [np.array(implied_weighted_avg).flatten()[0], np.array(implied_std).flatten()[0]]]\n",
    "\n",
    "# Create the DataFrame with formatted percentage strings\n",
    "table3 = pd.DataFrame({\n",
    "    'Historical': historical_values,\n",
    "    'MVDA10 CAPM': bitwise_values,\n",
    "    'Implied Returns': implied_values,\n",
    "}, index= ['Weighted Average', 'Std. Deviation'])\n",
    "\n",
    "# Print the DataFrame\n",
    "print(table3)"
   ]
  },
  {
   "cell_type": "markdown",
   "id": "ba60bed3-9737-4c42-9acb-837597e2239c",
   "metadata": {},
   "source": [
    "------"
   ]
  },
  {
   "cell_type": "markdown",
   "id": "7a87a0ed-3555-44bd-a039-c548fcb5c7ed",
   "metadata": {},
   "source": [
    "## The Black-Litterman model"
   ]
  },
  {
   "cell_type": "markdown",
   "id": "53fbba4c-f57a-47d0-b8e4-61bf3197cb59",
   "metadata": {},
   "source": [
    "Now that we have our prior, we will start computing the posterior, by first introducing the Black-Litterman model."
   ]
  },
  {
   "cell_type": "markdown",
   "id": "1e71927b-3c71-416c-9daf-2b71420a94ff",
   "metadata": {},
   "source": [
    "The formula for the new Combined Return Vector \\( E[R] \\) is:\n",
    "\n",
    "$$\n",
    "E[R] = \\left[ (\\tau \\Sigma)^{-1} + P'\\Omega^{-1}P \\right]^{-1} \\left[ (\\tau \\Sigma)^{-1}\\Pi + P'\\Omega^{-1}Q \\right]\n",
    "$$\n",
    "\n",
    "where\n",
    "\n",
    "- $E[R]$ is the new (posterior) Combined Return Vector ($N \\times 1$);\n",
    "- $\\tau$ is a scalar;\n",
    "- $\\Sigma$ is the covariance matrix of excess returns ($N \\times N$);\n",
    "- $P$ is a matrix that identifies the assets involved in the views ($K \\times N$) or $(1 \\times N$) in the special case of 1 view);\n",
    "- $\\Omega$ is a diagonal covariance matrix of error terms from the views, representing the uncertainty in each view ($K \\times K$);\n",
    "- $ \\Pi $ is the Implied Equilibrium Return Vector ($N \\times 1$); \n",
    "- $Q$ is the View Vector ($K \\times 1$).\n"
   ]
  },
  {
   "cell_type": "markdown",
   "id": "9e9e915f-650f-4d0d-b972-a8f2180e0b97",
   "metadata": {},
   "source": [
    "--------"
   ]
  },
  {
   "cell_type": "markdown",
   "id": "b2b1251c-29f6-4be1-a094-c3030ee218e9",
   "metadata": {},
   "source": [
    "#### Investor Views"
   ]
  },
  {
   "cell_type": "markdown",
   "id": "83be8f5a-d0f9-42b3-947d-35adb3c5bfb4",
   "metadata": {},
   "source": [
    "Views from an investor can be either absolute, e.g: Bitcoin will grow 30%, or relative, e.g: Ethereum will outperform Bitcoin by 10%."
   ]
  },
  {
   "cell_type": "markdown",
   "id": "fb788e6e-a485-4553-8187-861ae251c8a9",
   "metadata": {},
   "source": [
    "It is not required to specify views on all assets."
   ]
  },
  {
   "cell_type": "markdown",
   "id": "0c5c49e1-dbfb-4dc4-b1e3-685fd0755865",
   "metadata": {},
   "source": [
    "There are different methods to incorporate the views using the matrix P. However, in this project we'll focus on the market capitalization weighting scheme. The reason behind this choice is that other methods may result in undesired tracking error.\\\n",
    "Using this method, the relative weight of each individual asset is proportional to the asset's market capitalization divided by the total market capitalization of either the outperforming or underperformin assets of that particular view. \\\n",
    "In the case where the view is absolute, the used weight in the matrix P is 1, because non of the other assets are involved. <br>\n",
    "In the case of relative views, each row sums to 0. "
   ]
  },
  {
   "cell_type": "markdown",
   "id": "f72c228a-3de3-4a27-adc1-e3dd93a43b7f",
   "metadata": {},
   "source": [
    "**General Case:**\n",
    "\n",
    "The matrix \\( P \\) is defined as:\n",
    "\n",
    "$$\n",
    "P = \\begin{bmatrix}\n",
    "p_{1,1} & \\dots & p_{1,n} \\\\\n",
    "\\vdots & \\ddots & \\vdots \\\\\n",
    "p_{k,1} & \\dots & p_{k,n}\n",
    "\\end{bmatrix}\n",
    "$$"
   ]
  },
  {
   "cell_type": "markdown",
   "id": "d5333d8d-2810-45c5-b3fe-f8d4b85c9043",
   "metadata": {},
   "source": [
    "**Example:**\n",
    "\n",
    "$$\n",
    "P = \\begin{bmatrix}\n",
    "0 & 0 & 0 & 0 & 0 & 1 & 0 \\\\\n",
    "-1 & 1 & 0 & 0 & 0 & 0 & 0 \\\\\n",
    "0 & 0 & 0.9 & -0.9 & 0.1 & -0.1 & 0 \\\\\n",
    "\\end{bmatrix}\n",
    "$$\n"
   ]
  },
  {
   "cell_type": "markdown",
   "id": "3d9f7fe7-3c60-455f-b7a1-3f44ecf4a183",
   "metadata": {},
   "source": [
    "In this example, we have a (3x7) matrix, which means that there are 3 views, and the portfolio is made of 7 assets.<br><br>\n",
    "The 1st row has a 1 in the 6th column, which corresponds to an absolute view on the 6th asset of the portfolio.<br><br>\n",
    "The 2nd row has a -1 and a 1, in the 1st and 2nd column, respectively. The underperforming asset(Asset 1) has a negative value and the outperforming asset (Asset 2) has a positive value. Since there are only two assets involved, the market capitalization weighting sheme is not being used."
   ]
  },
  {
   "cell_type": "markdown",
   "id": "d7b597d1-bb41-4314-b211-10ea90e5ebc4",
   "metadata": {},
   "source": [
    "For the 3rd row, the market capitalization weighting scheme is being used:<br><br>\n",
    "Let's say that Asset 3 and 4 have a market cap of $\\$$90 million and Asset 5 and 6 have a market cap of $\\$$10 million.<br>\n",
    "Let's assume, from an investor's view, that Asset 3 & 5 will outperform Asset 4 & 6. Note that the 'quantity' of the outperformance is not needed for P. <br> <br>\n",
    "To compute the weights for P, we grab the outperforming assets and compute their relative weight(by market cap). We do the same for the set of underperforming assets. "
   ]
  },
  {
   "cell_type": "markdown",
   "id": "1e0cd60c-d035-400b-b903-10a7b8e2ac69",
   "metadata": {},
   "source": [
    "We have: <br>\n",
    "<br>\n",
    "\\$\n",
    "\\text{Asset 3 relative weight} = \\frac{90\\text{ million}}{90\\text{ million} + 10\\text{ million}} = 0.9\n",
    "\\$\n",
    "\n",
    "\\$\n",
    "\\text{Asset 5 relative weight} = \\frac{10\\text{ million}}{90\\text{ million} + 10\\text{ million}} = 0.1\n",
    "\\$<br>\n",
    "<br>\n",
    "Since those two assets are outperformers, the sign stays positive. <br>\n",
    "Assets 4 and 6 have the same computation (in this example), however since they are underperformers, the sign becomes negative."
   ]
  },
  {
   "cell_type": "markdown",
   "id": "cb598b95-a18c-4535-9845-860c0d2cc86d",
   "metadata": {},
   "source": [
    "Now that we have explained how to incorporate the views, let's apply it to the project."
   ]
  },
  {
   "cell_type": "markdown",
   "id": "520182fe-fb2c-4949-b7b6-2552cafa00ea",
   "metadata": {},
   "source": [
    "The following is a list of sample views:\n",
    "\n",
    "#### Cryptocurrency Predictions for 2024\n",
    "\n",
    "1. **Bitcoin (BTC)**: \n",
    "   - *Absolute View*: Expected growth of 100% (Annualized).\n",
    "\n",
    "2. **Ethereum (ETH) vs. Bitcoin (BTC)**: \n",
    "   - *Relative View*: Ethereum might outperform Bitcoin by 40%.\n",
    "\n",
    "3. **Solana (SOL) and Binance Coin (BNB) vs. Cardano (ADA) and Polkadot (DOT)**: \n",
    "   - *Relative View*: Solana and Binance Coin could outperform Cardano and Polkadot, by 20%.\n",
    "   \n",
    "4. **Polygon (Matic Network) vs. Chainlink (LINK)**: \n",
    "   - *Relative View*: Polygon likely to outperform Chainlink by 50%."
   ]
  },
  {
   "cell_type": "markdown",
   "id": "84be6cb2-63b9-4b6a-bc1c-00b7dcf36a70",
   "metadata": {},
   "source": [
    "We have 4 views and 14 assets, so P is a (4x14) matrix. <br> \n",
    "First row corresponds to View 1, second to View 2 and so on.<br>\n",
    "The matrix P looks like this: <br>"
   ]
  },
  {
   "cell_type": "markdown",
   "id": "91290814-5904-4902-987b-6c747dfb12e4",
   "metadata": {},
   "source": [
    "$$\n",
    "P = \\begin{bmatrix}\n",
    "1 & 0 & 0 & 0 & 0 & 0 & 0 & 0 & 0 & 0 & 0 & 0 & 0 & 0 \\\\\n",
    "-1 & 1 & 0 & 0 & 0 & 0 & 0 & 0 & 0 & 0 & 0 & 0 & 0 & 0 \\\\\n",
    "0 & 0 & c & d & 0 & -e & 0 & 0 & -f & 0 & 0 & 0 & 0 & 0 \\\\\n",
    "0 & 0 & 0 & 0 & 0 & 0 & 0 & 0 & 0 & 1 & 0 & -1 & 0 & 0 \\\\\n",
    "\\end{bmatrix}\n",
    "$$\n"
   ]
  },
  {
   "cell_type": "markdown",
   "id": "8515cf8f-592d-4e0c-aa4b-95a1311c0124",
   "metadata": {},
   "source": [
    "Now we have to compute a, b, c,..., i  using the market capitalizations of each asset and P will be ready <br>\n",
    "Since we have 171 weeks of data, we will use the average market cap."
   ]
  },
  {
   "cell_type": "markdown",
   "id": "b8809164-0a41-4c46-9eef-8a8d08df3772",
   "metadata": {},
   "source": [
    "View 3:"
   ]
  },
  {
   "cell_type": "code",
   "execution_count": 44,
   "id": "218ababe-18e3-4d3b-9895-4d337ba070ec",
   "metadata": {},
   "outputs": [
    {
     "data": {
      "text/plain": [
       "-0.0"
      ]
     },
     "execution_count": 44,
     "metadata": {},
     "output_type": "execute_result"
    }
   ],
   "source": [
    "sol_avg_mktcap = np.mean(crypto_data['solana'].loc[:,'W Average Market Cap'].tail(171))\n",
    "bnb_avg_mktcap = np.mean(crypto_data['binancecoin'].loc[:,'W Average Market Cap'].tail(171))\n",
    "ada_avg_mktcap = np.mean(crypto_data['cardano'].loc[:,'W Average Market Cap'].tail(171))\n",
    "dot_avg_mktcap = np.mean(crypto_data['polkadot'].loc[:,'W Average Market Cap'].tail(171))\n",
    "\n",
    "c = sol_avg_mktcap/(sol_avg_mktcap+bnb_avg_mktcap)\n",
    "d = bnb_avg_mktcap/(sol_avg_mktcap+bnb_avg_mktcap)\n",
    "e = ada_avg_mktcap/(ada_avg_mktcap+dot_avg_mktcap)\n",
    "f = dot_avg_mktcap/(ada_avg_mktcap+dot_avg_mktcap)\n",
    "\n",
    "round(c+d-e-f,10)"
   ]
  },
  {
   "cell_type": "code",
   "execution_count": 45,
   "id": "ad4b0d5e-c0e2-48e8-bd82-decef74caa15",
   "metadata": {},
   "outputs": [],
   "source": [
    "P = np.array([[1, 0, 0, 0, 0, 0, 0, 0, 0, 0, 0, 0, 0, 0],\n",
    "              [-1, 1, 0, 0, 0, 0, 0, 0, 0, 0, 0, 0, 0, 0],\n",
    "              [0, 0,  c, d, 0, -e, 0, 0, -f, 0, 0, 0, 0, 0],\n",
    "              [0, 0,  0, 0, 0, 0, 0, 0, 0, 1, 0, -1, 0, 0]])"
   ]
  },
  {
   "cell_type": "code",
   "execution_count": 46,
   "id": "aeed6f12-c6ac-4765-b9c0-b92099c20d29",
   "metadata": {},
   "outputs": [
    {
     "data": {
      "text/plain": [
       "(4, 14)"
      ]
     },
     "execution_count": 46,
     "metadata": {},
     "output_type": "execute_result"
    }
   ],
   "source": [
    "P.shape"
   ]
  },
  {
   "cell_type": "code",
   "execution_count": 47,
   "id": "f0f0a218-6c82-49fb-bc2a-4e7a99a0ce52",
   "metadata": {},
   "outputs": [
    {
     "data": {
      "text/plain": [
       "(0.26, 0.74, 0.62, 0.38)"
      ]
     },
     "execution_count": 47,
     "metadata": {},
     "output_type": "execute_result"
    }
   ],
   "source": [
    "round(c,2), round(d,2), round(e,2), round(f,2)"
   ]
  },
  {
   "cell_type": "markdown",
   "id": "6b6d0b0f-2a52-4c6b-a319-03241e51fef2",
   "metadata": {},
   "source": [
    "Result:\n",
    "$$\n",
    "P = \\begin{bmatrix}\n",
    "1 & 0  & 0 & 0 & 0 & 0 & 0 & 0 & 0 & 0 & 0 & 0 & 0 & 0 \\\\\n",
    "-1 & 1 & 0 & 0 & 0 & 0 & 0 & 0 & 0 & 0 & 0 & 0 & 0 & 0 \\\\\n",
    "0 & 0 & 0.26 & 0.74 & 0 & -0.62 & 0 & 0 & -0.38 & 0 & 0 & 0 & 0 & 0 \\\\\n",
    "0 & 0 & 0 & 0 & 0 & 0 & 0 & 0 & 0 & 1 & 0 & -1 & 0 & 0 \\\\\n",
    "\\end{bmatrix}\n",
    "$$\n"
   ]
  },
  {
   "cell_type": "markdown",
   "id": "0a423b4b-31f6-4634-a627-82ad4a320f54",
   "metadata": {},
   "source": [
    "------"
   ]
  },
  {
   "cell_type": "markdown",
   "id": "661f86d6-d9ae-4dd7-9cf0-02d583cedd49",
   "metadata": {},
   "source": [
    "#### Variance of the Views $ \\mathbf{p}_k \\Sigma \\mathbf{p}_k^T $"
   ]
  },
  {
   "cell_type": "markdown",
   "id": "144067ec-f89d-497a-a629-feb27e33f1a1",
   "metadata": {},
   "source": [
    "After computing P, we can now compute the variance of the views. <br>\n",
    "The individual variance associated with each view  provides insight about the level of confidence, or the absence of it, one might have in a particular view. This information will soon be utilized to compute the variances of the error terms (ω), which are the diagonal components of the matrix Ω. <br><br>\n",
    "The variance of an individual view  is $ \\mathbf{p}_k \\Sigma \\mathbf{p}_k^T $, <br>\n",
    "where $ \\mathbf{p}_k $ is a $ 1 \\times N $ row vector from Matrix $ \\mathbf{P} $ that corresponds to the $ k $th view <br>and $ \\Sigma $ is the covariance matrix of excess returns."
   ]
  },
  {
   "cell_type": "markdown",
   "id": "592dc3fe-1165-419c-86ab-2842f4d9a9d3",
   "metadata": {},
   "source": [
    "Let's compute them:"
   ]
  },
  {
   "cell_type": "code",
   "execution_count": 48,
   "id": "f90ba925-25cf-4950-8b33-449c9034dc53",
   "metadata": {
    "tags": []
   },
   "outputs": [],
   "source": [
    "k = 4\n",
    "view_variance = pd.DataFrame()\n",
    "for i in range(k):\n",
    "    p_row = P[i].reshape(1, -1)  # Reshape the i-th row of P to a 1xN array\n",
    "    variance = np.array(p_row @ sigma @ p_row.T)  # Calculate the variance\n",
    "    view_variance.loc[i, 'Variance'] = variance.item() \n",
    "view_variance.index = [1,2,3,4]"
   ]
  },
  {
   "cell_type": "code",
   "execution_count": 49,
   "id": "b7476cdf-f611-4f8b-bd8c-277f8167e8bc",
   "metadata": {},
   "outputs": [
    {
     "data": {
      "text/html": [
       "<div>\n",
       "<style scoped>\n",
       "    .dataframe tbody tr th:only-of-type {\n",
       "        vertical-align: middle;\n",
       "    }\n",
       "\n",
       "    .dataframe tbody tr th {\n",
       "        vertical-align: top;\n",
       "    }\n",
       "\n",
       "    .dataframe thead th {\n",
       "        text-align: right;\n",
       "    }\n",
       "</style>\n",
       "<table border=\"1\" class=\"dataframe\">\n",
       "  <thead>\n",
       "    <tr style=\"text-align: right;\">\n",
       "      <th></th>\n",
       "      <th>Variance</th>\n",
       "    </tr>\n",
       "  </thead>\n",
       "  <tbody>\n",
       "    <tr>\n",
       "      <th>1</th>\n",
       "      <td>0.006018</td>\n",
       "    </tr>\n",
       "    <tr>\n",
       "      <th>2</th>\n",
       "      <td>0.003596</td>\n",
       "    </tr>\n",
       "    <tr>\n",
       "      <th>3</th>\n",
       "      <td>0.006301</td>\n",
       "    </tr>\n",
       "    <tr>\n",
       "      <th>4</th>\n",
       "      <td>0.028365</td>\n",
       "    </tr>\n",
       "  </tbody>\n",
       "</table>\n",
       "</div>"
      ],
      "text/plain": [
       "   Variance\n",
       "1  0.006018\n",
       "2  0.003596\n",
       "3  0.006301\n",
       "4  0.028365"
      ]
     },
     "execution_count": 49,
     "metadata": {},
     "output_type": "execute_result"
    }
   ],
   "source": [
    "view_variance"
   ]
  },
  {
   "cell_type": "markdown",
   "id": "a2da880e-c901-432c-bcc3-87ba45b5a4e0",
   "metadata": {},
   "source": [
    "The following table encapsulates the results:"
   ]
  },
  {
   "cell_type": "markdown",
   "id": "4033c557-db76-4d94-b36f-6bc7a84837fe",
   "metadata": {},
   "source": [
    "\\begin{array}{|c|c|c|}\n",
    "\\hline\n",
    "\\textbf{View} & \\textbf{Formula} & \\textbf{Variance} \\\\\n",
    "\\hline\n",
    "1 & p_1 \\Sigma p_1' & 0.6018\\% \\\\\n",
    "\\hline\n",
    "2 & p_2 \\Sigma p_2' & 0.3596\\% \\\\\n",
    "\\hline\n",
    "3 & p_3 \\Sigma p_3' & 0.6301\\% \\\\\n",
    "\\hline\n",
    "4 & p_4 \\Sigma p_4' & 2.8365\\% \\\\\n",
    "\\hline\n",
    "\\end{array}\n"
   ]
  },
  {
   "cell_type": "markdown",
   "id": "d3c04c75-403b-47d6-ac9f-278a2ca689be",
   "metadata": {},
   "source": [
    "---------"
   ]
  },
  {
   "cell_type": "markdown",
   "id": "d99b0568-5848-483c-bb1c-ced198ea3656",
   "metadata": {},
   "source": [
    "#### View Vector Q"
   ]
  },
  {
   "cell_type": "markdown",
   "id": "41036817-70f9-45d0-97a1-f7a59c27cbec",
   "metadata": {},
   "source": [
    "The uncertainty of the views corresponds to an Error Term Vector $ \\boldsymbol{\\varepsilon} $ with mean 0 and covariance $ \\Omega $. Thus, a view has the form $ \\mathbf{Q} + \\boldsymbol{\\varepsilon} $.\n",
    "<br>\n",
    "The Error Term Vector (ε ) does not directly enter the Black-Litterman formula, it is the variance of each error term  (ω ) that enters into the formula."
   ]
  },
  {
   "cell_type": "markdown",
   "id": "1999414e-2ea7-4576-b94f-a0816da9ccf3",
   "metadata": {},
   "source": [
    "It is easy to input the views, for example View 1 says that bitcoin will increase 30%, so the 1st row of Q is 30."
   ]
  },
  {
   "cell_type": "code",
   "execution_count": 50,
   "id": "408c76d0-da4a-4623-a5cb-86513c4084df",
   "metadata": {},
   "outputs": [
    {
     "data": {
      "text/plain": [
       "(4, 1)"
      ]
     },
     "execution_count": 50,
     "metadata": {},
     "output_type": "execute_result"
    }
   ],
   "source": [
    "# Dimension: (Kx1) so here (5x1).\n",
    "# Views are annualized, so we need to convert them to weekly.\n",
    "Q = np.array([[(1+1)**(1/52) - 1],[(1+0.4)**(1/52) - 1],[(1+0.2)**(1/52) - 1],[(1+0.5)**(1/52) - 1]])\n",
    "Q.shape"
   ]
  },
  {
   "cell_type": "markdown",
   "id": "0a4e5e5f-420e-4cae-a530-529ff62e04ec",
   "metadata": {},
   "source": [
    "The view vector along with it's error term, look like this:\n",
    "\n",
    "$$\n",
    "\\mathbf{Q} + \\boldsymbol{\\varepsilon} = \n",
    "\\begin{bmatrix}\n",
    "View_1 \\\\\n",
    "View_2 \\\\\n",
    "View_3 \\\\\n",
    "View_4 \\\\\n",
    "\\end{bmatrix}\n",
    "+ \n",
    "\\begin{bmatrix}\n",
    "\\varepsilon_1 \\\\\n",
    "\\varepsilon_2 \\\\\n",
    "\\varepsilon_3 \\\\\n",
    "\\varepsilon_4 \\\\\n",
    "\\end{bmatrix}\n",
    "$$"
   ]
  },
  {
   "cell_type": "markdown",
   "id": "52048775-e099-4c1d-a9ef-8458f2fb84f5",
   "metadata": {},
   "source": [
    "-------"
   ]
  },
  {
   "cell_type": "markdown",
   "id": "d04ef306-3c65-4a9a-945e-454fb031ef23",
   "metadata": {},
   "source": [
    "#### Uncertainty of the views"
   ]
  },
  {
   "cell_type": "markdown",
   "id": "a00d6bc2-d3a2-4e7b-9d65-a3fc9e4e7259",
   "metadata": {},
   "source": [
    "\n",
    "The Black-Litterman model represents a mix of the Implied Equilibrium Return Vector (Π) and the View Vector (Q), where the balance between them depends on the scalar (τ) and the uncertainty associated with the views (Ω). <br> <br>\n",
    "The higher the confidence towards the views, the closer the posterior E(R) will be to the views. Conversely, the lower the level of confidence towards the views, the closer the posterior E(R) will be to the Implied Equilibrium Returns (Π).\n"
   ]
  },
  {
   "cell_type": "markdown",
   "id": "8b987291-1823-414a-9e18-e98b4bc79fbc",
   "metadata": {},
   "source": [
    "There are different methods to set the value of the scalar τ. The easiest way is to make an assumption about the value.<br>\n",
    "\n",
    "The variances of the error terms (ω) represent the \n",
    "uncertainty of the views. The larger $\\omega_k$, the greater the \n",
    "uncertainty of the view k. \n",
    "\n",
    "\n",
    "In addition, He and Litterman (1999) calibrate the confidence of a view so that the ratio  $ \\omega $ / $ \\tau $ is equal to the variance of the view k,  $ \\mathbf{p}_k \\Sigma \\mathbf{p}_k' $. <br>\n",
    "\n",
    "This method allows investors to focus more on the accuracy of their views (Q), rather than fine-tuning τ.\n"
   ]
  },
  {
   "cell_type": "markdown",
   "id": "1b6f6f52-5f5d-4b2b-89cc-191821787f3d",
   "metadata": {},
   "source": [
    "The matrix Ω has the following form:"
   ]
  },
  {
   "cell_type": "markdown",
   "id": "1b7e0291-4339-448b-80ec-3340d434b922",
   "metadata": {},
   "source": [
    "\n",
    "$$\n",
    "\\Omega = \n",
    "\\begin{bmatrix}\n",
    "\\omega_1 & 0 & 0 \\\\\n",
    "0 & \\ddots & 0 \\\\\n",
    "0 & 0 & \\omega_k\n",
    "\\end{bmatrix}\n",
    "=\n",
    "\\begin{bmatrix}\n",
    "(p_1 \\Sigma p_1') \\cdot \\tau & 0 & \\cdots & 0 \\\\\n",
    "0 & \\ddots & & \\vdots \\\\\n",
    "\\vdots & & \\ddots & 0 \\\\\n",
    "0 & \\cdots & 0 & (p_k \\Sigma p_k') \\cdot \\tau\n",
    "\\end{bmatrix}\n",
    "$$\n"
   ]
  },
  {
   "cell_type": "markdown",
   "id": "9935330d-f11c-4602-9b0d-a2541b603380",
   "metadata": {},
   "source": [
    "Let's compute it:"
   ]
  },
  {
   "cell_type": "code",
   "execution_count": 51,
   "id": "e3a4d2d8-b7e8-4dac-9d7f-4313a15c320a",
   "metadata": {},
   "outputs": [],
   "source": [
    "tao = 0.025 # Assumption on th scalar, can be what we want\n",
    "# reminder: omega is (KxK) so here we have (5x5).\n",
    "\n",
    "# Define the number of views\n",
    "num_views = P.shape[0]\n",
    "\n",
    "# Create an omega array of zeros with the shape (num_views, num_views)\n",
    "omega = np.zeros((num_views, num_views))\n",
    "\n",
    "# Calculate the variance for each view and assign it to the diagonal of omega\n",
    "for i in range(num_views):\n",
    "    p_i = P[i].reshape(1, -1)\n",
    "    variance = np.array((p_i @ sigma @ p_i.T)).item() * tao  # Use .item() to get a scalar value\n",
    "    omega[i, i] = variance\n"
   ]
  },
  {
   "cell_type": "code",
   "execution_count": 52,
   "id": "59087e51-70f5-4693-9dbc-233af2942985",
   "metadata": {},
   "outputs": [
    {
     "data": {
      "text/plain": [
       "array([[1.5e-04, 0.0e+00, 0.0e+00, 0.0e+00],\n",
       "       [0.0e+00, 9.0e-05, 0.0e+00, 0.0e+00],\n",
       "       [0.0e+00, 0.0e+00, 1.6e-04, 0.0e+00],\n",
       "       [0.0e+00, 0.0e+00, 0.0e+00, 7.1e-04]])"
      ]
     },
     "execution_count": 52,
     "metadata": {},
     "output_type": "execute_result"
    }
   ],
   "source": [
    "np.round(omega,5)"
   ]
  },
  {
   "cell_type": "markdown",
   "id": "e8e5796a-fb3d-49b5-bd1b-5b15a2087852",
   "metadata": {},
   "source": [
    "Result using $\\tau$=0.025 :"
   ]
  },
  {
   "cell_type": "markdown",
   "id": "58159464-d91f-4920-bff9-1454ddc6a4bb",
   "metadata": {},
   "source": [
    "$$\n",
    "\\Omega =\n",
    "\\begin{bmatrix}\n",
    "0.00015 & 0 & 0 & 0  \\\\\n",
    "0 & 0.00009 & 0 & 0 \\\\\n",
    "0 & 0 & 0.000155 & 0 \\\\\n",
    "0 & 0 & 0  & 0.000711 \n",
    "\\end{bmatrix}\n",
    "$$"
   ]
  },
  {
   "cell_type": "markdown",
   "id": "198185e4-5f5e-4828-9cb0-f22ae49a876e",
   "metadata": {},
   "source": [
    "--------"
   ]
  },
  {
   "cell_type": "markdown",
   "id": "25f7a956-c661-4deb-acef-0e25efd91512",
   "metadata": {},
   "source": [
    "#### Calculating the New Combined Return Vector"
   ]
  },
  {
   "cell_type": "markdown",
   "id": "b4c6b9fe-89fd-405d-838f-efcd9ed55d3d",
   "metadata": {},
   "source": [
    "We have all the inputs ready to compute E(R): <br>\n",
    "$$\n",
    "E[R] = \\left[ (\\tau \\Sigma)^{-1} + P'\\Omega^{-1}P \\right]^{-1} \\left[ (\\tau \\Sigma)^{-1}\\Pi + P'\\Omega^{-1}Q \\right]\n",
    "$$"
   ]
  },
  {
   "cell_type": "code",
   "execution_count": 53,
   "id": "8d7bd36e-bcb5-4266-8f1b-a29cfe71abfa",
   "metadata": {},
   "outputs": [],
   "source": [
    "np.linalg.inv(np.linalg.inv(tao*np.array(sigma)) +  P.T@np.linalg.inv(omega)@P)\n",
    "( np.linalg.inv(tao*sigma)@np.array(implied_return) + P.T@np.linalg.inv(omega)@Q)\n",
    "new_return = np.linalg.inv(np.linalg.inv(tao*np.array(sigma)) +  P.T@np.linalg.inv(omega)@P) @ ( np.linalg.inv(tao*sigma)@np.array(implied_return) + P.T@np.linalg.inv(omega)@Q)"
   ]
  },
  {
   "cell_type": "code",
   "execution_count": 54,
   "id": "2743085c-b789-4731-a4b2-1a374c84d169",
   "metadata": {},
   "outputs": [
    {
     "name": "stdout",
     "output_type": "stream",
     "text": [
      "              New Combined Return E(R) Implied Equilibrium Return Π  \\\n",
      "bitcoin                          1.32%                        1.29%   \n",
      "ethereum                         1.76%                        1.54%   \n",
      "solana                           2.15%                        1.82%   \n",
      "binancecoin                      1.79%                        1.56%   \n",
      "ripple                           1.41%                        1.25%   \n",
      "cardano                          1.76%                        1.64%   \n",
      "avalanche-2                      2.37%                        2.18%   \n",
      "dogecoin                         2.57%                        2.14%   \n",
      "polkadot                         1.63%                        1.53%   \n",
      "matic-network                    2.10%                        1.72%   \n",
      "tron                             1.13%                        1.01%   \n",
      "chainlink                        1.51%                        1.39%   \n",
      "litecoin                         1.54%                        1.42%   \n",
      "cosmos                           1.51%                        1.37%   \n",
      "\n",
      "              Difference E(R)-Π  \n",
      "bitcoin                   0.03%  \n",
      "ethereum                  0.22%  \n",
      "solana                    0.33%  \n",
      "binancecoin               0.23%  \n",
      "ripple                    0.16%  \n",
      "cardano                   0.13%  \n",
      "avalanche-2               0.19%  \n",
      "dogecoin                  0.43%  \n",
      "polkadot                  0.10%  \n",
      "matic-network             0.38%  \n",
      "tron                      0.13%  \n",
      "chainlink                 0.12%  \n",
      "litecoin                  0.11%  \n",
      "cosmos                    0.14%  \n"
     ]
    }
   ],
   "source": [
    "\n",
    "\n",
    "results1_df = pd.DataFrame({\n",
    "    'New Combined Return E(R)': new_return.flatten(),\n",
    "    'Implied Equilibrium Return Π': np.array(implied_return).flatten(),\n",
    "    'Difference E(R)-Π': new_return.flatten() - np.array(implied_return).flatten(),\n",
    "}, index=tickers)\n",
    "\n",
    "# Format the numbers to round them to two decimal places and convert to percentage\n",
    "results1_df['New Combined Return E(R)'] = results1_df['New Combined Return E(R)'].apply(lambda x: f\"{x:.2%}\")\n",
    "results1_df['Implied Equilibrium Return Π'] = results1_df['Implied Equilibrium Return Π'].apply(lambda x: f\"{x:.2%}\")\n",
    "results1_df['Difference E(R)-Π'] = results1_df['Difference E(R)-Π'].apply(lambda x: f\"{x:.2%}\")\n",
    "\n",
    "print(results1_df)\n"
   ]
  },
  {
   "cell_type": "markdown",
   "id": "eba939a3-a640-43b4-b027-0e13ac657f03",
   "metadata": {},
   "source": [
    "As you can see, the New Combined Return Vector is different from the Implied Equilibrium Vector, this is because of the added information: the views."
   ]
  },
  {
   "cell_type": "markdown",
   "id": "6169d5dd-8920-4b35-aaca-db702b33e9b1",
   "metadata": {},
   "source": [
    "------"
   ]
  },
  {
   "cell_type": "markdown",
   "id": "17d515d8-01de-4fd4-9e68-555f4ae51955",
   "metadata": {},
   "source": [
    "#### New Recommended Weights $ \\hat{\\omega} $\n"
   ]
  },
  {
   "cell_type": "markdown",
   "id": "35016eb2-d00e-410e-a620-8fc20f43c46a",
   "metadata": {},
   "source": [
    "We apply formula (2) and we get:"
   ]
  },
  {
   "cell_type": "code",
   "execution_count": 55,
   "id": "84765f88-631f-4bdf-8919-a55725977d78",
   "metadata": {},
   "outputs": [],
   "source": [
    "weights_new = np.linalg.inv(lam*np.array(sigma))@new_return"
   ]
  },
  {
   "cell_type": "code",
   "execution_count": 56,
   "id": "d221a51b-f5f9-4e75-a7de-c0912a35e5b7",
   "metadata": {},
   "outputs": [
    {
     "name": "stdout",
     "output_type": "stream",
     "text": [
      "              New Recommended Weights Implied Return Weights(Mkt Cap Weights)  \\\n",
      "bitcoin                        34.14%                                  59.46%   \n",
      "ethereum                       49.91%                                  22.80%   \n",
      "solana                          5.02%                                   1.60%   \n",
      "binancecoin                    14.07%                                   4.48%   \n",
      "ripple                          2.76%                                   2.76%   \n",
      "cardano                        -5.73%                                   2.36%   \n",
      "avalanche-2                     0.71%                                   0.71%   \n",
      "dogecoin                        1.44%                                   1.44%   \n",
      "polkadot                       -3.49%                                   1.43%   \n",
      "matic-network                   3.72%                                   0.65%   \n",
      "tron                            0.57%                                   0.57%   \n",
      "chainlink                      -2.43%                                   0.63%   \n",
      "litecoin                        0.72%                                   0.72%   \n",
      "cosmos                          0.40%                                   0.40%   \n",
      "Sum                           101.78%                                  100.0%   \n",
      "\n",
      "              Difference  \n",
      "bitcoin          -25.32%  \n",
      "ethereum          27.11%  \n",
      "solana             3.42%  \n",
      "binancecoin        9.59%  \n",
      "ripple             0.00%  \n",
      "cardano           -8.09%  \n",
      "avalanche-2        0.00%  \n",
      "dogecoin           0.00%  \n",
      "polkadot          -4.92%  \n",
      "matic-network      3.07%  \n",
      "tron               0.00%  \n",
      "chainlink         -3.07%  \n",
      "litecoin          -0.00%  \n",
      "cosmos             0.00%  \n",
      "Sum                1.78%  \n"
     ]
    }
   ],
   "source": [
    "results2_df = pd.DataFrame({\n",
    "    'New Recommended Weights': weights_new.flatten(),\n",
    "    'Implied Return Weights(Mkt Cap Weights)': weights_pi.flatten(),\n",
    "    'Difference' : weights_new.flatten() - weights_pi.flatten(),\n",
    "}, index=tickers)\n",
    "\n",
    "# Format the numbers to round them to two decimal places and convert to percentage\n",
    "results2_df['New Recommended Weights'] = results2_df['New Recommended Weights'].apply(lambda x: f\"{x:.2%}\")\n",
    "results2_df['Implied Return Weights(Mkt Cap Weights)'] = results2_df['Implied Return Weights(Mkt Cap Weights)'].apply(lambda x: f\"{x:.2%}\")\n",
    "results2_df['Difference'] = results2_df['Difference'].apply(lambda x: f\"{x:.2%}\")\n",
    "\n",
    "results2_df.loc['Sum','New Recommended Weights'] = str(round(np.sum(weights_new)*100, 2)) + '%'\n",
    "results2_df.loc['Sum','Implied Return Weights(Mkt Cap Weights)'] = str(round(np.sum(weights_pi)*100,2)) + '%'\n",
    "results2_df.loc['Sum','Difference'] = str(round(np.sum(weights_new)*100 - np.sum(weights_pi)*100,2))+ '%'\n",
    "print(results2_df)"
   ]
  },
  {
   "cell_type": "markdown",
   "id": "2d1f4d87-c962-4ccb-8c62-fb0cb86892a0",
   "metadata": {},
   "source": [
    "Observation: We can see one of the model's strongest features, which is that assets that don't have views are kept unchanged."
   ]
  },
  {
   "cell_type": "markdown",
   "id": "28fc69c4-a647-443f-bcdc-f599a68bd43e",
   "metadata": {},
   "source": [
    "--------"
   ]
  },
  {
   "cell_type": "markdown",
   "id": "74b79428-026e-49a6-80b6-bc7822408682",
   "metadata": {},
   "source": [
    "#### Portfolio Statistics"
   ]
  },
  {
   "cell_type": "code",
   "execution_count": 57,
   "id": "986e3da9-e4eb-4b09-bd81-16ae4ac7aff5",
   "metadata": {
    "tags": []
   },
   "outputs": [
    {
     "name": "stdout",
     "output_type": "stream",
     "text": [
      "                  Market Capitalization-Weighted Portfolio  \\\n",
      "Excess Returns                                       1.40%   \n",
      "Variance                                          0.006485   \n",
      "Std. Deviation                                      8.053%   \n",
      "Beta                                                   1.0   \n",
      "Residual Return                                         --   \n",
      "Residual Risk                                           --   \n",
      "Active Return                                           --   \n",
      "Active Risk                                             --   \n",
      "Sharpe Ratio                                      0.173781   \n",
      "Information Ratio                                       --   \n",
      "\n",
      "                  Black-Litterman Portfolio  \n",
      "Excess Returns                        1.69%  \n",
      "Variance                           0.007819  \n",
      "Std. Deviation                       8.842%  \n",
      "Beta                               1.079796  \n",
      "Residual Return                     0.0018%  \n",
      "Residual Risk                        0.016%  \n",
      "Active Return                       0.0029%  \n",
      "Active Risk                         0.0173%  \n",
      "Sharpe Ratio                       0.190811  \n",
      "Information Ratio                  0.150316  \n"
     ]
    }
   ],
   "source": [
    "### Excess Returns\n",
    "mktcap_excess = float(weights_pi.T @ np.array(implied_return)) - rf\n",
    "bl_excess = float(weights_new.T @ new_return) - rf\n",
    "\n",
    "### Variances\n",
    "var_pi = float(np.array(weights_pi.T@sigma@weights_pi))\n",
    "var_bl = float(np.array(weights_new.T@sigma@weights_new))\n",
    "\n",
    "### Beta\n",
    "mktcap_weekly = np.array((weights_pi.T @ returns_df.tail(171).T), dtype='float64')\n",
    "bl_weekly = np.array(weights_new.T @ returns_df.tail(171).T, dtype='float64')\n",
    "beta_mktcap = np.linalg.inv(mktcap_weekly @ mktcap_weekly.T) @ mktcap_weekly @ mktcap_weekly.T\n",
    "beta_bl = np.linalg.inv(mktcap_weekly @ mktcap_weekly.T) @ mktcap_weekly @ bl_weekly.T\n",
    "\n",
    "### Residual Return\n",
    "theta_p = np.array(bl_excess - beta_bl*mktcap_excess)\n",
    "\n",
    "### Residual Risk\n",
    "omega_p = np.array(var_bl - beta_bl**2*var_pi)**(1/2)\n",
    "\n",
    "### Active Ret\n",
    "active_ret = bl_excess-mktcap_excess\n",
    "\n",
    "### Active Risk\n",
    "active_risk = (omega_p**2+((beta_bl-1)**2)*var_pi)**(1/2)\n",
    "\n",
    "### Sharpe Ratio\n",
    "sharpe_mktcap = (mktcap_excess-rf)/(var_pi)**(1/2)\n",
    "sharpe_bl = (bl_excess-rf)/(var_bl)**(1/2)\n",
    "\n",
    "### Tracking Error:\n",
    "TE = np.std(bl_weekly - mktcap_weekly, ddof=1)\n",
    "\n",
    "### Information Ratio\n",
    "IR = active_ret / TE\n",
    "\n",
    "######\n",
    "pf_statistics = pd.DataFrame({\n",
    "       'Market Capitalization-Weighted Portfolio' : [mktcap_excess],\n",
    "       'Black-Litterman Portfolio' : [bl_excess]\n",
    "}, index = ['Excess Returns'])\n",
    "\n",
    "pf_statistics.loc['Variance'] = [var_pi  , var_bl]\n",
    "\n",
    "pf_statistics.loc['Std. Deviation'] = [var_pi**(1/2)  , var_bl**(1/2)]\n",
    "\n",
    "pf_statistics.loc['Beta'] = [float(beta_mktcap)  , float(beta_bl)]\n",
    "\n",
    "pf_statistics.loc['Residual Return'] = [ '--' , float(theta_p)]\n",
    "\n",
    "pf_statistics.loc['Residual Risk'] = [ '--' , float(omega_p)]\n",
    "\n",
    "pf_statistics.loc['Active Return'] = [ '--' , active_ret]\n",
    "\n",
    "pf_statistics.loc['Active Risk'] = [ '--' , float(active_risk)]\n",
    "\n",
    "pf_statistics.loc['Sharpe Ratio'] = [sharpe_mktcap , sharpe_bl]\n",
    "\n",
    "pf_statistics.loc['Information Ratio'] = [ '--' , float(IR)]\n",
    "\n",
    "pf_statistics.loc['Excess Returns', :] = pf_statistics.loc['Excess Returns', :].apply(lambda x: f\"{x:.2%}\")\n",
    "\n",
    "pf_statistics.loc['Std. Deviation', :] = pf_statistics.loc['Std. Deviation', :].apply(lambda x: f\"{x:.3%}\")\n",
    "\n",
    "pf_statistics.loc['Residual Return', 'Black-Litterman Portfolio'] = str(round(pf_statistics.loc['Residual Return', 'Black-Litterman Portfolio'],4)) + '%'\n",
    "\n",
    "pf_statistics.loc['Residual Risk', 'Black-Litterman Portfolio'] = str(round(pf_statistics.loc['Residual Risk', 'Black-Litterman Portfolio'],4)) + '%'\n",
    "\n",
    "pf_statistics.loc['Active Return', 'Black-Litterman Portfolio'] = str(round(pf_statistics.loc['Active Return', 'Black-Litterman Portfolio'],4)) + '%'\n",
    "\n",
    "pf_statistics.loc['Active Risk', 'Black-Litterman Portfolio'] = str(round(pf_statistics.loc['Active Risk', 'Black-Litterman Portfolio'],4)) + '%'\n",
    "\n",
    "print(pf_statistics)"
   ]
  },
  {
   "cell_type": "markdown",
   "id": "402c7367-54d6-4e4e-832c-801148bc1a09",
   "metadata": {},
   "source": [
    "Note: All of these results are weekly."
   ]
  },
  {
   "cell_type": "markdown",
   "id": "1c6a7ed4-34e6-4439-b37c-f221dcf2ede0",
   "metadata": {},
   "source": [
    "The results can be seen in an annualized basis in the following table:"
   ]
  },
  {
   "cell_type": "code",
   "execution_count": 58,
   "id": "99b0eb05-b5b5-45ca-b29e-08c698ae8a20",
   "metadata": {
    "tags": []
   },
   "outputs": [
    {
     "name": "stdout",
     "output_type": "stream",
     "text": [
      "                  Market Capitalization-Weighted Portfolio  \\\n",
      "Excess Returns                                      72.77%   \n",
      "Variance                                          0.337245   \n",
      "Std. Deviation                                     58.073%   \n",
      "Beta                                                   1.0   \n",
      "Residual Return                                         --   \n",
      "Residual Risk                                           --   \n",
      "Active Return                                           --   \n",
      "Active Risk                                             --   \n",
      "Sharpe Ratio                                      1.253151   \n",
      "Information Ratio                                       --   \n",
      "\n",
      "                  Black-Litterman Portfolio  \n",
      "Excess Returns                       87.74%  \n",
      "Variance                           0.406582  \n",
      "Std. Deviation                      63.764%  \n",
      "Beta                               1.079796  \n",
      "Residual Return                     0.0916%  \n",
      "Residual Risk                       0.1156%  \n",
      "Active Return                       0.1496%  \n",
      "Active Risk                         0.1246%  \n",
      "Sharpe Ratio                       1.375958  \n",
      "Information Ratio                  1.083946  \n"
     ]
    }
   ],
   "source": [
    "######\n",
    "pf_statistics = pd.DataFrame({\n",
    "       'Market Capitalization-Weighted Portfolio' : [mktcap_excess*52],\n",
    "       'Black-Litterman Portfolio' : [bl_excess*52]\n",
    "}, index = ['Excess Returns'])\n",
    "\n",
    "pf_statistics.loc['Variance'] = [var_pi*52  , var_bl*52]\n",
    "\n",
    "pf_statistics.loc['Std. Deviation'] = [var_pi**(1/2)*52**(1/2) , var_bl**(1/2)*52**(1/2)]\n",
    "\n",
    "pf_statistics.loc['Beta'] = [float(beta_mktcap)  , float(beta_bl)]\n",
    "\n",
    "pf_statistics.loc['Residual Return'] = [ '--' , float(theta_p)*52]\n",
    "\n",
    "pf_statistics.loc['Residual Risk'] = [ '--' , float(omega_p)*52**(1/2) ]\n",
    "\n",
    "pf_statistics.loc['Active Return'] = [ '--' , active_ret*52]\n",
    "\n",
    "pf_statistics.loc['Active Risk'] = [ '--' , float(active_risk)*52**(1/2)]\n",
    "\n",
    "pf_statistics.loc['Sharpe Ratio'] = [sharpe_mktcap*52**(1/2) , sharpe_bl*52**(1/2)]\n",
    "\n",
    "pf_statistics.loc['Information Ratio'] = [ '--' , float(IR)*52**(1/2)]\n",
    "\n",
    "pf_statistics.loc['Excess Returns', :] = pf_statistics.loc['Excess Returns', :].apply(lambda x: f\"{x:.2%}\")\n",
    "\n",
    "pf_statistics.loc['Std. Deviation', :] = pf_statistics.loc['Std. Deviation', :].apply(lambda x: f\"{x:.3%}\")\n",
    "\n",
    "pf_statistics.loc['Residual Return', 'Black-Litterman Portfolio'] = str(round(pf_statistics.loc['Residual Return', 'Black-Litterman Portfolio'],4)) + '%'\n",
    "\n",
    "pf_statistics.loc['Residual Risk', 'Black-Litterman Portfolio'] = str(round(pf_statistics.loc['Residual Risk', 'Black-Litterman Portfolio'],4)) + '%'\n",
    "\n",
    "pf_statistics.loc['Active Return', 'Black-Litterman Portfolio'] = str(round(pf_statistics.loc['Active Return', 'Black-Litterman Portfolio'],4)) + '%'\n",
    "\n",
    "pf_statistics.loc['Active Risk', 'Black-Litterman Portfolio'] = str(round(pf_statistics.loc['Active Risk', 'Black-Litterman Portfolio'],4)) + '%'\n",
    "\n",
    "print(pf_statistics)"
   ]
  },
  {
   "cell_type": "markdown",
   "id": "d79b3259-83ff-458b-9670-106f4aa87f84",
   "metadata": {},
   "source": [
    "------"
   ]
  },
  {
   "cell_type": "markdown",
   "id": "55660732-283d-4807-9106-72bc181336b6",
   "metadata": {},
   "source": [
    "#### Confidence Levels in a View"
   ]
  },
  {
   "cell_type": "markdown",
   "id": "f45771da-5f07-4082-a37b-2650f1f17330",
   "metadata": {},
   "source": [
    "As previously mentioned, the $\\Omega$ matrix is composed of the variance of the error term $\\omega$, which are based on the variances of the views $ \\mathbf{p}_k \\Sigma \\mathbf{p}_k^T $ multiplied by the scalar $\\tau$. However, there may be other sources of information, in addition of the previous source, that affect an investor’s confidence in a view. Additional factors like credibility of the analyst, should be combined with the variance of the view to get the best possible estimates of the certainty on the views."
   ]
  },
  {
   "cell_type": "markdown",
   "id": "aa5f6591-dfe3-421f-a00d-5634f7786542",
   "metadata": {},
   "source": [
    "Setting $\\Omega$ to zero is the equivalent to say that we are 100% confident on the views."
   ]
  },
  {
   "cell_type": "markdown",
   "id": "73505bde-8671-4608-9b2a-6b290d372c56",
   "metadata": {},
   "source": [
    "The Black-Litterman formula becomes:<br>\n",
    "$$\n",
    "E[R_{100\\%}] = \\Pi + \\tau\\Sigma P'(P\\tau\\Sigma P')^{-1}(Q - P\\Pi)\n",
    "$$\n"
   ]
  },
  {
   "cell_type": "markdown",
   "id": "a6ea170a-fb84-4ea3-bdf9-e909dcd1b688",
   "metadata": {},
   "source": [
    "Substituing E[R_{100\\%}] for $\\mu$ in Formula 2 gives us the weights based on 100% confidence in the views: $w_{100\\%}$"
   ]
  },
  {
   "cell_type": "code",
   "execution_count": 59,
   "id": "b284c8f0-4c44-47ab-ad3a-35e8821a1f42",
   "metadata": {},
   "outputs": [],
   "source": [
    "confident_return = np.array(implied_return) + tao*sigma@P.T@(np.linalg.inv((P@np.array(tao*sigma)@P.T)))@(Q-P@np.array(implied_return))\n",
    "weights_confident = np.array(np.linalg.inv(lam*np.array(sigma))@confident_return)"
   ]
  },
  {
   "cell_type": "code",
   "execution_count": 60,
   "id": "c4eb9175-e417-4276-80f2-4ddf439b29c7",
   "metadata": {},
   "outputs": [
    {
     "data": {
      "text/html": [
       "<div>\n",
       "<style scoped>\n",
       "    .dataframe tbody tr th:only-of-type {\n",
       "        vertical-align: middle;\n",
       "    }\n",
       "\n",
       "    .dataframe tbody tr th {\n",
       "        vertical-align: top;\n",
       "    }\n",
       "\n",
       "    .dataframe thead th {\n",
       "        text-align: right;\n",
       "    }\n",
       "</style>\n",
       "<table border=\"1\" class=\"dataframe\">\n",
       "  <thead>\n",
       "    <tr style=\"text-align: right;\">\n",
       "      <th></th>\n",
       "      <th>New Recommended Weights</th>\n",
       "      <th>Implied Return Weights(Mkt Cap Weights)</th>\n",
       "      <th>100% Confidence Weights</th>\n",
       "    </tr>\n",
       "  </thead>\n",
       "  <tbody>\n",
       "    <tr>\n",
       "      <th>bitcoin</th>\n",
       "      <td>0.341351</td>\n",
       "      <td>0.594589</td>\n",
       "      <td>0.053101</td>\n",
       "    </tr>\n",
       "    <tr>\n",
       "      <th>ethereum</th>\n",
       "      <td>0.499063</td>\n",
       "      <td>0.227982</td>\n",
       "      <td>0.802737</td>\n",
       "    </tr>\n",
       "    <tr>\n",
       "      <th>solana</th>\n",
       "      <td>0.050169</td>\n",
       "      <td>0.015973</td>\n",
       "      <td>0.093185</td>\n",
       "    </tr>\n",
       "    <tr>\n",
       "      <th>binancecoin</th>\n",
       "      <td>0.140673</td>\n",
       "      <td>0.044789</td>\n",
       "      <td>0.26129</td>\n",
       "    </tr>\n",
       "    <tr>\n",
       "      <th>ripple</th>\n",
       "      <td>0.027619</td>\n",
       "      <td>0.027619</td>\n",
       "      <td>0.027619</td>\n",
       "    </tr>\n",
       "    <tr>\n",
       "      <th>cardano</th>\n",
       "      <td>-0.057326</td>\n",
       "      <td>0.02356</td>\n",
       "      <td>-0.159075</td>\n",
       "    </tr>\n",
       "    <tr>\n",
       "      <th>avalanche-2</th>\n",
       "      <td>0.007068</td>\n",
       "      <td>0.007068</td>\n",
       "      <td>0.007068</td>\n",
       "    </tr>\n",
       "    <tr>\n",
       "      <th>dogecoin</th>\n",
       "      <td>0.014431</td>\n",
       "      <td>0.014431</td>\n",
       "      <td>0.014431</td>\n",
       "    </tr>\n",
       "    <tr>\n",
       "      <th>polkadot</th>\n",
       "      <td>-0.034865</td>\n",
       "      <td>0.014329</td>\n",
       "      <td>-0.096749</td>\n",
       "    </tr>\n",
       "    <tr>\n",
       "      <th>matic-network</th>\n",
       "      <td>0.037168</td>\n",
       "      <td>0.006508</td>\n",
       "      <td>0.053365</td>\n",
       "    </tr>\n",
       "    <tr>\n",
       "      <th>tron</th>\n",
       "      <td>0.00566</td>\n",
       "      <td>0.00566</td>\n",
       "      <td>0.00566</td>\n",
       "    </tr>\n",
       "    <tr>\n",
       "      <th>chainlink</th>\n",
       "      <td>-0.024336</td>\n",
       "      <td>0.006324</td>\n",
       "      <td>-0.040533</td>\n",
       "    </tr>\n",
       "    <tr>\n",
       "      <th>litecoin</th>\n",
       "      <td>0.007215</td>\n",
       "      <td>0.007215</td>\n",
       "      <td>0.007215</td>\n",
       "    </tr>\n",
       "    <tr>\n",
       "      <th>cosmos</th>\n",
       "      <td>0.003953</td>\n",
       "      <td>0.003953</td>\n",
       "      <td>0.003953</td>\n",
       "    </tr>\n",
       "  </tbody>\n",
       "</table>\n",
       "</div>"
      ],
      "text/plain": [
       "              New Recommended Weights Implied Return Weights(Mkt Cap Weights)  \\\n",
       "bitcoin                      0.341351                                0.594589   \n",
       "ethereum                     0.499063                                0.227982   \n",
       "solana                       0.050169                                0.015973   \n",
       "binancecoin                  0.140673                                0.044789   \n",
       "ripple                       0.027619                                0.027619   \n",
       "cardano                     -0.057326                                 0.02356   \n",
       "avalanche-2                  0.007068                                0.007068   \n",
       "dogecoin                     0.014431                                0.014431   \n",
       "polkadot                    -0.034865                                0.014329   \n",
       "matic-network                0.037168                                0.006508   \n",
       "tron                          0.00566                                 0.00566   \n",
       "chainlink                   -0.024336                                0.006324   \n",
       "litecoin                     0.007215                                0.007215   \n",
       "cosmos                       0.003953                                0.003953   \n",
       "\n",
       "              100% Confidence Weights  \n",
       "bitcoin                      0.053101  \n",
       "ethereum                     0.802737  \n",
       "solana                       0.093185  \n",
       "binancecoin                   0.26129  \n",
       "ripple                       0.027619  \n",
       "cardano                     -0.159075  \n",
       "avalanche-2                  0.007068  \n",
       "dogecoin                     0.014431  \n",
       "polkadot                    -0.096749  \n",
       "matic-network                0.053365  \n",
       "tron                          0.00566  \n",
       "chainlink                   -0.040533  \n",
       "litecoin                     0.007215  \n",
       "cosmos                       0.003953  "
      ]
     },
     "execution_count": 60,
     "metadata": {},
     "output_type": "execute_result"
    }
   ],
   "source": [
    "results3_df = pd.DataFrame({\n",
    "    'New Recommended Weights': weights_new.flatten(),\n",
    "    'Implied Return Weights(Mkt Cap Weights)': weights_pi.flatten(),\n",
    "    '100% Confidence Weights' : weights_confident.flatten(),\n",
    "}, index=tickers)\n",
    "\n",
    "results3_df"
   ]
  },
  {
   "cell_type": "code",
   "execution_count": 61,
   "id": "d81d979b-faa7-4666-bcae-8576b3ff4dea",
   "metadata": {
    "tags": []
   },
   "outputs": [
    {
     "data": {
      "image/png": "[encoded data removed]",
      "text/plain": [
       "<Figure size 1500x800 with 1 Axes>"
      ]
     },
     "metadata": {},
     "output_type": "display_data"
    }
   ],
   "source": [
    "\n",
    "# Create a grouped bar chart\n",
    "fig, ax = plt.subplots(figsize=(15, 8))\n",
    "width = 0.2  # Width of the bars\n",
    "num_bars = len(results3_df.columns)\n",
    "indices = range(len(results3_df))\n",
    "\n",
    "# Enumerate over columns to create grouped bars for each cryptocurrency\n",
    "for i, col in enumerate(results3_df.columns):\n",
    "    ax.bar([x + width*i for x in indices], results3_df[col], width, label=col, edgecolor='black')\n",
    "\n",
    "# Add some customizations\n",
    "ax.set_ylabel('Weights')\n",
    "ax.set_title('Comparison of Prior Weights and Posterior Weights')\n",
    "ax.set_xticks([r + width*(num_bars/2 - 0.5) for r in indices])\n",
    "ax.set_xticklabels(results3_df.index, rotation=45, ha='right')\n",
    "ax.legend()\n",
    "\n",
    "# Show the plot\n",
    "plt.tight_layout()\n",
    "plt.show()\n"
   ]
  },
  {
   "cell_type": "markdown",
   "id": "4ce946e9-e518-4560-873f-1822e4cd27d9",
   "metadata": {},
   "source": [
    "-----------"
   ]
  },
  {
   "cell_type": "markdown",
   "id": "ab3103bb-bfcb-469c-b93c-871e1c1c9ccc",
   "metadata": {},
   "source": [
    "#### Implied Confidence Level of Views"
   ]
  },
  {
   "cell_type": "markdown",
   "id": "71585ad5-a6ba-4465-953f-3661e48256c6",
   "metadata": {},
   "source": [
    "To determine the implied level of confidence in the views,<br>\n",
    "we divide each weight difference $ (\\hat{w} - w_{mkt}) $ by the corresponding maximum weight difference $ (w_{100\\%} - w_{mkt}) $.\n"
   ]
  },
  {
   "cell_type": "code",
   "execution_count": 69,
   "id": "48e81b50-d08c-48ed-8a76-0bc4e4d5b07b",
   "metadata": {},
   "outputs": [],
   "source": [
    "weight_difference = weights_new.flatten() - weights_pi.flatten()\n",
    "max_difference = weights_confident.flatten() - weights_pi.flatten()\n",
    "implied_confidence = weight_difference / max_difference"
   ]
  },
  {
   "cell_type": "code",
   "execution_count": 70,
   "id": "20b6c030-c342-4830-888c-b9ab40f43504",
   "metadata": {},
   "outputs": [
    {
     "data": {
      "text/html": [
       "<div>\n",
       "<style scoped>\n",
       "    .dataframe tbody tr th:only-of-type {\n",
       "        vertical-align: middle;\n",
       "    }\n",
       "\n",
       "    .dataframe tbody tr th {\n",
       "        vertical-align: top;\n",
       "    }\n",
       "\n",
       "    .dataframe thead th {\n",
       "        text-align: right;\n",
       "    }\n",
       "</style>\n",
       "<table border=\"1\" class=\"dataframe\">\n",
       "  <thead>\n",
       "    <tr style=\"text-align: right;\">\n",
       "      <th></th>\n",
       "      <th>Ticker</th>\n",
       "      <th>Mkt Cap Weights</th>\n",
       "      <th>New Weight</th>\n",
       "      <th>Difference New-MktCap</th>\n",
       "      <th>100% Confidence Weights</th>\n",
       "      <th>Difference 100%-MktCap</th>\n",
       "      <th>Implied Confidence Level</th>\n",
       "    </tr>\n",
       "  </thead>\n",
       "  <tbody>\n",
       "    <tr>\n",
       "      <th>0</th>\n",
       "      <td>bitcoin</td>\n",
       "      <td>59.46%</td>\n",
       "      <td>34.14%</td>\n",
       "      <td>-25.32%</td>\n",
       "      <td>5.31%</td>\n",
       "      <td>-54.15%</td>\n",
       "      <td>46.77%</td>\n",
       "    </tr>\n",
       "    <tr>\n",
       "      <th>1</th>\n",
       "      <td>ethereum</td>\n",
       "      <td>22.80%</td>\n",
       "      <td>49.91%</td>\n",
       "      <td>27.11%</td>\n",
       "      <td>80.27%</td>\n",
       "      <td>57.48%</td>\n",
       "      <td>47.16%</td>\n",
       "    </tr>\n",
       "    <tr>\n",
       "      <th>2</th>\n",
       "      <td>solana</td>\n",
       "      <td>1.60%</td>\n",
       "      <td>5.02%</td>\n",
       "      <td>3.42%</td>\n",
       "      <td>9.32%</td>\n",
       "      <td>7.72%</td>\n",
       "      <td>44.29%</td>\n",
       "    </tr>\n",
       "    <tr>\n",
       "      <th>3</th>\n",
       "      <td>binancecoin</td>\n",
       "      <td>4.48%</td>\n",
       "      <td>14.07%</td>\n",
       "      <td>9.59%</td>\n",
       "      <td>26.13%</td>\n",
       "      <td>21.65%</td>\n",
       "      <td>44.29%</td>\n",
       "    </tr>\n",
       "    <tr>\n",
       "      <th>4</th>\n",
       "      <td>ripple</td>\n",
       "      <td>2.76%</td>\n",
       "      <td>2.76%</td>\n",
       "      <td>--</td>\n",
       "      <td>2.76%</td>\n",
       "      <td>--</td>\n",
       "      <td>--</td>\n",
       "    </tr>\n",
       "    <tr>\n",
       "      <th>5</th>\n",
       "      <td>cardano</td>\n",
       "      <td>2.36%</td>\n",
       "      <td>-5.73%</td>\n",
       "      <td>-8.09%</td>\n",
       "      <td>-15.91%</td>\n",
       "      <td>-18.26%</td>\n",
       "      <td>44.29%</td>\n",
       "    </tr>\n",
       "    <tr>\n",
       "      <th>6</th>\n",
       "      <td>avalanche-2</td>\n",
       "      <td>0.71%</td>\n",
       "      <td>0.71%</td>\n",
       "      <td>--</td>\n",
       "      <td>0.71%</td>\n",
       "      <td>--</td>\n",
       "      <td>--</td>\n",
       "    </tr>\n",
       "    <tr>\n",
       "      <th>7</th>\n",
       "      <td>dogecoin</td>\n",
       "      <td>1.44%</td>\n",
       "      <td>1.44%</td>\n",
       "      <td>--</td>\n",
       "      <td>1.44%</td>\n",
       "      <td>--</td>\n",
       "      <td>--</td>\n",
       "    </tr>\n",
       "    <tr>\n",
       "      <th>8</th>\n",
       "      <td>polkadot</td>\n",
       "      <td>1.43%</td>\n",
       "      <td>-3.49%</td>\n",
       "      <td>-4.92%</td>\n",
       "      <td>-9.67%</td>\n",
       "      <td>-11.11%</td>\n",
       "      <td>44.29%</td>\n",
       "    </tr>\n",
       "    <tr>\n",
       "      <th>9</th>\n",
       "      <td>matic-network</td>\n",
       "      <td>0.65%</td>\n",
       "      <td>3.72%</td>\n",
       "      <td>3.07%</td>\n",
       "      <td>5.34%</td>\n",
       "      <td>4.69%</td>\n",
       "      <td>65.43%</td>\n",
       "    </tr>\n",
       "    <tr>\n",
       "      <th>10</th>\n",
       "      <td>tron</td>\n",
       "      <td>0.57%</td>\n",
       "      <td>0.57%</td>\n",
       "      <td>--</td>\n",
       "      <td>0.57%</td>\n",
       "      <td>--</td>\n",
       "      <td>--</td>\n",
       "    </tr>\n",
       "    <tr>\n",
       "      <th>11</th>\n",
       "      <td>chainlink</td>\n",
       "      <td>0.63%</td>\n",
       "      <td>-2.43%</td>\n",
       "      <td>-3.07%</td>\n",
       "      <td>-4.05%</td>\n",
       "      <td>-4.69%</td>\n",
       "      <td>65.43%</td>\n",
       "    </tr>\n",
       "    <tr>\n",
       "      <th>12</th>\n",
       "      <td>litecoin</td>\n",
       "      <td>0.72%</td>\n",
       "      <td>0.72%</td>\n",
       "      <td>--</td>\n",
       "      <td>0.72%</td>\n",
       "      <td>--</td>\n",
       "      <td>--</td>\n",
       "    </tr>\n",
       "    <tr>\n",
       "      <th>13</th>\n",
       "      <td>cosmos</td>\n",
       "      <td>0.40%</td>\n",
       "      <td>0.40%</td>\n",
       "      <td>--</td>\n",
       "      <td>0.40%</td>\n",
       "      <td>--</td>\n",
       "      <td>--</td>\n",
       "    </tr>\n",
       "  </tbody>\n",
       "</table>\n",
       "</div>"
      ],
      "text/plain": [
       "           Ticker Mkt Cap Weights New Weight Difference New-MktCap  \\\n",
       "0         bitcoin          59.46%     34.14%               -25.32%   \n",
       "1        ethereum          22.80%     49.91%                27.11%   \n",
       "2          solana           1.60%      5.02%                 3.42%   \n",
       "3     binancecoin           4.48%     14.07%                 9.59%   \n",
       "4          ripple           2.76%      2.76%                    --   \n",
       "5         cardano           2.36%     -5.73%                -8.09%   \n",
       "6     avalanche-2           0.71%      0.71%                    --   \n",
       "7        dogecoin           1.44%      1.44%                    --   \n",
       "8        polkadot           1.43%     -3.49%                -4.92%   \n",
       "9   matic-network           0.65%      3.72%                 3.07%   \n",
       "10           tron           0.57%      0.57%                    --   \n",
       "11      chainlink           0.63%     -2.43%                -3.07%   \n",
       "12       litecoin           0.72%      0.72%                    --   \n",
       "13         cosmos           0.40%      0.40%                    --   \n",
       "\n",
       "   100% Confidence Weights Difference 100%-MktCap Implied Confidence Level  \n",
       "0                    5.31%                -54.15%                   46.77%  \n",
       "1                   80.27%                 57.48%                   47.16%  \n",
       "2                    9.32%                  7.72%                   44.29%  \n",
       "3                   26.13%                 21.65%                   44.29%  \n",
       "4                    2.76%                     --                       --  \n",
       "5                  -15.91%                -18.26%                   44.29%  \n",
       "6                    0.71%                     --                       --  \n",
       "7                    1.44%                     --                       --  \n",
       "8                   -9.67%                -11.11%                   44.29%  \n",
       "9                    5.34%                  4.69%                   65.43%  \n",
       "10                   0.57%                     --                       --  \n",
       "11                  -4.05%                 -4.69%                   65.43%  \n",
       "12                   0.72%                     --                       --  \n",
       "13                   0.40%                     --                       --  "
      ]
     },
     "execution_count": 70,
     "metadata": {},
     "output_type": "execute_result"
    }
   ],
   "source": [
    "table4_df = pd.DataFrame({\n",
    "    'Mkt Cap Weights': weights_pi.flatten(),\n",
    "    'New Weight': weights_new.flatten(),\n",
    "    'Difference New-MktCap' : weights_new.flatten() - weights_pi.flatten(),\n",
    "    '100% Confidence Weights' : weights_confident.flatten(), \n",
    "    'Difference 100%-MktCap' : weights_confident.flatten() - weights_pi.flatten(),\n",
    "    'Implied Confidence Level':implied_confidence\n",
    "}, index=tickers)\n",
    "\n",
    "# Format all numerical values as percentages\n",
    "for col in table4_df.columns:\n",
    "    table4_df[col] = table4_df[col].apply(lambda x: f'{x:.2%}' if isinstance(x, float) else x)\n",
    "\n",
    "# Replace zeros and negative zeros with '--' in specific columns\n",
    "zero_columns = ['Difference New-MktCap', 'Difference 100%-MktCap']\n",
    "for col in zero_columns:\n",
    "    table4_df[col] = table4_df[col].replace(['0.00%', '-0.00%'], '--')\n",
    "\n",
    "# For 'Implied Confidence Level', set to '--' if either 'Difference' column is '--'\n",
    "mask = (table4_df['Difference New-MktCap'] == '--') | (table4_df['Difference 100%-MktCap'] == '--')\n",
    "table4_df.loc[mask, 'Implied Confidence Level'] = '--'\n",
    "\n",
    "table4_df.reset_index(inplace=True)\n",
    "table4_df.rename(columns={'index': 'Ticker'}, inplace=True)\n",
    "\n",
    "\n",
    "table4_df"
   ]
  },
  {
   "cell_type": "markdown",
   "id": "b8c033e4-0c01-4b28-823b-851508629cf4",
   "metadata": {},
   "source": [
    "\n",
    "Considering the observed differences between the expressed confidence levels and the implied confidence levels, it may be beneficial to test different ω values. This testing would involve recalculating the New Combined Return Vector (${E}[R]$) and determining a revised set of recommended portfolio weights. <br>\n",
    "\n",
    "Given that we're using the He & Littermann method for the scalar $\\tau$, changing it's value to change $\\Omega$ won't bring an effect to the New Combined Return Vector. We would have to directly change the views (Q) in order to see an effect. <br>\n",
    "\n",
    "Hence, it would be beneficial to try another method for computing $\\Omega$. \n"
   ]
  },
  {
   "cell_type": "markdown",
   "id": "ed59dd9e-9b0e-4a62-99d7-b50b4e603220",
   "metadata": {},
   "source": [
    "--------"
   ]
  },
  {
   "cell_type": "markdown",
   "id": "100893ea-c8fa-4792-8be4-929181653645",
   "metadata": {},
   "source": [
    "#### The tilt method"
   ]
  },
  {
   "cell_type": "markdown",
   "id": "73080dda-ce54-4076-8ea5-a14658d447d5",
   "metadata": {},
   "source": [
    "This method to compute $\\Omega$ involves intuitive confidence levels, which are specified by the user.\n",
    "\n",
    "$Tilt_k \\approx (W_{100\\%} - W_{mkt}) * C_k$\n",
    "\n",
    "where $Tilt_k$ is the approximate tilt caused by the $k^{th}$ view $(N \\times 1$), and $C_k$ is the confidence in the $k^{th}$ view.\n"
   ]
  },
  {
   "cell_type": "markdown",
   "id": "2cd31afe-03bf-4b5b-98ab-497f7a81c291",
   "metadata": {},
   "source": [
    "In the absence of other views, the approximate recommended weight vector resulting from the view is:\n",
    "\n",
    "$ W_{k,\\%} \\approx W_{mkt} + Tilt_k \\quad  $\n",
    "\n",
    "where\n",
    "\n",
    "$ W_{k,\\%} $ is the target weight vector based on the tilt caused by the $ k^{th} $ view $( N \\times 1 )$.\n"
   ]
  },
  {
   "cell_type": "markdown",
   "id": "0c941bcc-22e0-40f3-92bb-1ce325d7a8a8",
   "metadata": {},
   "source": [
    "This method involves several steps, which are the following:"
   ]
  },
  {
   "cell_type": "markdown",
   "id": "2ea2892a-0742-4d1c-bc40-7a1b86383b19",
   "metadata": {},
   "source": [
    "Step 1: For each view $k$, calculate the New Combined Return Vector $E[R_{k,100\\%}]$ using the Black-Litterman formula under 100% certainty, treating each view as if it was the only view.\n",
    "\n",
    "$$ E[R_{k,100\\%}] = \\Pi + \\tau \\Sigma P_k' (\\tau P_k \\Sigma P_k')^{-1} (Q_k - P_k \\Pi) \\quad  $$\n",
    "\n",
    "where\n",
    "\n",
    "- $E[R_{k,100\\%}]$ is the Expected Return Vector based on 100% confidence in the $k^{th}$ view ($N \\times 1$);\n",
    "- $P_k$ identifies the assets involved in the $k^{th}$ view ($1 \\times N$);\n",
    "- $Q_k$ is the $k^{th}$ View ($1 \\times 1$).\n",
    "\n"
   ]
  },
  {
   "cell_type": "markdown",
   "id": "6631641d-ee0e-42c4-a0f7-d75a85e44fb9",
   "metadata": {},
   "source": [
    "Python:"
   ]
  },
  {
   "cell_type": "code",
   "execution_count": 71,
   "id": "f6de9394-77dc-4a42-a0c6-b8bc357336e9",
   "metadata": {
    "tags": []
   },
   "outputs": [
    {
     "data": {
      "text/plain": [
       "(4, 14)"
      ]
     },
     "execution_count": 71,
     "metadata": {},
     "output_type": "execute_result"
    }
   ],
   "source": [
    "tilt_returns = []\n",
    "\n",
    "for i in range(k):\n",
    "    # Calculate the tilt return for the ith view\n",
    "    tilt_i = np.array(implied_return) + \\\n",
    "             np.array(tao * sigma) @ P[i].reshape(-1, 1) @ \\\n",
    "             np.linalg.inv(tao * P[i].reshape(1, -1) @ np.array(sigma) @ P[i].reshape(-1, 1)) @ \\\n",
    "             (Q[i] - P[i].reshape(1, -1) @ np.array(implied_return))\n",
    "    \n",
    "    # Append the flattened array of tilt returns for this view to the list\n",
    "    tilt_returns.append(tilt_i.flatten())\n",
    "\n",
    "# tilt_returns is now a list of arrays, each array represents the New Combined Vector for that view\n",
    "tilt_returns = np.array(tilt_returns)\n",
    "tilt_returns.shape"
   ]
  },
  {
   "cell_type": "markdown",
   "id": "94cd53fe-977f-4fbf-9ded-7f08aeca3bf2",
   "metadata": {},
   "source": [
    "Step 2: Calculate the weight vectors W_{k,100\\%} using formula 2, which means we'll have 4 weight vectors(given that we have k=4 views)."
   ]
  },
  {
   "cell_type": "markdown",
   "id": "3be3b530-9c51-40e1-8f30-312bf9024da7",
   "metadata": {},
   "source": [
    "Python:"
   ]
  },
  {
   "cell_type": "code",
   "execution_count": 72,
   "id": "a671928b-d198-4464-a36c-92c4bc1ab29f",
   "metadata": {},
   "outputs": [
    {
     "data": {
      "text/plain": [
       "(4, 14)"
      ]
     },
     "execution_count": 72,
     "metadata": {},
     "output_type": "execute_result"
    }
   ],
   "source": [
    "weights_tilt = []\n",
    "for i in range(k):\n",
    "    weights_tilt.append(np.linalg.inv(lam*np.array(sigma))@tilt_returns[i])\n",
    "weights_tilt = np.array(weights_tilt)\n",
    "weights_tilt.shape"
   ]
  },
  {
   "cell_type": "markdown",
   "id": "50f3b12b-8d46-4356-814d-bf6af5153a28",
   "metadata": {},
   "source": [
    "Step 3: Compute\n",
    "$D_{k,100\\%} = W_{k,100\\%} - W_{mkt}$ \n",
    "\n",
    "where\n",
    "\n",
    "$D_{k,100\\%}$ is the departure from market capitalization weight based on 100% confidence in $ k^{th} $ view $( N \\times 1 )$.\n"
   ]
  },
  {
   "cell_type": "code",
   "execution_count": 73,
   "id": "eec29cc3-2d16-4b52-b43a-4e6ff7060edf",
   "metadata": {},
   "outputs": [
    {
     "data": {
      "text/plain": [
       "(4, 14)"
      ]
     },
     "execution_count": 73,
     "metadata": {},
     "output_type": "execute_result"
    }
   ],
   "source": [
    "\n",
    "D = np.array( weights_tilt - weights_pi.T , dtype='float')\n",
    "D.shape"
   ]
  },
  {
   "cell_type": "code",
   "execution_count": 74,
   "id": "c21c0000-812c-41b1-aee0-0c1bffb619ea",
   "metadata": {
    "collapsed": true,
    "jupyter": {
     "outputs_hidden": true
    },
    "tags": []
   },
   "outputs": [
    {
     "data": {
      "text/plain": [
       "array([[ 0.04, -0.  , -0.  , -0.  , -0.  ,  0.  , -0.  ,  0.  ,  0.  ,\n",
       "        -0.  ,  0.  ,  0.  , -0.  ,  0.  ],\n",
       "       [-0.52,  0.52, -0.  ,  0.  , -0.  , -0.  ,  0.  ,  0.  , -0.  ,\n",
       "         0.  , -0.  , -0.  , -0.  ,  0.  ],\n",
       "       [-0.  , -0.  ,  0.06,  0.17,  0.  , -0.15,  0.  , -0.  , -0.09,\n",
       "         0.  , -0.  ,  0.  ,  0.  ,  0.  ],\n",
       "       [-0.  ,  0.  , -0.  ,  0.  ,  0.  ,  0.  ,  0.  , -0.  , -0.  ,\n",
       "         0.07, -0.  , -0.07, -0.  , -0.  ]])"
      ]
     },
     "execution_count": 74,
     "metadata": {},
     "output_type": "execute_result"
    }
   ],
   "source": [
    "np.round(D, 2)"
   ]
  },
  {
   "cell_type": "markdown",
   "id": "4fe84aa0-e753-49ba-9a77-65a5da66c86b",
   "metadata": {},
   "source": [
    "To visualize the results, we have the following table, where each row is a $D_{k,100\\%}$ :"
   ]
  },
  {
   "cell_type": "markdown",
   "id": "d99d8fb3-7f45-4128-8c6b-b0ff3b556dc3",
   "metadata": {},
   "source": [
    "\\begin{equation}\n",
    "D = \\begin{pmatrix}\n",
    "0.04 & 0 & 0 & 0 & 0 & 0 & 0 & 0 & 0 & 0 & 0 & 0 & 0 & 0 \\\\\n",
    "-0.52 & 0.52 & 0 & 0 & 0 & 0 & 0 & 0 & 0 & 0 & 0 & 0 & 0 & 0 \\\\\n",
    "0 & 0 & 0.06 & 0.17 & 0 & -0.15 & 0 & 0 & -0.09 & 0 & 0 & 0 & 0 & 0 \\\\\n",
    "0 & 0 & 0 & 0 & 0 & 0 & 0 & 0 & 0 & 0.07 & 0 & -0.07 & 0 & 0 \n",
    "\\end{pmatrix}\n",
    "\\end{equation}\n"
   ]
  },
  {
   "cell_type": "markdown",
   "id": "742a2621-d0f4-4622-87dd-f7ba8d808440",
   "metadata": {},
   "source": [
    "Note: The assets of $W_{k,100\\%}$ that are not part of the $ k^{th} $ view retain their original weight leading to a value of 0 for the elements of $D_{k,100\\%}$ that are not part of the $ k^{th} $ view."
   ]
  },
  {
   "cell_type": "markdown",
   "id": "4fedc26a-b692-4898-a9ee-c5af18b838b8",
   "metadata": {},
   "source": [
    "View 1, which is an absolute view towards bitcoin, is represented in row 1 of D, which shows how far away is the weight based on 100% confidence  and the market-cap weight."
   ]
  },
  {
   "cell_type": "markdown",
   "id": "7fe8eb59-853a-4499-b50d-7616b74e1038",
   "metadata": {},
   "source": [
    "Step 4: Compute\n",
    "\n",
    "$\n",
    "Tilt_k = D_{k,100\\%} * C_k \n",
    "$\n",
    "\n",
    "where\n",
    "\n",
    "- $Tilt_k$ is the desired tilt (active weights) caused by the $k^{th}$ view ($N \\times I$ ); and,\n",
    "- $C_k$ is ($N \\times 1$). It contains the Confidence Level of the view.\n",
    "\n",
    "\n",
    "The assets that are involved in the view receive the confidence level of the $k^{th}$ view and the assets that are not part of the view are set to 0.\n"
   ]
  },
  {
   "cell_type": "markdown",
   "id": "c75d1624-8cfd-4b84-a9c3-96b41cc52ea9",
   "metadata": {},
   "source": [
    "Let's use the following confidence levels:\n",
    "View 1: 80%\n",
    "View 2: 60%\n",
    "View 3: 10%\n",
    "View 4: 40%"
   ]
  },
  {
   "cell_type": "code",
   "execution_count": 75,
   "id": "67da7f82-42aa-4307-a6fa-1d3f5613b1f3",
   "metadata": {
    "tags": []
   },
   "outputs": [
    {
     "data": {
      "text/plain": [
       "array([[ 0.03, -0.  , -0.  , -0.  , -0.  ,  0.  , -0.  ,  0.  ,  0.  ,\n",
       "        -0.  ,  0.  ,  0.  , -0.  ,  0.  ],\n",
       "       [-0.31,  0.31, -0.  ,  0.  , -0.  , -0.  ,  0.  ,  0.  , -0.  ,\n",
       "         0.  , -0.  , -0.  , -0.  ,  0.  ],\n",
       "       [-0.  , -0.  ,  0.01,  0.02,  0.  , -0.01,  0.  , -0.  , -0.01,\n",
       "         0.  , -0.  ,  0.  ,  0.  ,  0.  ],\n",
       "       [-0.  ,  0.  , -0.  ,  0.  ,  0.  ,  0.  ,  0.  , -0.  , -0.  ,\n",
       "         0.03, -0.  , -0.03, -0.  , -0.  ]])"
      ]
     },
     "execution_count": 75,
     "metadata": {},
     "output_type": "execute_result"
    }
   ],
   "source": [
    "C = [0.8, 0.6, 0.1, 0.4] \n",
    "Tilt = []\n",
    "for i in range(k):\n",
    "    Tilt.append(D[i]*C[i])\n",
    "Tilt = np.array(Tilt)\n",
    "np.round(Tilt, 2)"
   ]
  },
  {
   "cell_type": "markdown",
   "id": "0f73fb39-2716-4c44-b929-f5dd82ae4535",
   "metadata": {},
   "source": [
    "$$\n",
    "Tilt = \\begin{bmatrix}\n",
    "0.03 & 0 & 0 & 0 & 0 & 0 & 0 & 0 & 0 & 0 & 0 & 0 & 0 & 0 \\\\\n",
    "-0.31 & 0.31 & 0 & 0 & 0 & 0 & 0 & 0 & 0 & 0 & 0 & 0 & 0 & 0 \\\\\n",
    "0 & 0 & 0.01 & 0.02 & 0 & -0.01 & 0 & 0 & -0.01 & 0 & 0 & 0 & 0 & 0 \\\\\n",
    "0 & 0 & 0 & 0 & 0 & 0 & 0 & 0 & 0 & 0.03 & 0 & -0.03 & 0 & 0\n",
    "\\end{bmatrix}\n",
    "$$\n"
   ]
  },
  {
   "cell_type": "markdown",
   "id": "f7f51c56-e56f-432f-afc0-96a13d39a78c",
   "metadata": {},
   "source": [
    "Each row of this matrix corresponds to $Tilt_k$ (transposed) ."
   ]
  },
  {
   "cell_type": "markdown",
   "id": "5813d29a-1e09-455b-bfb5-4a0e1bb57b36",
   "metadata": {},
   "source": [
    "Step 5: Compute the target weight vector $W_{k,\\%}$ based on the tilt.\n",
    "\n",
    "$$\n",
    "W_{k,\\%} = W_{mkt} + Tilt_k \n",
    "$$\n"
   ]
  },
  {
   "cell_type": "code",
   "execution_count": 76,
   "id": "f2204f61-01d1-4831-936c-0933605c00a2",
   "metadata": {
    "tags": []
   },
   "outputs": [
    {
     "data": {
      "text/plain": [
       "(14, 4)"
      ]
     },
     "execution_count": 76,
     "metadata": {},
     "output_type": "execute_result"
    }
   ],
   "source": [
    "weights_target = weights_pi + Tilt.T\n",
    "weights_target.shape"
   ]
  },
  {
   "cell_type": "markdown",
   "id": "bca5396e-f110-4d59-92a4-31e97b38d32f",
   "metadata": {},
   "source": [
    "Step 6: Find $\\omega_k$, which corresponds to the diagonal element of $\\Omega$ in row k, by minimizing the sum of the squared differences between $W_{k,\\%}$ and $W_k$.\n"
   ]
  },
  {
   "cell_type": "markdown",
   "id": "df307ac0-6220-4e05-9495-7981be339df4",
   "metadata": {},
   "source": [
    "$$\n",
    "\\min \\sum (W_{k,\\%} - W_k)^2 \n",
    "$$\n",
    "subject to $\\omega_k > 0$.\n",
    "\n",
    "where\n",
    "\n",
    "$$\n",
    "W_k = \\left[ \\lambda \\mathbf{ \\Sigma} \\right]^{-1} \\left[ (\\mathbf{\\tau \\Sigma})^{-1} + P_k' \\omega_k^{-1} P_k \\right]^{-1} \\left[ (\\mathbf{\\tau \\Sigma})^{-1} \\Pi + P_k' \\omega_k^{-1} \\mathbf{Q}_k \\right] \n",
    "$$\n"
   ]
  },
  {
   "cell_type": "code",
   "execution_count": 79,
   "id": "91d60d64-389a-48a3-af98-e8e1a9e7e51b",
   "metadata": {},
   "outputs": [],
   "source": [
    "\n",
    "tao = 0.000001 #Low scalar \n",
    "\n",
    "###### Omega method 1 ######\n",
    "\n",
    "# Create an omega array of zeros with the shape (num_views, num_views)\n",
    "omega1 = np.zeros((k, k))\n",
    "\n",
    "# Calculate the variance for each view and assign it to the diagonal of omega\n",
    "for i in range(k):\n",
    "    p_i = P[i].reshape(1, -1)\n",
    "    variance = np.array((p_i @ sigma @ p_i.T)).item() * tao  # Use .item() to get a scalar value\n",
    "    omega1[i, i] = variance\n",
    "\n",
    "####### Omega metho 2 #########\n",
    "\n",
    "# Initialize an array to store the optimal omega values for each iteration\n",
    "optimal_omega_values = np.zeros(4)\n",
    "omega_0_initial = 1.0\n",
    "\n",
    "for i in range(k):\n",
    "    # Define the objective function for the current iteration\n",
    "    def objective(omega_0, lam, sigma, tao, P_i, Q_i, implied_return, W_i_percent):\n",
    "        A = np.linalg.inv(lam * sigma)\n",
    "        B_inv = np.linalg.inv(np.linalg.inv(np.array(tao * sigma)) + P_i.reshape(1, -1).T @ (1 / omega_0).reshape(1,1) @ P_i.reshape(1, -1))\n",
    "        B = np.linalg.inv(B_inv)\n",
    "        C = np.linalg.inv(tao * sigma) @ np.array(implied_return) + P_i.reshape(1, -1).T @ (1 / omega_0).reshape(1,1) @ Q_i.reshape(1, 1)\n",
    "        w_0 = A @ B @ C\n",
    "        difference = W_i_percent - w_0.flatten()\n",
    "        return np.sum(difference ** 2)\n",
    "\n",
    "    # Perform the optimization using the i-th column of weights_target, and i-th elements of P and Q\n",
    "    result = minimize(\n",
    "        objective,                 # The objective function to minimize\n",
    "        omega_0_initial,           # Initial guess for omega_0\n",
    "        args=(lam, sigma, tao, P[i], Q[i], implied_return, weights_target[:, i]),  # Pass the i-th elements\n",
    "        bounds=[(1e-6, None)],     # Bounds for omega_0 to ensure it's positive\n",
    "        method='L-BFGS-B',         # Method that allows for bounds\n",
    "        options={'disp': True}     # Display convergence messages\n",
    "    )\n",
    "\n",
    "    # Store the result\n",
    "    if result.success:\n",
    "        optimal_omega_values[i] = result.x[0]\n",
    "\n",
    "optimal_omega = np.diag(optimal_omega_values)\n"
   ]
  },
  {
   "cell_type": "code",
   "execution_count": 80,
   "id": "5829cdb3-7e8b-46f8-8461-17c3918d4980",
   "metadata": {},
   "outputs": [
    {
     "data": {
      "text/plain": [
       "array([[1.00000000e+00, 0.00000000e+00, 0.00000000e+00, 0.00000000e+00],\n",
       "       [0.00000000e+00, 1.00000000e+00, 0.00000000e+00, 0.00000000e+00],\n",
       "       [0.00000000e+00, 0.00000000e+00, 1.00000000e-06, 0.00000000e+00],\n",
       "       [0.00000000e+00, 0.00000000e+00, 0.00000000e+00, 1.00000004e+00]])"
      ]
     },
     "execution_count": 80,
     "metadata": {},
     "output_type": "execute_result"
    }
   ],
   "source": [
    "optimal_omega"
   ]
  },
  {
   "cell_type": "markdown",
   "id": "b0c8ee9a-23ee-4b42-bcda-1bc1e1a661bf",
   "metadata": {},
   "source": [
    "Step 6 : Solve for the New Combined Return Vector"
   ]
  },
  {
   "cell_type": "code",
   "execution_count": 81,
   "id": "de9d123d-f076-4b09-8361-f1e4ffebb54d",
   "metadata": {},
   "outputs": [],
   "source": [
    "\n",
    "new_return1 = np.linalg.inv(np.linalg.inv(tao*np.array(sigma)) +  P.T@np.linalg.inv(omega1)@P) @ ( np.linalg.inv(tao*sigma)@np.array(implied_return) + P.T@np.linalg.inv(omega1)@Q)\n",
    "new_return2 = np.linalg.inv(np.linalg.inv(tao*np.array(sigma)) +  P.T@np.linalg.inv(optimal_omega)@P) @ ( np.linalg.inv(tao*sigma)@np.array(implied_return) + P.T@np.linalg.inv(optimal_omega)@Q)\n",
    "confident_return = np.array(implied_return) + tao*sigma@P.T@(np.linalg.inv((P@np.array(tao*sigma)@P.T)))@(Q-P@np.array(implied_return))"
   ]
  },
  {
   "cell_type": "markdown",
   "id": "339435f7-96d6-472f-8442-99ba1c4d6c0f",
   "metadata": {},
   "source": [
    "Let's put everything together:"
   ]
  },
  {
   "cell_type": "markdown",
   "id": "e26ce590-df87-4903-9245-72d4de0204e3",
   "metadata": {},
   "source": [
    "### High Tau and 100% Confidence levels"
   ]
  },
  {
   "cell_type": "code",
   "execution_count": 82,
   "id": "e58383cb-6659-44ef-9a4d-05819e23a833",
   "metadata": {
    "tags": []
   },
   "outputs": [
    {
     "data": {
      "text/html": [
       "<div>\n",
       "<style scoped>\n",
       "    .dataframe tbody tr th:only-of-type {\n",
       "        vertical-align: middle;\n",
       "    }\n",
       "\n",
       "    .dataframe tbody tr th {\n",
       "        vertical-align: top;\n",
       "    }\n",
       "\n",
       "    .dataframe thead th {\n",
       "        text-align: right;\n",
       "    }\n",
       "</style>\n",
       "<table border=\"1\" class=\"dataframe\">\n",
       "  <thead>\n",
       "    <tr style=\"text-align: right;\">\n",
       "      <th></th>\n",
       "      <th>New Combined Return E(R) 1st method</th>\n",
       "      <th>New Combined Return E(R) 2nd method</th>\n",
       "      <th>100% Confidence on Views Returns</th>\n",
       "      <th>Implied Equilibrium Return Π</th>\n",
       "    </tr>\n",
       "  </thead>\n",
       "  <tbody>\n",
       "    <tr>\n",
       "      <th>bitcoin</th>\n",
       "      <td>1.32%</td>\n",
       "      <td>1.34%</td>\n",
       "      <td>1.34%</td>\n",
       "      <td>1.29%</td>\n",
       "    </tr>\n",
       "    <tr>\n",
       "      <th>ethereum</th>\n",
       "      <td>1.76%</td>\n",
       "      <td>1.99%</td>\n",
       "      <td>1.99%</td>\n",
       "      <td>1.54%</td>\n",
       "    </tr>\n",
       "    <tr>\n",
       "      <th>solana</th>\n",
       "      <td>2.15%</td>\n",
       "      <td>2.50%</td>\n",
       "      <td>2.50%</td>\n",
       "      <td>1.82%</td>\n",
       "    </tr>\n",
       "    <tr>\n",
       "      <th>binancecoin</th>\n",
       "      <td>1.79%</td>\n",
       "      <td>2.04%</td>\n",
       "      <td>2.04%</td>\n",
       "      <td>1.56%</td>\n",
       "    </tr>\n",
       "    <tr>\n",
       "      <th>ripple</th>\n",
       "      <td>1.41%</td>\n",
       "      <td>1.60%</td>\n",
       "      <td>1.60%</td>\n",
       "      <td>1.25%</td>\n",
       "    </tr>\n",
       "    <tr>\n",
       "      <th>cardano</th>\n",
       "      <td>1.76%</td>\n",
       "      <td>1.86%</td>\n",
       "      <td>1.86%</td>\n",
       "      <td>1.64%</td>\n",
       "    </tr>\n",
       "    <tr>\n",
       "      <th>avalanche-2</th>\n",
       "      <td>2.37%</td>\n",
       "      <td>2.53%</td>\n",
       "      <td>2.53%</td>\n",
       "      <td>2.18%</td>\n",
       "    </tr>\n",
       "    <tr>\n",
       "      <th>dogecoin</th>\n",
       "      <td>2.57%</td>\n",
       "      <td>3.04%</td>\n",
       "      <td>3.04%</td>\n",
       "      <td>2.14%</td>\n",
       "    </tr>\n",
       "    <tr>\n",
       "      <th>polkadot</th>\n",
       "      <td>1.63%</td>\n",
       "      <td>1.73%</td>\n",
       "      <td>1.73%</td>\n",
       "      <td>1.53%</td>\n",
       "    </tr>\n",
       "    <tr>\n",
       "      <th>matic-network</th>\n",
       "      <td>2.10%</td>\n",
       "      <td>2.43%</td>\n",
       "      <td>2.43%</td>\n",
       "      <td>1.72%</td>\n",
       "    </tr>\n",
       "    <tr>\n",
       "      <th>tron</th>\n",
       "      <td>1.13%</td>\n",
       "      <td>1.28%</td>\n",
       "      <td>1.28%</td>\n",
       "      <td>1.01%</td>\n",
       "    </tr>\n",
       "    <tr>\n",
       "      <th>chainlink</th>\n",
       "      <td>1.51%</td>\n",
       "      <td>1.65%</td>\n",
       "      <td>1.65%</td>\n",
       "      <td>1.39%</td>\n",
       "    </tr>\n",
       "    <tr>\n",
       "      <th>litecoin</th>\n",
       "      <td>1.54%</td>\n",
       "      <td>1.66%</td>\n",
       "      <td>1.66%</td>\n",
       "      <td>1.42%</td>\n",
       "    </tr>\n",
       "    <tr>\n",
       "      <th>cosmos</th>\n",
       "      <td>1.51%</td>\n",
       "      <td>1.65%</td>\n",
       "      <td>1.65%</td>\n",
       "      <td>1.37%</td>\n",
       "    </tr>\n",
       "  </tbody>\n",
       "</table>\n",
       "</div>"
      ],
      "text/plain": [
       "              New Combined Return E(R) 1st method  \\\n",
       "bitcoin                                     1.32%   \n",
       "ethereum                                    1.76%   \n",
       "solana                                      2.15%   \n",
       "binancecoin                                 1.79%   \n",
       "ripple                                      1.41%   \n",
       "cardano                                     1.76%   \n",
       "avalanche-2                                 2.37%   \n",
       "dogecoin                                    2.57%   \n",
       "polkadot                                    1.63%   \n",
       "matic-network                               2.10%   \n",
       "tron                                        1.13%   \n",
       "chainlink                                   1.51%   \n",
       "litecoin                                    1.54%   \n",
       "cosmos                                      1.51%   \n",
       "\n",
       "              New Combined Return E(R) 2nd method  \\\n",
       "bitcoin                                     1.34%   \n",
       "ethereum                                    1.99%   \n",
       "solana                                      2.50%   \n",
       "binancecoin                                 2.04%   \n",
       "ripple                                      1.60%   \n",
       "cardano                                     1.86%   \n",
       "avalanche-2                                 2.53%   \n",
       "dogecoin                                    3.04%   \n",
       "polkadot                                    1.73%   \n",
       "matic-network                               2.43%   \n",
       "tron                                        1.28%   \n",
       "chainlink                                   1.65%   \n",
       "litecoin                                    1.66%   \n",
       "cosmos                                      1.65%   \n",
       "\n",
       "              100% Confidence on Views Returns Implied Equilibrium Return Π  \n",
       "bitcoin                                  1.34%                        1.29%  \n",
       "ethereum                                 1.99%                        1.54%  \n",
       "solana                                   2.50%                        1.82%  \n",
       "binancecoin                              2.04%                        1.56%  \n",
       "ripple                                   1.60%                        1.25%  \n",
       "cardano                                  1.86%                        1.64%  \n",
       "avalanche-2                              2.53%                        2.18%  \n",
       "dogecoin                                 3.04%                        2.14%  \n",
       "polkadot                                 1.73%                        1.53%  \n",
       "matic-network                            2.43%                        1.72%  \n",
       "tron                                     1.28%                        1.01%  \n",
       "chainlink                                1.65%                        1.39%  \n",
       "litecoin                                 1.66%                        1.42%  \n",
       "cosmos                                   1.65%                        1.37%  "
      ]
     },
     "execution_count": 82,
     "metadata": {},
     "output_type": "execute_result"
    }
   ],
   "source": [
    "#####\n",
    "tao = 10\n",
    "\n",
    "##### STEP 1. TILT RETURNS ########\n",
    "\n",
    "tilt_returns = []\n",
    "\n",
    "for i in range(k):\n",
    "    # Calculate the tilt return for the ith view\n",
    "    tilt_i = np.array(implied_return) + \\\n",
    "             np.array(tao * sigma) @ P[i].reshape(-1, 1) @ \\\n",
    "             np.linalg.inv(tao * P[i].reshape(1, -1) @ np.array(sigma) @ P[i].reshape(-1, 1)) @ \\\n",
    "             (Q[i] - P[i].reshape(1, -1) @ np.array(implied_return))\n",
    "    \n",
    "    # Append the flattened array of tilt returns for this view to the list\n",
    "    tilt_returns.append(tilt_i.flatten())\n",
    "\n",
    "# tilt_returns is now a list of arrays, each array represents the New Combined Vector for that view\n",
    "tilt_returns = np.array(tilt_returns)\n",
    "\n",
    "##### STEP 2. WEIGHTS OF THE TILT RETURNS ######\n",
    "weights_tilt = []\n",
    "for i in range(k):\n",
    "    weights_tilt.append(np.linalg.inv(lam*np.array(sigma))@tilt_returns[i])\n",
    "weights_tilt = np.array(weights_tilt)\n",
    "\n",
    "##### STEP 3. DIFFERENCE WITH PRIOR #######\n",
    "D = np.array( weights_tilt - weights_pi.T , dtype='float')\n",
    "\n",
    "##### STEP 4. CONFIDENCE LEVELS AND TILT ######\n",
    "C = [1, 1, 1, 1] \n",
    "Tilt = []\n",
    "for i in range(k):\n",
    "    Tilt.append(D[i]*C[i])\n",
    "Tilt = np.array(Tilt)\n",
    "\n",
    "##### STEP 5. TARGET WEIGHTS ######\n",
    "weights_target = weights_pi + Tilt.T\n",
    "\n",
    " \n",
    "\n",
    "###### Omega method 1 ######\n",
    "\n",
    "# Create an omega array of zeros with the shape (num_views, num_views)\n",
    "omega1 = np.zeros((k, k))\n",
    "\n",
    "# Calculate the variance for each view and assign it to the diagonal of omega\n",
    "for i in range(k):\n",
    "    p_i = P[i].reshape(1, -1)\n",
    "    variance = np.array((p_i @ sigma @ p_i.T)).item() * tao  # Use .item() to get a scalar value\n",
    "    omega1[i, i] = variance\n",
    "\n",
    "    \n",
    "##### STEP 6  #####\n",
    "####### Omega method 2 #########\n",
    "\n",
    "# Initialize an array to store the optimal omega values for each iteration\n",
    "optimal_omega_values = np.zeros(4)\n",
    "omega_0_initial = 1.0\n",
    "# Loop over the indices 0 to 3\n",
    "for i in range(k):\n",
    "    # Define the objective function for the current iteration\n",
    "    def objective(omega_0, lam, sigma, tao, P_i, Q_i, implied_return, W_i_percent):\n",
    "        A = np.linalg.inv(lam * sigma)\n",
    "        B = np.linalg.inv(np.linalg.inv(np.array(tao * sigma)) + P_i.reshape(1, -1).T @ (1 / omega_0).reshape(1,1) @ P_i.reshape(1, -1))\n",
    "        C = np.linalg.inv(tao * sigma) @ np.array(implied_return) + P_i.reshape(1, -1).T @ (1 / omega_0).reshape(1,1) @ Q_i.reshape(1, 1)\n",
    "        w_0 = A @ B @ C\n",
    "        difference = W_i_percent - w_0.flatten()\n",
    "        return np.sum(difference ** 2)\n",
    "\n",
    "    # Perform the optimization using the i-th column of weights_target, and i-th elements of P and Q\n",
    "    result = minimize(\n",
    "        objective,                 # The objective function to minimize\n",
    "        omega_0_initial,           # Initial guess for omega_0\n",
    "        args=(lam, sigma, tao, P[i], Q[i], implied_return, weights_target[:, i]),  # Pass the i-th elements\n",
    "        bounds=[(1e-7, None)],     # Bounds for omega_0 to ensure it's positive\n",
    "        method='L-BFGS-B',         # Method that allows for bounds\n",
    "        options={'disp': True}     # Display convergence messages\n",
    "    )\n",
    "\n",
    "    # Store the result\n",
    "    if result.success:\n",
    "        optimal_omega_values[i] = result.x[0]\n",
    "\n",
    "optimal_omega = np.diag(optimal_omega_values)\n",
    "\n",
    "\n",
    "new_return1 = np.linalg.inv(np.linalg.inv(tao*np.array(sigma)) +  P.T@np.linalg.inv(omega1)@P) @ ( np.linalg.inv(tao*sigma)@np.array(implied_return) + P.T@np.linalg.inv(omega1)@Q)\n",
    "new_return2 = np.linalg.inv(np.linalg.inv(tao*np.array(sigma)) +  P.T@np.linalg.inv(optimal_omega)@P) @ ( np.linalg.inv(tao*sigma)@np.array(implied_return) + P.T@np.linalg.inv(optimal_omega)@Q)\n",
    "confident_return = np.array(implied_return) + tao*sigma@P.T@(np.linalg.inv((P@np.array(tao*sigma)@P.T)))@(Q-P@np.array(implied_return))\n",
    "\n",
    "results4_df = pd.DataFrame({\n",
    "    'New Combined Return E(R) 1st method': new_return1.flatten(),\n",
    "    'New Combined Return E(R) 2nd method': new_return2.flatten(),\n",
    "    '100% Confidence on Views Returns'   : np.array(confident_return).flatten(),\n",
    "    'Implied Equilibrium Return Π': np.array(implied_return).flatten(),\n",
    "}, index=tickers)\n",
    "\n",
    "# Format the numbers to round them to two decimal places and convert to percentage\n",
    "results4_df['New Combined Return E(R) 1st method'] = results4_df['New Combined Return E(R) 1st method'].apply(lambda x: f\"{x:.2%}\")\n",
    "results4_df['New Combined Return E(R) 2nd method'] = results4_df['New Combined Return E(R) 2nd method'].apply(lambda x: f\"{x:.2%}\")\n",
    "results4_df['100% Confidence on Views Returns'] = results4_df['100% Confidence on Views Returns'].apply(lambda x: f\"{x:.2%}\")\n",
    "results4_df['Implied Equilibrium Return Π'] = results4_df['Implied Equilibrium Return Π'].apply(lambda x: f\"{x:.2%}\")\n",
    "\n",
    "results4_df"
   ]
  },
  {
   "cell_type": "markdown",
   "id": "086e27a5-8562-40ab-9044-3678b2211eab",
   "metadata": {},
   "source": [
    "This 1st table shows the expected returns (our Posterior) using method 1 and 2 to compute $\\Omega$. <br>\n",
    "In the 3rd and 4th column, we have the 100% Confidence on Views Vector and the Implied Equilibrium Returns (the Prior). <br>\n",
    "In this example, I set the value of $\\tau$ to 10, which is a high value. <br> \n",
    "A high value of $\\tau$ increases the weight given towards the views. <br>\n",
    "In addition, the confidence levels are set to 100% to all the views. <br>\n",
    "As you can see, the posterior using the 2nd method (col.2) is equal to col.3.<br>\n"
   ]
  },
  {
   "cell_type": "markdown",
   "id": "f2177def-78d7-4e01-a482-5010b203cf45",
   "metadata": {},
   "source": [
    "### Low Tau, 100% Confidence Levels"
   ]
  },
  {
   "cell_type": "markdown",
   "id": "bff3f7eb-8bc9-46a1-a7fb-556e728030b6",
   "metadata": {},
   "source": [
    "Now let's see what happens if we set a low $\\tau$ but with 100% confidence levels:"
   ]
  },
  {
   "cell_type": "code",
   "execution_count": 83,
   "id": "1cf85d07-7db2-4d9b-8b7a-c7281a9dabf5",
   "metadata": {
    "tags": []
   },
   "outputs": [
    {
     "data": {
      "text/html": [
       "<div>\n",
       "<style scoped>\n",
       "    .dataframe tbody tr th:only-of-type {\n",
       "        vertical-align: middle;\n",
       "    }\n",
       "\n",
       "    .dataframe tbody tr th {\n",
       "        vertical-align: top;\n",
       "    }\n",
       "\n",
       "    .dataframe thead th {\n",
       "        text-align: right;\n",
       "    }\n",
       "</style>\n",
       "<table border=\"1\" class=\"dataframe\">\n",
       "  <thead>\n",
       "    <tr style=\"text-align: right;\">\n",
       "      <th></th>\n",
       "      <th>New Combined Return E(R) 1st method</th>\n",
       "      <th>New Combined Return E(R) 2nd method</th>\n",
       "      <th>100% Confidence on Views Returns</th>\n",
       "      <th>Implied Equilibrium Return Π</th>\n",
       "    </tr>\n",
       "  </thead>\n",
       "  <tbody>\n",
       "    <tr>\n",
       "      <th>bitcoin</th>\n",
       "      <td>1.32%</td>\n",
       "      <td>1.29%</td>\n",
       "      <td>1.34%</td>\n",
       "      <td>1.29%</td>\n",
       "    </tr>\n",
       "    <tr>\n",
       "      <th>ethereum</th>\n",
       "      <td>1.76%</td>\n",
       "      <td>1.54%</td>\n",
       "      <td>1.99%</td>\n",
       "      <td>1.54%</td>\n",
       "    </tr>\n",
       "    <tr>\n",
       "      <th>solana</th>\n",
       "      <td>2.15%</td>\n",
       "      <td>1.82%</td>\n",
       "      <td>2.50%</td>\n",
       "      <td>1.82%</td>\n",
       "    </tr>\n",
       "    <tr>\n",
       "      <th>binancecoin</th>\n",
       "      <td>1.79%</td>\n",
       "      <td>1.56%</td>\n",
       "      <td>2.04%</td>\n",
       "      <td>1.56%</td>\n",
       "    </tr>\n",
       "    <tr>\n",
       "      <th>ripple</th>\n",
       "      <td>1.41%</td>\n",
       "      <td>1.25%</td>\n",
       "      <td>1.60%</td>\n",
       "      <td>1.25%</td>\n",
       "    </tr>\n",
       "    <tr>\n",
       "      <th>cardano</th>\n",
       "      <td>1.76%</td>\n",
       "      <td>1.64%</td>\n",
       "      <td>1.86%</td>\n",
       "      <td>1.64%</td>\n",
       "    </tr>\n",
       "    <tr>\n",
       "      <th>avalanche-2</th>\n",
       "      <td>2.37%</td>\n",
       "      <td>2.18%</td>\n",
       "      <td>2.53%</td>\n",
       "      <td>2.18%</td>\n",
       "    </tr>\n",
       "    <tr>\n",
       "      <th>dogecoin</th>\n",
       "      <td>2.57%</td>\n",
       "      <td>2.14%</td>\n",
       "      <td>3.04%</td>\n",
       "      <td>2.14%</td>\n",
       "    </tr>\n",
       "    <tr>\n",
       "      <th>polkadot</th>\n",
       "      <td>1.63%</td>\n",
       "      <td>1.53%</td>\n",
       "      <td>1.73%</td>\n",
       "      <td>1.53%</td>\n",
       "    </tr>\n",
       "    <tr>\n",
       "      <th>matic-network</th>\n",
       "      <td>2.10%</td>\n",
       "      <td>1.72%</td>\n",
       "      <td>2.43%</td>\n",
       "      <td>1.72%</td>\n",
       "    </tr>\n",
       "    <tr>\n",
       "      <th>tron</th>\n",
       "      <td>1.13%</td>\n",
       "      <td>1.01%</td>\n",
       "      <td>1.28%</td>\n",
       "      <td>1.01%</td>\n",
       "    </tr>\n",
       "    <tr>\n",
       "      <th>chainlink</th>\n",
       "      <td>1.51%</td>\n",
       "      <td>1.39%</td>\n",
       "      <td>1.65%</td>\n",
       "      <td>1.39%</td>\n",
       "    </tr>\n",
       "    <tr>\n",
       "      <th>litecoin</th>\n",
       "      <td>1.54%</td>\n",
       "      <td>1.42%</td>\n",
       "      <td>1.66%</td>\n",
       "      <td>1.42%</td>\n",
       "    </tr>\n",
       "    <tr>\n",
       "      <th>cosmos</th>\n",
       "      <td>1.51%</td>\n",
       "      <td>1.37%</td>\n",
       "      <td>1.65%</td>\n",
       "      <td>1.37%</td>\n",
       "    </tr>\n",
       "  </tbody>\n",
       "</table>\n",
       "</div>"
      ],
      "text/plain": [
       "              New Combined Return E(R) 1st method  \\\n",
       "bitcoin                                     1.32%   \n",
       "ethereum                                    1.76%   \n",
       "solana                                      2.15%   \n",
       "binancecoin                                 1.79%   \n",
       "ripple                                      1.41%   \n",
       "cardano                                     1.76%   \n",
       "avalanche-2                                 2.37%   \n",
       "dogecoin                                    2.57%   \n",
       "polkadot                                    1.63%   \n",
       "matic-network                               2.10%   \n",
       "tron                                        1.13%   \n",
       "chainlink                                   1.51%   \n",
       "litecoin                                    1.54%   \n",
       "cosmos                                      1.51%   \n",
       "\n",
       "              New Combined Return E(R) 2nd method  \\\n",
       "bitcoin                                     1.29%   \n",
       "ethereum                                    1.54%   \n",
       "solana                                      1.82%   \n",
       "binancecoin                                 1.56%   \n",
       "ripple                                      1.25%   \n",
       "cardano                                     1.64%   \n",
       "avalanche-2                                 2.18%   \n",
       "dogecoin                                    2.14%   \n",
       "polkadot                                    1.53%   \n",
       "matic-network                               1.72%   \n",
       "tron                                        1.01%   \n",
       "chainlink                                   1.39%   \n",
       "litecoin                                    1.42%   \n",
       "cosmos                                      1.37%   \n",
       "\n",
       "              100% Confidence on Views Returns Implied Equilibrium Return Π  \n",
       "bitcoin                                  1.34%                        1.29%  \n",
       "ethereum                                 1.99%                        1.54%  \n",
       "solana                                   2.50%                        1.82%  \n",
       "binancecoin                              2.04%                        1.56%  \n",
       "ripple                                   1.60%                        1.25%  \n",
       "cardano                                  1.86%                        1.64%  \n",
       "avalanche-2                              2.53%                        2.18%  \n",
       "dogecoin                                 3.04%                        2.14%  \n",
       "polkadot                                 1.73%                        1.53%  \n",
       "matic-network                            2.43%                        1.72%  \n",
       "tron                                     1.28%                        1.01%  \n",
       "chainlink                                1.65%                        1.39%  \n",
       "litecoin                                 1.66%                        1.42%  \n",
       "cosmos                                   1.65%                        1.37%  "
      ]
     },
     "execution_count": 83,
     "metadata": {},
     "output_type": "execute_result"
    }
   ],
   "source": [
    "#####\n",
    "tao = 0.000001\n",
    "\n",
    "##### STEP 1. TILT RETURNS ########\n",
    "\n",
    "tilt_returns = []\n",
    "\n",
    "for i in range(k):\n",
    "    # Calculate the tilt return for the ith view\n",
    "    tilt_i = np.array(implied_return) + \\\n",
    "             np.array(tao * sigma) @ P[i].reshape(-1, 1) @ \\\n",
    "             np.linalg.inv(tao * P[i].reshape(1, -1) @ np.array(sigma) @ P[i].reshape(-1, 1)) @ \\\n",
    "             (Q[i] - P[i].reshape(1, -1) @ np.array(implied_return))\n",
    "    \n",
    "    # Append the flattened array of tilt returns for this view to the list\n",
    "    tilt_returns.append(tilt_i.flatten())\n",
    "\n",
    "# tilt_returns is now a list of arrays, each array represents the New Combined Vector for that view\n",
    "tilt_returns = np.array(tilt_returns)\n",
    "\n",
    "##### STEP 2. WEIGHTS OF THE TILT RETURNS ######\n",
    "weights_tilt = []\n",
    "for i in range(k):\n",
    "    weights_tilt.append(np.linalg.inv(lam*np.array(sigma))@tilt_returns[i])\n",
    "weights_tilt = np.array(weights_tilt)\n",
    "\n",
    "##### STEP 3. DIFFERENCE WITH PRIOR #######\n",
    "D = np.array( weights_tilt - weights_pi.T , dtype='float')\n",
    "\n",
    "##### STEP 4. CONFIDENCE LEVELS AND TILT ######\n",
    "C = [1, 1, 1, 1] \n",
    "Tilt = []\n",
    "for i in range(k):\n",
    "    Tilt.append(D[i]*C[i])\n",
    "Tilt = np.array(Tilt)\n",
    "\n",
    "##### STEP 5. TARGET WEIGHTS ######\n",
    "weights_target = weights_pi + Tilt.T\n",
    "\n",
    " \n",
    "\n",
    "###### Omega method 1 ######\n",
    "\n",
    "# Create an omega array of zeros with the shape (num_views, num_views)\n",
    "omega1 = np.zeros((k, k))\n",
    "\n",
    "# Calculate the variance for each view and assign it to the diagonal of omega\n",
    "for i in range(k):\n",
    "    p_i = P[i].reshape(1, -1)\n",
    "    variance = np.array((p_i @ sigma @ p_i.T)).item() * tao  # Use .item() to get a scalar value\n",
    "    omega1[i, i] = variance\n",
    "\n",
    "    \n",
    "##### STEP 6  #####\n",
    "####### Omega method 2 #########\n",
    "\n",
    "# Initialize an array to store the optimal omega values for each iteration\n",
    "optimal_omega_values = np.zeros(4)\n",
    "omega_0_initial = 1.0\n",
    "# Loop over the indices 0 to 3\n",
    "for i in range(k):\n",
    "    # Define the objective function for the current iteration\n",
    "    def objective(omega_0, lam, sigma, tao, P_i, Q_i, implied_return, W_i_percent):\n",
    "        A = np.linalg.inv(lam * sigma)\n",
    "        B = np.linalg.inv(np.linalg.inv(np.array(tao * sigma)) + P_i.reshape(1, -1).T @ (1 / omega_0).reshape(1,1) @ P_i.reshape(1, -1))\n",
    "        C = np.linalg.inv(tao * sigma) @ np.array(implied_return) + P_i.reshape(1, -1).T @ (1 / omega_0).reshape(1,1) @ Q_i.reshape(1, 1)\n",
    "        w_0 = A @ B @ C\n",
    "        difference = W_i_percent - w_0.flatten()\n",
    "        return np.sum(difference ** 2)\n",
    "\n",
    "    # Perform the optimization using the i-th column of weights_target, and i-th elements of P and Q\n",
    "    result = minimize(\n",
    "        objective,                 # The objective function to minimize\n",
    "        omega_0_initial,           # Initial guess for omega_0\n",
    "        args=(lam, sigma, tao, P[i], Q[i], implied_return, weights_target[:, i]),  # Pass the i-th elements\n",
    "        bounds=[(1e-7, None)],     # Bounds for omega_0 to ensure it's positive\n",
    "        method='L-BFGS-B',         # Method that allows for bounds\n",
    "        options={'disp': True}     # Display convergence messages\n",
    "    )\n",
    "\n",
    "    # Store the result\n",
    "    if result.success:\n",
    "        optimal_omega_values[i] = result.x[0]\n",
    "\n",
    "optimal_omega = np.diag(optimal_omega_values)\n",
    "\n",
    "\n",
    "new_return1 = np.linalg.inv(np.linalg.inv(tao*np.array(sigma)) +  P.T@np.linalg.inv(omega1)@P) @ ( np.linalg.inv(tao*sigma)@np.array(implied_return) + P.T@np.linalg.inv(omega1)@Q)\n",
    "new_return2 = np.linalg.inv(np.linalg.inv(tao*np.array(sigma)) +  P.T@np.linalg.inv(optimal_omega)@P) @ ( np.linalg.inv(tao*sigma)@np.array(implied_return) + P.T@np.linalg.inv(optimal_omega)@Q)\n",
    "confident_return = np.array(implied_return) + tao*sigma@P.T@(np.linalg.inv((P@np.array(tao*sigma)@P.T)))@(Q-P@np.array(implied_return))\n",
    "\n",
    "results4_df = pd.DataFrame({\n",
    "    'New Combined Return E(R) 1st method': new_return1.flatten(),\n",
    "    'New Combined Return E(R) 2nd method': new_return2.flatten(),\n",
    "    '100% Confidence on Views Returns'   : np.array(confident_return).flatten(),\n",
    "    'Implied Equilibrium Return Π': np.array(implied_return).flatten(),\n",
    "}, index=tickers)\n",
    "\n",
    "# Format the numbers to round them to two decimal places and convert to percentage\n",
    "results4_df['New Combined Return E(R) 1st method'] = results4_df['New Combined Return E(R) 1st method'].apply(lambda x: f\"{x:.2%}\")\n",
    "results4_df['New Combined Return E(R) 2nd method'] = results4_df['New Combined Return E(R) 2nd method'].apply(lambda x: f\"{x:.2%}\")\n",
    "results4_df['100% Confidence on Views Returns'] = results4_df['100% Confidence on Views Returns'].apply(lambda x: f\"{x:.2%}\")\n",
    "results4_df['Implied Equilibrium Return Π'] = results4_df['Implied Equilibrium Return Π'].apply(lambda x: f\"{x:.2%}\")\n",
    "\n",
    "results4_df"
   ]
  },
  {
   "cell_type": "markdown",
   "id": "280b3095-38e6-4324-87f2-0ce47f911b26",
   "metadata": {},
   "source": [
    "Setting low $\\tau$ and high confidence levels leads to a posterior equal to the prior."
   ]
  },
  {
   "cell_type": "markdown",
   "id": "544ba50f-20ea-42ee-b593-30ca5b8729f2",
   "metadata": {},
   "source": [
    "### High Tau, 1% confidence levels"
   ]
  },
  {
   "cell_type": "markdown",
   "id": "6779af5b-eff3-4965-b7a9-ad92881e6f38",
   "metadata": {},
   "source": [
    "Now let's set a high $\\tau$ and low confidence levels (1%):"
   ]
  },
  {
   "cell_type": "code",
   "execution_count": 85,
   "id": "866a90d0-46ee-4d81-abb3-418df2a0f82e",
   "metadata": {
    "tags": []
   },
   "outputs": [
    {
     "data": {
      "text/html": [
       "<div>\n",
       "<style scoped>\n",
       "    .dataframe tbody tr th:only-of-type {\n",
       "        vertical-align: middle;\n",
       "    }\n",
       "\n",
       "    .dataframe tbody tr th {\n",
       "        vertical-align: top;\n",
       "    }\n",
       "\n",
       "    .dataframe thead th {\n",
       "        text-align: right;\n",
       "    }\n",
       "</style>\n",
       "<table border=\"1\" class=\"dataframe\">\n",
       "  <thead>\n",
       "    <tr style=\"text-align: right;\">\n",
       "      <th></th>\n",
       "      <th>New Combined Return E(R) 1st method</th>\n",
       "      <th>New Combined Return E(R) 2nd method</th>\n",
       "      <th>100% Confidence on Views Returns</th>\n",
       "      <th>Implied Equilibrium Return Π</th>\n",
       "    </tr>\n",
       "  </thead>\n",
       "  <tbody>\n",
       "    <tr>\n",
       "      <th>bitcoin</th>\n",
       "      <td>1.32%</td>\n",
       "      <td>1.29%</td>\n",
       "      <td>1.34%</td>\n",
       "      <td>1.29%</td>\n",
       "    </tr>\n",
       "    <tr>\n",
       "      <th>ethereum</th>\n",
       "      <td>1.76%</td>\n",
       "      <td>1.54%</td>\n",
       "      <td>1.99%</td>\n",
       "      <td>1.54%</td>\n",
       "    </tr>\n",
       "    <tr>\n",
       "      <th>solana</th>\n",
       "      <td>2.15%</td>\n",
       "      <td>1.84%</td>\n",
       "      <td>2.50%</td>\n",
       "      <td>1.82%</td>\n",
       "    </tr>\n",
       "    <tr>\n",
       "      <th>binancecoin</th>\n",
       "      <td>1.79%</td>\n",
       "      <td>1.58%</td>\n",
       "      <td>2.04%</td>\n",
       "      <td>1.56%</td>\n",
       "    </tr>\n",
       "    <tr>\n",
       "      <th>ripple</th>\n",
       "      <td>1.41%</td>\n",
       "      <td>1.26%</td>\n",
       "      <td>1.60%</td>\n",
       "      <td>1.25%</td>\n",
       "    </tr>\n",
       "    <tr>\n",
       "      <th>cardano</th>\n",
       "      <td>1.76%</td>\n",
       "      <td>1.65%</td>\n",
       "      <td>1.86%</td>\n",
       "      <td>1.64%</td>\n",
       "    </tr>\n",
       "    <tr>\n",
       "      <th>avalanche-2</th>\n",
       "      <td>2.37%</td>\n",
       "      <td>2.20%</td>\n",
       "      <td>2.53%</td>\n",
       "      <td>2.18%</td>\n",
       "    </tr>\n",
       "    <tr>\n",
       "      <th>dogecoin</th>\n",
       "      <td>2.57%</td>\n",
       "      <td>2.16%</td>\n",
       "      <td>3.04%</td>\n",
       "      <td>2.14%</td>\n",
       "    </tr>\n",
       "    <tr>\n",
       "      <th>polkadot</th>\n",
       "      <td>1.63%</td>\n",
       "      <td>1.54%</td>\n",
       "      <td>1.73%</td>\n",
       "      <td>1.53%</td>\n",
       "    </tr>\n",
       "    <tr>\n",
       "      <th>matic-network</th>\n",
       "      <td>2.10%</td>\n",
       "      <td>1.75%</td>\n",
       "      <td>2.43%</td>\n",
       "      <td>1.72%</td>\n",
       "    </tr>\n",
       "    <tr>\n",
       "      <th>tron</th>\n",
       "      <td>1.13%</td>\n",
       "      <td>1.01%</td>\n",
       "      <td>1.28%</td>\n",
       "      <td>1.01%</td>\n",
       "    </tr>\n",
       "    <tr>\n",
       "      <th>chainlink</th>\n",
       "      <td>1.51%</td>\n",
       "      <td>1.39%</td>\n",
       "      <td>1.65%</td>\n",
       "      <td>1.39%</td>\n",
       "    </tr>\n",
       "    <tr>\n",
       "      <th>litecoin</th>\n",
       "      <td>1.54%</td>\n",
       "      <td>1.43%</td>\n",
       "      <td>1.66%</td>\n",
       "      <td>1.42%</td>\n",
       "    </tr>\n",
       "    <tr>\n",
       "      <th>cosmos</th>\n",
       "      <td>1.51%</td>\n",
       "      <td>1.37%</td>\n",
       "      <td>1.65%</td>\n",
       "      <td>1.37%</td>\n",
       "    </tr>\n",
       "  </tbody>\n",
       "</table>\n",
       "</div>"
      ],
      "text/plain": [
       "              New Combined Return E(R) 1st method  \\\n",
       "bitcoin                                     1.32%   \n",
       "ethereum                                    1.76%   \n",
       "solana                                      2.15%   \n",
       "binancecoin                                 1.79%   \n",
       "ripple                                      1.41%   \n",
       "cardano                                     1.76%   \n",
       "avalanche-2                                 2.37%   \n",
       "dogecoin                                    2.57%   \n",
       "polkadot                                    1.63%   \n",
       "matic-network                               2.10%   \n",
       "tron                                        1.13%   \n",
       "chainlink                                   1.51%   \n",
       "litecoin                                    1.54%   \n",
       "cosmos                                      1.51%   \n",
       "\n",
       "              New Combined Return E(R) 2nd method  \\\n",
       "bitcoin                                     1.29%   \n",
       "ethereum                                    1.54%   \n",
       "solana                                      1.84%   \n",
       "binancecoin                                 1.58%   \n",
       "ripple                                      1.26%   \n",
       "cardano                                     1.65%   \n",
       "avalanche-2                                 2.20%   \n",
       "dogecoin                                    2.16%   \n",
       "polkadot                                    1.54%   \n",
       "matic-network                               1.75%   \n",
       "tron                                        1.01%   \n",
       "chainlink                                   1.39%   \n",
       "litecoin                                    1.43%   \n",
       "cosmos                                      1.37%   \n",
       "\n",
       "              100% Confidence on Views Returns Implied Equilibrium Return Π  \n",
       "bitcoin                                  1.34%                        1.29%  \n",
       "ethereum                                 1.99%                        1.54%  \n",
       "solana                                   2.50%                        1.82%  \n",
       "binancecoin                              2.04%                        1.56%  \n",
       "ripple                                   1.60%                        1.25%  \n",
       "cardano                                  1.86%                        1.64%  \n",
       "avalanche-2                              2.53%                        2.18%  \n",
       "dogecoin                                 3.04%                        2.14%  \n",
       "polkadot                                 1.73%                        1.53%  \n",
       "matic-network                            2.43%                        1.72%  \n",
       "tron                                     1.28%                        1.01%  \n",
       "chainlink                                1.65%                        1.39%  \n",
       "litecoin                                 1.66%                        1.42%  \n",
       "cosmos                                   1.65%                        1.37%  "
      ]
     },
     "execution_count": 85,
     "metadata": {},
     "output_type": "execute_result"
    }
   ],
   "source": [
    "#####\n",
    "tao = 10\n",
    "\n",
    "##### STEP 1. TILT RETURNS ########\n",
    "\n",
    "tilt_returns = []\n",
    "\n",
    "for i in range(k):\n",
    "    # Calculate the tilt return for the ith view\n",
    "    tilt_i = np.array(implied_return) + \\\n",
    "             np.array(tao * sigma) @ P[i].reshape(-1, 1) @ \\\n",
    "             np.linalg.inv(tao * P[i].reshape(1, -1) @ np.array(sigma) @ P[i].reshape(-1, 1)) @ \\\n",
    "             (Q[i] - P[i].reshape(1, -1) @ np.array(implied_return))\n",
    "    \n",
    "    # Append the flattened array of tilt returns for this view to the list\n",
    "    tilt_returns.append(tilt_i.flatten())\n",
    "\n",
    "# tilt_returns is now a list of arrays, each array represents the New Combined Vector for that view\n",
    "tilt_returns = np.array(tilt_returns)\n",
    "\n",
    "##### STEP 2. WEIGHTS OF THE TILT RETURNS ######\n",
    "weights_tilt = []\n",
    "for i in range(k):\n",
    "    weights_tilt.append(np.linalg.inv(lam*np.array(sigma))@tilt_returns[i])\n",
    "weights_tilt = np.array(weights_tilt)\n",
    "\n",
    "##### STEP 3. DIFFERENCE WITH PRIOR #######\n",
    "D = np.array( weights_tilt - weights_pi.T , dtype='float')\n",
    "\n",
    "##### STEP 4. CONFIDENCE LEVELS AND TILT ######\n",
    "C = [0.01, 0.01, 0.01, 0.01] \n",
    "Tilt = []\n",
    "for i in range(k):\n",
    "    Tilt.append(D[i]*C[i])\n",
    "Tilt = np.array(Tilt)\n",
    "\n",
    "##### STEP 5. TARGET WEIGHTS ######\n",
    "weights_target = weights_pi + Tilt.T\n",
    "\n",
    " \n",
    "\n",
    "###### Omega method 1 ######\n",
    "\n",
    "# Create an omega array of zeros with the shape (num_views, num_views)\n",
    "omega1 = np.zeros((k, k))\n",
    "\n",
    "# Calculate the variance for each view and assign it to the diagonal of omega\n",
    "for i in range(k):\n",
    "    p_i = P[i].reshape(1, -1)\n",
    "    variance = np.array((p_i @ sigma @ p_i.T)).item() * tao  # Use .item() to get a scalar value\n",
    "    omega1[i, i] = variance\n",
    "\n",
    "    \n",
    "##### STEP 6  #####\n",
    "####### Omega method 2 #########\n",
    "\n",
    "# Initialize an array to store the optimal omega values for each iteration\n",
    "optimal_omega_values = np.zeros(4)\n",
    "omega_0_initial = 1.0\n",
    "# Loop over the indices 0 to 3\n",
    "for i in range(k):\n",
    "    # Define the objective function for the current iteration\n",
    "    def objective(omega_0, lam, sigma, tao, P_i, Q_i, implied_return, W_i_percent):\n",
    "        A = np.linalg.inv(lam * sigma)\n",
    "        B = np.linalg.inv(np.linalg.inv(np.array(tao * sigma)) + P_i.reshape(1, -1).T @ (1 / omega_0).reshape(1,1) @ P_i.reshape(1, -1))\n",
    "        C = np.linalg.inv(tao * sigma) @ np.array(implied_return) + P_i.reshape(1, -1).T @ (1 / omega_0).reshape(1,1) @ Q_i.reshape(1, 1)\n",
    "        w_0 = A @ B @ C\n",
    "        difference = W_i_percent - w_0.flatten()\n",
    "        return np.sum(difference ** 2)\n",
    "\n",
    "    # Perform the optimization using the i-th column of weights_target, and i-th elements of P and Q\n",
    "    result = minimize(\n",
    "        objective,                 # The objective function to minimize\n",
    "        omega_0_initial,           # Initial guess for omega_0\n",
    "        args=(lam, sigma, tao, P[i], Q[i], implied_return, weights_target[:, i]),  # Pass the i-th elements\n",
    "        bounds=[(1e-7, None)],     # Bounds for omega_0 to ensure it's positive\n",
    "        method='L-BFGS-B',         # Method that allows for bounds\n",
    "        options={'disp': True}     # Display convergence messages\n",
    "    )\n",
    "\n",
    "    # Store the result\n",
    "    if result.success:\n",
    "        optimal_omega_values[i] = result.x[0]\n",
    "\n",
    "optimal_omega = np.diag(optimal_omega_values)\n",
    "\n",
    "\n",
    "new_return1 = np.linalg.inv(np.linalg.inv(tao*np.array(sigma)) +  P.T@np.linalg.inv(omega1)@P) @ ( np.linalg.inv(tao*sigma)@np.array(implied_return) + P.T@np.linalg.inv(omega1)@Q)\n",
    "new_return2 = np.linalg.inv(np.linalg.inv(tao*np.array(sigma)) +  P.T@np.linalg.inv(optimal_omega)@P) @ ( np.linalg.inv(tao*sigma)@np.array(implied_return) + P.T@np.linalg.inv(optimal_omega)@Q)\n",
    "confident_return = np.array(implied_return) + tao*sigma@P.T@(np.linalg.inv((P@np.array(tao*sigma)@P.T)))@(Q-P@np.array(implied_return))\n",
    "\n",
    "results4_df = pd.DataFrame({\n",
    "    'New Combined Return E(R) 1st method': new_return1.flatten(),\n",
    "    'New Combined Return E(R) 2nd method': new_return2.flatten(),\n",
    "    '100% Confidence on Views Returns'   : np.array(confident_return).flatten(),\n",
    "    'Implied Equilibrium Return Π': np.array(implied_return).flatten(),\n",
    "}, index=tickers)\n",
    "\n",
    "# Format the numbers to round them to two decimal places and convert to percentage\n",
    "results4_df['New Combined Return E(R) 1st method'] = results4_df['New Combined Return E(R) 1st method'].apply(lambda x: f\"{x:.2%}\")\n",
    "results4_df['New Combined Return E(R) 2nd method'] = results4_df['New Combined Return E(R) 2nd method'].apply(lambda x: f\"{x:.2%}\")\n",
    "results4_df['100% Confidence on Views Returns'] = results4_df['100% Confidence on Views Returns'].apply(lambda x: f\"{x:.2%}\")\n",
    "results4_df['Implied Equilibrium Return Π'] = results4_df['Implied Equilibrium Return Π'].apply(lambda x: f\"{x:.2%}\")\n",
    "\n",
    "results4_df"
   ]
  },
  {
   "cell_type": "markdown",
   "id": "7c74fac1-6bd2-4ae6-840f-64fe87106bbc",
   "metadata": {},
   "source": [
    "We see a posterior very close to the prior. <br>\n",
    "The intuition is very clear, high $\\tau$ leads to more weight towrds the views, however since we're very uncertain about those views, the posterior stays close to the prior."
   ]
  },
  {
   "cell_type": "markdown",
   "id": "a01fcc9c-0e08-4bcb-8ec4-5baaf1abae52",
   "metadata": {},
   "source": [
    "Note: The Combined Return vector using the 1st method (ie. setting $\\omega =  \\mathbf{p}_k \\Sigma \\mathbf{p}_k^T  \\times \\tau$) doesn't change when $\\tau$ is changed, showing a potential limit of that method to compute $\\Omega$."
   ]
  },
  {
   "cell_type": "markdown",
   "id": "a5238648-0509-40bb-8165-489a048be853",
   "metadata": {},
   "source": [
    "Being able to set an intuitive confidence level may be helpful because it lets the user insert some kind of bias. <br>\n",
    "\n",
    "For example, in the context of cryptocurrencies, the news around the approval of the ETF of Bitcoin and the upcoming halvening may provide a lot of bias to investors, which can be incorporated into the model. <br>\n",
    "\n",
    "Using traditional mean-variance models, which are frequentist, don't let you incorporate this kind of information, making those models very sensitive to the input parameters(expected returns, variances, and covariances)."
   ]
  },
  {
   "cell_type": "markdown",
   "id": "f9ead74e-cce7-4697-a181-2dd0023fcefb",
   "metadata": {},
   "source": [
    "--------"
   ]
  },
  {
   "cell_type": "markdown",
   "id": "cb9dd075-531b-43f5-9402-a6c141fdfbed",
   "metadata": {},
   "source": [
    "#### Weights Comparison"
   ]
  },
  {
   "cell_type": "markdown",
   "id": "530ca58a-6548-4481-923b-ea60dbde806e",
   "metadata": {},
   "source": [
    "For this comparison, I will be setting the following assumptions: <br>\n",
    "Confidence on the views: 100%, 70%, 10%, 80% respectively, <br>\n",
    "$\\tau$ = 1 (Decent amount of weight towards the views).<br>"
   ]
  },
  {
   "cell_type": "code",
   "execution_count": 103,
   "id": "52d6db12-b1e6-4753-adf6-16a085911799",
   "metadata": {
    "tags": []
   },
   "outputs": [],
   "source": [
    "#####\n",
    "tao = 1\n",
    "\n",
    "##### STEP 1. TILT RETURNS ########\n",
    "\n",
    "tilt_returns = []\n",
    "\n",
    "for i in range(k):\n",
    "    # Calculate the tilt return for the ith view\n",
    "    tilt_i = np.array(implied_return) + \\\n",
    "             np.array(tao * sigma) @ P[i].reshape(-1, 1) @ \\\n",
    "             np.linalg.inv(tao * P[i].reshape(1, -1) @ np.array(sigma) @ P[i].reshape(-1, 1)) @ \\\n",
    "             (Q[i] - P[i].reshape(1, -1) @ np.array(implied_return))\n",
    "    \n",
    "    # Append the flattened array of tilt returns for this view to the list\n",
    "    tilt_returns.append(tilt_i.flatten())\n",
    "\n",
    "# tilt_returns is now a list of arrays, each array represents the New Combined Vector for that view\n",
    "tilt_returns = np.array(tilt_returns)\n",
    "\n",
    "##### STEP 2. WEIGHTS OF THE TILT RETURNS ######\n",
    "weights_tilt = []\n",
    "for i in range(k):\n",
    "    weights_tilt.append(np.linalg.inv(lam*np.array(sigma))@tilt_returns[i])\n",
    "weights_tilt = np.array(weights_tilt)\n",
    "\n",
    "##### STEP 3. DIFFERENCE WITH PRIOR #######\n",
    "D = np.array( weights_tilt - weights_pi.T , dtype='float')\n",
    "\n",
    "##### STEP 4. CONFIDENCE LEVELS AND TILT ######\n",
    "C = [1, 0.7, 0.1, 0.8] \n",
    "Tilt = []\n",
    "for i in range(k):\n",
    "    Tilt.append(D[i]*C[i])\n",
    "Tilt = np.array(Tilt)\n",
    "\n",
    "##### STEP 5. TARGET WEIGHTS ######\n",
    "weights_target = weights_pi + Tilt.T\n",
    "\n",
    " \n",
    "\n",
    "###### Omega method 1 ######\n",
    "\n",
    "# Create an omega array of zeros with the shape (num_views, num_views)\n",
    "omega1 = np.zeros((k, k))\n",
    "\n",
    "# Calculate the variance for each view and assign it to the diagonal of omega\n",
    "for i in range(k):\n",
    "    p_i = P[i].reshape(1, -1)\n",
    "    variance = np.array((p_i @ sigma @ p_i.T)).item() * tao  # Use .item() to get a scalar value\n",
    "    omega1[i, i] = variance\n",
    "\n",
    "    \n",
    "##### STEP 6  #####\n",
    "####### Omega method 2 #########\n",
    "\n",
    "# Initialize an array to store the optimal omega values for each iteration\n",
    "optimal_omega_values = np.zeros(4)\n",
    "omega_0_initial = 1.0\n",
    "# Loop over the indices 0 to 3\n",
    "for i in range(k):\n",
    "    # Define the objective function for the current iteration\n",
    "    def objective(omega_0, lam, sigma, tao, P_i, Q_i, implied_return, W_i_percent):\n",
    "        A = np.linalg.inv(lam * sigma)\n",
    "        B = np.linalg.inv(np.linalg.inv(np.array(tao * sigma)) + P_i.reshape(1, -1).T @ (1 / omega_0).reshape(1,1) @ P_i.reshape(1, -1))\n",
    "        C = np.linalg.inv(tao * sigma) @ np.array(implied_return) + P_i.reshape(1, -1).T @ (1 / omega_0).reshape(1,1) @ Q_i.reshape(1, 1)\n",
    "        w_0 = A @ B @ C\n",
    "        difference = W_i_percent - w_0.flatten()\n",
    "        return np.sum(difference ** 2)\n",
    "\n",
    "    # Perform the optimization using the i-th column of weights_target, and i-th elements of P and Q\n",
    "    result = minimize(\n",
    "        objective,                 # The objective function to minimize\n",
    "        omega_0_initial,           # Initial guess for omega_0\n",
    "        args=(lam, sigma, tao, P[i], Q[i], implied_return, weights_target[:, i]),  # Pass the i-th elements\n",
    "        bounds=[(1e-7, None)],     # Bounds for omega_0 to ensure it's positive\n",
    "        method='L-BFGS-B',         # Method that allows for bounds\n",
    "        options={'disp': True}     # Display convergence messages\n",
    "    )\n",
    "\n",
    "    # Store the result\n",
    "    if result.success:\n",
    "        optimal_omega_values[i] = result.x[0]\n",
    "\n",
    "optimal_omega = np.diag(optimal_omega_values)\n",
    "\n",
    "\n",
    "new_return1 = np.linalg.inv(np.linalg.inv(tao*np.array(sigma)) +  P.T@np.linalg.inv(omega1)@P) @ ( np.linalg.inv(tao*sigma)@np.array(implied_return) + P.T@np.linalg.inv(omega1)@Q)\n",
    "new_return2 = np.linalg.inv(np.linalg.inv(tao*np.array(sigma)) +  P.T@np.linalg.inv(optimal_omega)@P) @ ( np.linalg.inv(tao*sigma)@np.array(implied_return) + P.T@np.linalg.inv(optimal_omega)@Q)\n",
    "confident_return = np.array(implied_return) + tao*sigma@P.T@(np.linalg.inv((P@np.array(tao*sigma)@P.T)))@(Q-P@np.array(implied_return))\n",
    "\n",
    "weights_new1 = np.array(np.linalg.inv(lam*np.array(sigma))@new_return1)\n",
    "weights_confident = np.array(np.linalg.inv(lam*np.array(sigma))@confident_return)"
   ]
  },
  {
   "cell_type": "code",
   "execution_count": 109,
   "id": "88e806ce-fb26-46a5-949d-d534625206b5",
   "metadata": {},
   "outputs": [
    {
     "data": {
      "text/html": [
       "<div>\n",
       "<style scoped>\n",
       "    .dataframe tbody tr th:only-of-type {\n",
       "        vertical-align: middle;\n",
       "    }\n",
       "\n",
       "    .dataframe tbody tr th {\n",
       "        vertical-align: top;\n",
       "    }\n",
       "\n",
       "    .dataframe thead th {\n",
       "        text-align: right;\n",
       "    }\n",
       "</style>\n",
       "<table border=\"1\" class=\"dataframe\">\n",
       "  <thead>\n",
       "    <tr style=\"text-align: right;\">\n",
       "      <th></th>\n",
       "      <th>New Combined Return E(R)</th>\n",
       "      <th>100% Confidence on Views Returns</th>\n",
       "      <th>Implied Equilibrium Return Π</th>\n",
       "    </tr>\n",
       "  </thead>\n",
       "  <tbody>\n",
       "    <tr>\n",
       "      <th>bitcoin</th>\n",
       "      <td>1.30%</td>\n",
       "      <td>1.34%</td>\n",
       "      <td>1.29%</td>\n",
       "    </tr>\n",
       "    <tr>\n",
       "      <th>ethereum</th>\n",
       "      <td>1.83%</td>\n",
       "      <td>1.99%</td>\n",
       "      <td>1.54%</td>\n",
       "    </tr>\n",
       "    <tr>\n",
       "      <th>solana</th>\n",
       "      <td>2.14%</td>\n",
       "      <td>2.50%</td>\n",
       "      <td>1.82%</td>\n",
       "    </tr>\n",
       "    <tr>\n",
       "      <th>binancecoin</th>\n",
       "      <td>1.70%</td>\n",
       "      <td>2.04%</td>\n",
       "      <td>1.56%</td>\n",
       "    </tr>\n",
       "    <tr>\n",
       "      <th>ripple</th>\n",
       "      <td>1.42%</td>\n",
       "      <td>1.60%</td>\n",
       "      <td>1.25%</td>\n",
       "    </tr>\n",
       "    <tr>\n",
       "      <th>cardano</th>\n",
       "      <td>1.86%</td>\n",
       "      <td>1.86%</td>\n",
       "      <td>1.64%</td>\n",
       "    </tr>\n",
       "    <tr>\n",
       "      <th>avalanche-2</th>\n",
       "      <td>2.43%</td>\n",
       "      <td>2.53%</td>\n",
       "      <td>2.18%</td>\n",
       "    </tr>\n",
       "    <tr>\n",
       "      <th>dogecoin</th>\n",
       "      <td>2.60%</td>\n",
       "      <td>3.04%</td>\n",
       "      <td>2.14%</td>\n",
       "    </tr>\n",
       "    <tr>\n",
       "      <th>polkadot</th>\n",
       "      <td>1.67%</td>\n",
       "      <td>1.73%</td>\n",
       "      <td>1.53%</td>\n",
       "    </tr>\n",
       "    <tr>\n",
       "      <th>matic-network</th>\n",
       "      <td>2.23%</td>\n",
       "      <td>2.43%</td>\n",
       "      <td>1.72%</td>\n",
       "    </tr>\n",
       "    <tr>\n",
       "      <th>tron</th>\n",
       "      <td>1.10%</td>\n",
       "      <td>1.28%</td>\n",
       "      <td>1.01%</td>\n",
       "    </tr>\n",
       "    <tr>\n",
       "      <th>chainlink</th>\n",
       "      <td>1.53%</td>\n",
       "      <td>1.65%</td>\n",
       "      <td>1.39%</td>\n",
       "    </tr>\n",
       "    <tr>\n",
       "      <th>litecoin</th>\n",
       "      <td>1.53%</td>\n",
       "      <td>1.66%</td>\n",
       "      <td>1.42%</td>\n",
       "    </tr>\n",
       "    <tr>\n",
       "      <th>cosmos</th>\n",
       "      <td>1.51%</td>\n",
       "      <td>1.65%</td>\n",
       "      <td>1.37%</td>\n",
       "    </tr>\n",
       "  </tbody>\n",
       "</table>\n",
       "</div>"
      ],
      "text/plain": [
       "              New Combined Return E(R) 100% Confidence on Views Returns  \\\n",
       "bitcoin                          1.30%                            1.34%   \n",
       "ethereum                         1.83%                            1.99%   \n",
       "solana                           2.14%                            2.50%   \n",
       "binancecoin                      1.70%                            2.04%   \n",
       "ripple                           1.42%                            1.60%   \n",
       "cardano                          1.86%                            1.86%   \n",
       "avalanche-2                      2.43%                            2.53%   \n",
       "dogecoin                         2.60%                            3.04%   \n",
       "polkadot                         1.67%                            1.73%   \n",
       "matic-network                    2.23%                            2.43%   \n",
       "tron                             1.10%                            1.28%   \n",
       "chainlink                        1.53%                            1.65%   \n",
       "litecoin                         1.53%                            1.66%   \n",
       "cosmos                           1.51%                            1.65%   \n",
       "\n",
       "              Implied Equilibrium Return Π  \n",
       "bitcoin                              1.29%  \n",
       "ethereum                             1.54%  \n",
       "solana                               1.82%  \n",
       "binancecoin                          1.56%  \n",
       "ripple                               1.25%  \n",
       "cardano                              1.64%  \n",
       "avalanche-2                          2.18%  \n",
       "dogecoin                             2.14%  \n",
       "polkadot                             1.53%  \n",
       "matic-network                        1.72%  \n",
       "tron                                 1.01%  \n",
       "chainlink                            1.39%  \n",
       "litecoin                             1.42%  \n",
       "cosmos                               1.37%  "
      ]
     },
     "execution_count": 109,
     "metadata": {},
     "output_type": "execute_result"
    }
   ],
   "source": [
    "results4_df = pd.DataFrame({\n",
    "    'New Combined Return E(R)': new_return2.flatten(),\n",
    "    '100% Confidence on Views Returns'   : np.array(confident_return).flatten(),\n",
    "    'Implied Equilibrium Return Π': np.array(implied_return).flatten(),\n",
    "}, index=tickers)\n",
    "\n",
    "# Format the numbers to round them to two decimal places and convert to percentage\n",
    "results4_df['New Combined Return E(R)'] = results4_df['New Combined Return E(R)'].apply(lambda x: f\"{x:.2%}\")\n",
    "results4_df['100% Confidence on Views Returns'] = results4_df['100% Confidence on Views Returns'].apply(lambda x: f\"{x:.2%}\")\n",
    "results4_df['Implied Equilibrium Return Π'] = results4_df['Implied Equilibrium Return Π'].apply(lambda x: f\"{x:.2%}\")\n",
    "\n",
    "results4_df"
   ]
  },
  {
   "cell_type": "code",
   "execution_count": 114,
   "id": "9e11f0b1-08eb-45a1-85f3-c2b020e3914a",
   "metadata": {},
   "outputs": [],
   "source": [
    "weights_new2 = np.array(np.linalg.inv(lam*np.array(sigma))@new_return2)"
   ]
  },
  {
   "cell_type": "code",
   "execution_count": null,
   "id": "a4eeb6cf-d71f-48e4-9019-c3deb684facb",
   "metadata": {},
   "outputs": [],
   "source": [
    "'Historical Weights' : np.array(weights_historical).flatten(),\n",
    "'MVDA10 CAPM Weights' : np.array(weights_bitwise).flatten()"
   ]
  },
  {
   "cell_type": "code",
   "execution_count": 123,
   "id": "efed3828-b19e-40fa-881d-c6fd53d9b173",
   "metadata": {},
   "outputs": [
    {
     "data": {
      "text/html": [
       "<div>\n",
       "<style scoped>\n",
       "    .dataframe tbody tr th:only-of-type {\n",
       "        vertical-align: middle;\n",
       "    }\n",
       "\n",
       "    .dataframe tbody tr th {\n",
       "        vertical-align: top;\n",
       "    }\n",
       "\n",
       "    .dataframe thead th {\n",
       "        text-align: right;\n",
       "    }\n",
       "</style>\n",
       "<table border=\"1\" class=\"dataframe\">\n",
       "  <thead>\n",
       "    <tr style=\"text-align: right;\">\n",
       "      <th></th>\n",
       "      <th>Posterior Weights</th>\n",
       "      <th>Prior Weights</th>\n",
       "      <th>100% Confidence Weights</th>\n",
       "    </tr>\n",
       "  </thead>\n",
       "  <tbody>\n",
       "    <tr>\n",
       "      <th>bitcoin</th>\n",
       "      <td>0.233349</td>\n",
       "      <td>0.594589</td>\n",
       "      <td>0.053101</td>\n",
       "    </tr>\n",
       "    <tr>\n",
       "      <th>ethereum</th>\n",
       "      <td>0.589431</td>\n",
       "      <td>0.227982</td>\n",
       "      <td>0.802737</td>\n",
       "    </tr>\n",
       "    <tr>\n",
       "      <th>solana</th>\n",
       "      <td>0.022987</td>\n",
       "      <td>0.015973</td>\n",
       "      <td>0.093185</td>\n",
       "    </tr>\n",
       "    <tr>\n",
       "      <th>binancecoin</th>\n",
       "      <td>0.064454</td>\n",
       "      <td>0.044789</td>\n",
       "      <td>0.26129</td>\n",
       "    </tr>\n",
       "    <tr>\n",
       "      <th>ripple</th>\n",
       "      <td>0.027619</td>\n",
       "      <td>0.027619</td>\n",
       "      <td>0.027619</td>\n",
       "    </tr>\n",
       "    <tr>\n",
       "      <th>cardano</th>\n",
       "      <td>0.00697</td>\n",
       "      <td>0.02356</td>\n",
       "      <td>-0.159075</td>\n",
       "    </tr>\n",
       "    <tr>\n",
       "      <th>avalanche-2</th>\n",
       "      <td>0.007068</td>\n",
       "      <td>0.007068</td>\n",
       "      <td>0.007068</td>\n",
       "    </tr>\n",
       "    <tr>\n",
       "      <th>dogecoin</th>\n",
       "      <td>0.014431</td>\n",
       "      <td>0.014431</td>\n",
       "      <td>0.014431</td>\n",
       "    </tr>\n",
       "    <tr>\n",
       "      <th>polkadot</th>\n",
       "      <td>0.004239</td>\n",
       "      <td>0.014329</td>\n",
       "      <td>-0.096749</td>\n",
       "    </tr>\n",
       "    <tr>\n",
       "      <th>matic-network</th>\n",
       "      <td>0.058349</td>\n",
       "      <td>0.006508</td>\n",
       "      <td>0.053365</td>\n",
       "    </tr>\n",
       "    <tr>\n",
       "      <th>tron</th>\n",
       "      <td>0.00566</td>\n",
       "      <td>0.00566</td>\n",
       "      <td>0.00566</td>\n",
       "    </tr>\n",
       "    <tr>\n",
       "      <th>chainlink</th>\n",
       "      <td>-0.045517</td>\n",
       "      <td>0.006324</td>\n",
       "      <td>-0.040533</td>\n",
       "    </tr>\n",
       "    <tr>\n",
       "      <th>litecoin</th>\n",
       "      <td>0.007215</td>\n",
       "      <td>0.007215</td>\n",
       "      <td>0.007215</td>\n",
       "    </tr>\n",
       "    <tr>\n",
       "      <th>cosmos</th>\n",
       "      <td>0.003953</td>\n",
       "      <td>0.003953</td>\n",
       "      <td>0.003953</td>\n",
       "    </tr>\n",
       "  </tbody>\n",
       "</table>\n",
       "</div>"
      ],
      "text/plain": [
       "              Posterior Weights Prior Weights 100% Confidence Weights\n",
       "bitcoin                0.233349      0.594589                0.053101\n",
       "ethereum               0.589431      0.227982                0.802737\n",
       "solana                 0.022987      0.015973                0.093185\n",
       "binancecoin            0.064454      0.044789                 0.26129\n",
       "ripple                 0.027619      0.027619                0.027619\n",
       "cardano                 0.00697       0.02356               -0.159075\n",
       "avalanche-2            0.007068      0.007068                0.007068\n",
       "dogecoin               0.014431      0.014431                0.014431\n",
       "polkadot               0.004239      0.014329               -0.096749\n",
       "matic-network          0.058349      0.006508                0.053365\n",
       "tron                    0.00566       0.00566                 0.00566\n",
       "chainlink             -0.045517      0.006324               -0.040533\n",
       "litecoin               0.007215      0.007215                0.007215\n",
       "cosmos                 0.003953      0.003953                0.003953"
      ]
     },
     "execution_count": 123,
     "metadata": {},
     "output_type": "execute_result"
    }
   ],
   "source": [
    "weights_df = pd.DataFrame({\n",
    "    'Posterior Weights': weights_new2.flatten(),\n",
    "    'Prior Weights': weights_pi.flatten(),\n",
    "    '100% Confidence Weights' : weights_confident.flatten(),\n",
    "}, index=tickers)\n",
    "\n",
    "weights_df"
   ]
  },
  {
   "cell_type": "code",
   "execution_count": 124,
   "id": "b433e822-abb1-4784-b984-a5d0a8deaab9",
   "metadata": {},
   "outputs": [
    {
     "data": {
      "image/png": "[encoded data removed]",
      "text/plain": [
       "<Figure size 1500x800 with 1 Axes>"
      ]
     },
     "metadata": {},
     "output_type": "display_data"
    }
   ],
   "source": [
    "# Create a grouped bar chart\n",
    "fig, ax = plt.subplots(figsize=(15, 8))\n",
    "width = 0.2  # Width of the bars\n",
    "num_bars = len(weights_df.columns)\n",
    "indices = range(len(weights_df))\n",
    "\n",
    "# Enumerate over columns to create grouped bars for each cryptocurrency\n",
    "for i, col in enumerate(weights_df.columns):\n",
    "    ax.bar([x + width*i for x in indices], weights_df[col], width, label=col, edgecolor='black')\n",
    "\n",
    "# Add some customizations\n",
    "ax.set_ylabel('Weights')\n",
    "ax.set_xticks([r + width*(num_bars/2 - 0.5) for r in indices])\n",
    "ax.set_xticklabels(weights_df.index, rotation=45, ha='right')\n",
    "ax.legend()\n",
    "\n",
    "# Show the plot\n",
    "plt.tight_layout()\n",
    "plt.show()\n"
   ]
  },
  {
   "cell_type": "markdown",
   "id": "8cec524a-dd33-4f65-bdaa-11a4055fd8b4",
   "metadata": {},
   "source": [
    "## Portfolio statistics, weekly basis"
   ]
  },
  {
   "cell_type": "code",
   "execution_count": 183,
   "id": "5a785c94-e4e0-4bb5-96d6-d981f31d5fff",
   "metadata": {},
   "outputs": [
    {
     "data": {
      "text/html": [
       "<div>\n",
       "<style scoped>\n",
       "    .dataframe tbody tr th:only-of-type {\n",
       "        vertical-align: middle;\n",
       "    }\n",
       "\n",
       "    .dataframe tbody tr th {\n",
       "        vertical-align: top;\n",
       "    }\n",
       "\n",
       "    .dataframe thead th {\n",
       "        text-align: right;\n",
       "    }\n",
       "</style>\n",
       "<table border=\"1\" class=\"dataframe\">\n",
       "  <thead>\n",
       "    <tr style=\"text-align: right;\">\n",
       "      <th></th>\n",
       "      <th>Market Capitalization-Weighted Portfolio</th>\n",
       "      <th>Black-Litterman Portfolio</th>\n",
       "      <th>Historical</th>\n",
       "    </tr>\n",
       "  </thead>\n",
       "  <tbody>\n",
       "    <tr>\n",
       "      <th>Excess Returns</th>\n",
       "      <td>1.40%</td>\n",
       "      <td>1.74%</td>\n",
       "      <td>4.23%</td>\n",
       "    </tr>\n",
       "    <tr>\n",
       "      <th>Variance</th>\n",
       "      <td>0.006485</td>\n",
       "      <td>0.008043</td>\n",
       "      <td>0.019617</td>\n",
       "    </tr>\n",
       "    <tr>\n",
       "      <th>Std. Deviation</th>\n",
       "      <td>8.053%</td>\n",
       "      <td>8.968%</td>\n",
       "      <td>14.006%</td>\n",
       "    </tr>\n",
       "    <tr>\n",
       "      <th>Beta</th>\n",
       "      <td>1.0</td>\n",
       "      <td>1.08131</td>\n",
       "      <td>1.059696</td>\n",
       "    </tr>\n",
       "    <tr>\n",
       "      <th>Residual Return</th>\n",
       "      <td>--</td>\n",
       "      <td>0.0022%</td>\n",
       "      <td>0.0275%</td>\n",
       "    </tr>\n",
       "    <tr>\n",
       "      <th>Residual Risk</th>\n",
       "      <td>--</td>\n",
       "      <td>0.0214%</td>\n",
       "      <td>0.1111%</td>\n",
       "    </tr>\n",
       "    <tr>\n",
       "      <th>Active Return</th>\n",
       "      <td>--</td>\n",
       "      <td>0.0034%</td>\n",
       "      <td>0.0283%</td>\n",
       "    </tr>\n",
       "    <tr>\n",
       "      <th>Active Risk</th>\n",
       "      <td>--</td>\n",
       "      <td>0.0224%</td>\n",
       "      <td>0.1112%</td>\n",
       "    </tr>\n",
       "    <tr>\n",
       "      <th>Sharpe Ratio</th>\n",
       "      <td>0.173781</td>\n",
       "      <td>0.193521</td>\n",
       "      <td>0.302237</td>\n",
       "    </tr>\n",
       "    <tr>\n",
       "      <th>Information Ratio</th>\n",
       "      <td>--</td>\n",
       "      <td>0.141796</td>\n",
       "      <td>0.24728</td>\n",
       "    </tr>\n",
       "  </tbody>\n",
       "</table>\n",
       "</div>"
      ],
      "text/plain": [
       "                  Market Capitalization-Weighted Portfolio  \\\n",
       "Excess Returns                                       1.40%   \n",
       "Variance                                          0.006485   \n",
       "Std. Deviation                                      8.053%   \n",
       "Beta                                                   1.0   \n",
       "Residual Return                                         --   \n",
       "Residual Risk                                           --   \n",
       "Active Return                                           --   \n",
       "Active Risk                                             --   \n",
       "Sharpe Ratio                                      0.173781   \n",
       "Information Ratio                                       --   \n",
       "\n",
       "                  Black-Litterman Portfolio Historical  \n",
       "Excess Returns                        1.74%      4.23%  \n",
       "Variance                           0.008043   0.019617  \n",
       "Std. Deviation                       8.968%    14.006%  \n",
       "Beta                                1.08131   1.059696  \n",
       "Residual Return                     0.0022%    0.0275%  \n",
       "Residual Risk                       0.0214%    0.1111%  \n",
       "Active Return                       0.0034%    0.0283%  \n",
       "Active Risk                         0.0224%    0.1112%  \n",
       "Sharpe Ratio                       0.193521   0.302237  \n",
       "Information Ratio                  0.141796    0.24728  "
      ]
     },
     "execution_count": 183,
     "metadata": {},
     "output_type": "execute_result"
    }
   ],
   "source": [
    "### Excess Returns\n",
    "mktcap_excess = float(weights_pi.T @ np.array(implied_return)) - rf\n",
    "bl_excess = float(weights_new2.T @ new_return2) - rf\n",
    "historical_excess = float(weights_historical.T @ np.array(historical_df)) - rf\n",
    "\n",
    "### Variances\n",
    "var_pi = float(np.array(weights_pi.T@sigma@weights_pi))\n",
    "var_bl = float(np.array(weights_new2.T@sigma@weights_new2))\n",
    "var_historical = float(np.array(weights_historical.T@sigma@weights_historical))\n",
    "\n",
    "### Beta\n",
    "mktcap_weekly = np.array((weights_pi.T @ returns_df.tail(171).T), dtype='float64')\n",
    "bl_weekly = np.array(weights_new2.T @ returns_df.tail(171).T, dtype='float64')\n",
    "historical_weekly = np.array(weights_historical.T @ returns_df.tail(171).T, dtype='float64')\n",
    "\n",
    "beta_mktcap = np.linalg.inv(mktcap_weekly @ mktcap_weekly.T) @ mktcap_weekly @ mktcap_weekly.T\n",
    "beta_bl = np.linalg.inv(mktcap_weekly @ mktcap_weekly.T) @ mktcap_weekly @ bl_weekly.T\n",
    "beta_historical = np.linalg.inv(mktcap_weekly @ mktcap_weekly.T) @ mktcap_weekly @ historical_weekly.T\n",
    "\n",
    "### Residual Return\n",
    "theta_p = np.array(bl_excess - beta_bl*mktcap_excess)\n",
    "theta_p_hist = np.array(historical_excess - beta_historical*mktcap_excess)\n",
    "\n",
    "### Residual Risk\n",
    "omega_p = np.array(var_bl - beta_bl**2*var_pi)**(1/2)\n",
    "omega_p_hist = np.array(var_historical - beta_historical**2*var_pi)**(1/2)\n",
    "\n",
    "### Active Ret\n",
    "active_ret = bl_excess-mktcap_excess\n",
    "active_ret_hist = historical_excess-mktcap_excess\n",
    "\n",
    "### Active Risk\n",
    "active_risk = (omega_p**2+((beta_bl-1)**2)*var_pi)**(1/2)\n",
    "active_risk_hist = (omega_p_hist**2+((beta_historical-1)**2)*var_pi)**(1/2)\n",
    "\n",
    "### Sharpe Ratio\n",
    "sharpe_mktcap = (mktcap_excess-rf)/(var_pi)**(1/2)\n",
    "sharpe_bl = (bl_excess-rf)/(var_bl)**(1/2)\n",
    "sharpe_hist = (historical_excess-rf)/(var_historical)**(1/2)\n",
    "\n",
    "### Tracking Error:\n",
    "TE = np.std(bl_weekly - mktcap_weekly, ddof=1)\n",
    "TE_hist = np.std(historical_weekly - mktcap_weekly, ddof=1)\n",
    "\n",
    "### Information Ratio\n",
    "IR = active_ret / TE\n",
    "IR_hist = active_ret_hist / TE_hist\n",
    "\n",
    "######\n",
    "pf_statistics = pd.DataFrame({\n",
    "       'Market Capitalization-Weighted Portfolio' : [mktcap_excess],\n",
    "       'Black-Litterman Portfolio' : [bl_excess],\n",
    "       'Historical' : [historical_excess]\n",
    "}, index = ['Excess Returns'])\n",
    "\n",
    "pf_statistics.loc['Variance'] = [var_pi  , var_bl, var_historical]\n",
    "\n",
    "pf_statistics.loc['Std. Deviation'] = [var_pi**(1/2)  , var_bl**(1/2), var_historical**(1/2)]\n",
    "\n",
    "pf_statistics.loc['Beta'] = [float(beta_mktcap)  , float(beta_bl), float(beta_historical)]\n",
    "\n",
    "pf_statistics.loc['Residual Return'] = [ '--' , float(theta_p), float(theta_p_hist)]\n",
    "\n",
    "pf_statistics.loc['Residual Risk'] = [ '--' , float(omega_p), float(omega_p_hist)]\n",
    "\n",
    "pf_statistics.loc['Active Return'] = [ '--' , active_ret, active_ret_hist]\n",
    "\n",
    "pf_statistics.loc['Active Risk'] = [ '--' , float(active_risk), float(active_risk_hist)]\n",
    "\n",
    "pf_statistics.loc['Sharpe Ratio'] = [sharpe_mktcap , sharpe_bl, sharpe_hist]\n",
    "\n",
    "pf_statistics.loc['Information Ratio'] = [ '--' , float(IR), float(IR_hist)]\n",
    "\n",
    "pf_statistics.loc['Excess Returns', :] = pf_statistics.loc['Excess Returns', :].apply(lambda x: f\"{x:.2%}\")\n",
    "\n",
    "pf_statistics.loc['Std. Deviation', :] = pf_statistics.loc['Std. Deviation', :].apply(lambda x: f\"{x:.3%}\")\n",
    "\n",
    "pf_statistics.loc['Residual Return', 'Black-Litterman Portfolio'] = str(round(pf_statistics.loc['Residual Return', 'Black-Litterman Portfolio'],4)) + '%'\n",
    "\n",
    "pf_statistics.loc['Residual Risk', 'Black-Litterman Portfolio'] = str(round(pf_statistics.loc['Residual Risk', 'Black-Litterman Portfolio'],4)) + '%'\n",
    "\n",
    "pf_statistics.loc['Active Return', 'Black-Litterman Portfolio'] = str(round(pf_statistics.loc['Active Return', 'Black-Litterman Portfolio'],4)) + '%'\n",
    "\n",
    "pf_statistics.loc['Active Risk', 'Black-Litterman Portfolio'] = str(round(pf_statistics.loc['Active Risk', 'Black-Litterman Portfolio'],4)) + '%'\n",
    "\n",
    "pf_statistics.loc['Residual Return', 'Historical'] = str(round(pf_statistics.loc['Residual Return', 'Historical'],4)) + '%'\n",
    "\n",
    "pf_statistics.loc['Residual Risk', 'Historical'] = str(round(pf_statistics.loc['Residual Risk', 'Historical'],4)) + '%'\n",
    "\n",
    "pf_statistics.loc['Active Return', 'Historical'] = str(round(pf_statistics.loc['Active Return', 'Historical'],4)) + '%'\n",
    "\n",
    "pf_statistics.loc['Active Risk', 'Historical'] = str(round(pf_statistics.loc['Active Risk', 'Historical'],4)) + '%'\n",
    "\n",
    "pf_statistics"
   ]
  },
  {
   "cell_type": "markdown",
   "id": "7b8b717e-4067-442a-b4d5-5bc91b666113",
   "metadata": {},
   "source": [
    "---------------"
   ]
  },
  {
   "cell_type": "markdown",
   "id": "7f36a241-1684-424c-ad03-832c1e27c15b",
   "metadata": {},
   "source": [
    "### Visualization of the Distribution"
   ]
  },
  {
   "cell_type": "markdown",
   "id": "05409bcb-ebc9-4770-b91e-22145f7395ce",
   "metadata": {},
   "source": [
    "New Combined Return Distribution\n",
    "\n",
    "$$ N \\sim (\\mathbb{E}[R], [(\\tau\\Sigma)^{-1} + (P' \\Omega^{-1} P)]^{-1}) $$\n",
    "\n"
   ]
  },
  {
   "cell_type": "markdown",
   "id": "f5ea389e-6650-44ac-ac6b-5fcf6975a16d",
   "metadata": {},
   "source": [
    "----------"
   ]
  },
  {
   "cell_type": "markdown",
   "id": "fa9c537e-cc18-477e-8905-dd92e9d1dd6d",
   "metadata": {},
   "source": [
    "##### The posterior distribution of expected returns in the Black-Litterman model <br>\n",
    "\n",
    "In the following chunks, I will be computing the Posterior Distribution by generating random samples constructed using the Posterior Mean and the Posterior Covariance Matrix."
   ]
  },
  {
   "cell_type": "markdown",
   "id": "51fc6b25-7252-426d-9deb-d5fdc932914c",
   "metadata": {},
   "source": [
    "1) Posterior Mean: The posterior mean is simply the New Combined Return Vector E(R) that we previously computed using the Black-Littermann formula."
   ]
  },
  {
   "cell_type": "code",
   "execution_count": 495,
   "id": "5926784a-2642-4a35-9cbe-640281129e40",
   "metadata": {},
   "outputs": [
    {
     "data": {
      "text/plain": [
       "(14, 1)"
      ]
     },
     "execution_count": 495,
     "metadata": {},
     "output_type": "execute_result"
    }
   ],
   "source": [
    "new_return2.shape"
   ]
  },
  {
   "cell_type": "markdown",
   "id": "be6c5bbe-0afc-4ef1-96d4-f965dae2b25a",
   "metadata": {},
   "source": [
    "2. Posterior Covariance Matrix, which incorporates the uncertainty of the investor's views is given by:\n",
    "$$\n",
    "\\Sigma_{\\text{posterior}} = [(\\tau\\Sigma)^{-1} + (P' \\Omega^{-1} P)]^{-1}\n",
    "$$\n"
   ]
  },
  {
   "cell_type": "code",
   "execution_count": 131,
   "id": "b4a502de-ecf1-4813-81e2-2eb8e976df80",
   "metadata": {},
   "outputs": [
    {
     "data": {
      "text/plain": [
       "(14, 14)"
      ]
     },
     "execution_count": 131,
     "metadata": {},
     "output_type": "execute_result"
    }
   ],
   "source": [
    "sigma_posterior = (np.linalg.inv(np.linalg.inv(tao*np.array(sigma)) +  P.T@np.linalg.inv(omega)@P))\n",
    "sigma_posterior.shape"
   ]
  },
  {
   "cell_type": "markdown",
   "id": "4322ce33-1ea1-4189-b17a-e13b28f18521",
   "metadata": {},
   "source": [
    "3. Simulate the Posterior Distribution: With the posterior mean and posterior covariance matrix, we can simulate the posterior distribution of returns using a Monte Carlo approach. This involves drawing random samples from a multivariate normal distribution defined by the posterior mean and posterior covariance matrix."
   ]
  },
  {
   "cell_type": "code",
   "execution_count": 157,
   "id": "977c22f5-746e-4ffe-bd13-cd003466ba0b",
   "metadata": {},
   "outputs": [],
   "source": [
    "# Number of simulations\n",
    "num_simulations = 10000\n",
    "# Simulating the posterior distribution\n",
    "simulated_returns = np.random.multivariate_normal(np.squeeze(new_return2).astype('float64')*52, sigma_posterior*52, num_simulations)"
   ]
  },
  {
   "cell_type": "markdown",
   "id": "f316aa65-2711-455f-8ed3-f8f238b1218a",
   "metadata": {},
   "source": [
    "Analyzing the results:"
   ]
  },
  {
   "cell_type": "code",
   "execution_count": 177,
   "id": "e528a411-df45-451c-a5f5-c5e1f77580f2",
   "metadata": {},
   "outputs": [
    {
     "data": {
      "image/png": "[encoded data removed]",
      "text/plain": [
       "<Figure size 1000x600 with 1 Axes>"
      ]
     },
     "metadata": {},
     "output_type": "display_data"
    }
   ],
   "source": [
    "# Calculate portfolio returns for each sample\n",
    "portfolio_returns = np.sum(simulated_returns, axis=1)\n",
    "\n",
    "# Compute mean, standard deviation, and percentiles\n",
    "mean_return = np.mean(portfolio_returns)\n",
    "std_deviation = np.std(portfolio_returns)\n",
    "percentile_5 = np.percentile(portfolio_returns, 5)\n",
    "percentile_95 = np.percentile(portfolio_returns, 95)\n",
    "\n",
    "# Calculate the density for the Highest Posterior Density (HPD) region\n",
    "density = gaussian_kde(portfolio_returns)\n",
    "xs = np.linspace(portfolio_returns.min(), portfolio_returns.max(), 200)\n",
    "density.covariance_factor = lambda : .25\n",
    "density._compute_covariance()\n",
    "\n",
    "# Plotting\n",
    "plt.figure(figsize=(10, 6))\n",
    "sns.histplot(portfolio_returns, bins=50, kde=False, stat=\"density\")\n",
    "plt.xlabel('Total Return')\n",
    "plt.ylabel('Density')\n",
    "\n",
    "# Descriptive statistics and HPD region\n",
    "plt.axvline(mean_return, color='red', linestyle='dashed', linewidth=1, label=f'Mean: {mean_return:.2f}')\n",
    "plt.axvline(mean_return + std_deviation, color='blue', linestyle='dashed', linewidth=1, label=f'+1 Std Dev')\n",
    "plt.axvline(mean_return - std_deviation, color='blue', linestyle='dashed', linewidth=1, label=f'-1 Std Dev')\n",
    "plt.axvline(percentile_5, color='green', linestyle='dashed', linewidth=1, label=f'5th Percentile')\n",
    "plt.axvline(percentile_95, color='orange', linestyle='dashed', linewidth=1, label=f'95th Percentile')\n",
    "plt.fill_between(xs, density(xs), where=(xs > percentile_5) & (xs < percentile_95), color=\"gray\", alpha=0.5, label='HPD Region (5% - 95%)')\n",
    "\n",
    "plt.legend()\n",
    "plt.show()"
   ]
  },
  {
   "cell_type": "markdown",
   "id": "fe89d5ac-7931-4d48-9468-59146be0983f",
   "metadata": {},
   "source": [
    "### Hyp Testing"
   ]
  },
  {
   "cell_type": "code",
   "execution_count": 178,
   "id": "40fe12d3-4fa8-468c-86ee-2fbcf7d6b5ca",
   "metadata": {},
   "outputs": [
    {
     "name": "stdout",
     "output_type": "stream",
     "text": [
      "Probability of H1 (mean return > pi): 0.9908\n",
      "Probability of H2 (mean return <= pi): 0.009199999999999986\n"
     ]
    },
    {
     "name": "stderr",
     "output_type": "stream",
     "text": [
      "C:\\Users\\Martin\\anaconda3\\lib\\site-packages\\numpy\\core\\fromnumeric.py:3472: FutureWarning: In a future version, DataFrame.mean(axis=None) will return a scalar mean over the entire DataFrame. To retain the old behavior, use 'frame.mean(axis=0)' or just 'frame.mean()'\n",
      "  return mean(axis=axis, dtype=dtype, out=out, **kwargs)\n"
     ]
    }
   ],
   "source": [
    "# Hypothesis testing\n",
    "prob_H1 = np.mean(portfolio_returns > float(np.mean(implied_return)))\n",
    "prob_H2 = 1 - prob_H1\n",
    "\n",
    "print(f\"Probability of H1 (mean return > pi): {prob_H1}\")\n",
    "print(f\"Probability of H2 (mean return <= pi): {prob_H2}\")"
   ]
  }
 ],
 "metadata": {
  "kernelspec": {
   "display_name": "Python 3 (ipykernel)",
   "language": "python",
   "name": "python3"
  },
  "language_info": {
   "codemirror_mode": {
    "name": "ipython",
    "version": 3
   },
   "file_extension": ".py",
   "mimetype": "text/x-python",
   "name": "python",
   "nbconvert_exporter": "python",
   "pygments_lexer": "ipython3",
   "version": "3.9.13"
  },
  "toc-autonumbering": false,
  "toc-showcode": false,
  "toc-showmarkdowntxt": false,
  "toc-showtags": false
 },
 "nbformat": 4,
 "nbformat_minor": 5
}
